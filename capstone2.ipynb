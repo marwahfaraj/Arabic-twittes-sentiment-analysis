{
 "cells": [
  {
   "cell_type": "code",
   "execution_count": 82,
   "id": "03217dd6",
   "metadata": {},
   "outputs": [],
   "source": [
    "import numpy as np \n",
    "import pandas as pd \n",
    "import warnings\n",
    "warnings.filterwarnings(\"ignore\")\n",
    "from wordcloud import WordCloud\n",
    "import matplotlib.pyplot as plt\n",
    "plt.style.use('ggplot')\n",
    "import pandas\n",
    "import seaborn as sns \n",
    "from sklearn import preprocessing\n",
    "import nltk \n",
    "from nltk.corpus import stopwords\n",
    "from nltk.tokenize import word_tokenize\n",
    "from nltk.tokenize import RegexpTokenizer\n",
    "import arabic_reshaper\n",
    "from bidi.algorithm import get_display\n",
    "from collections import Counter \n",
    "import re\n",
    "import string\n",
    "import matplotlib.cm as cm\n",
    "from matplotlib import rcParams\n",
    "from prettytable import PrettyTable\n",
    "from sklearn.feature_extraction.text import TfidfVectorizer\n",
    "from sklearn import preprocessing\n",
    "from sklearn.model_selection import train_test_split\n",
    "from sklearn.metrics import f1_score\n",
    "from sklearn.metrics import precision_score\n",
    "from sklearn.metrics import recall_score\n",
    "from sklearn.naive_bayes import GaussianNB, MultinomialNB\n",
    "from sklearn.linear_model import RidgeClassifier\n",
    "from sklearn.linear_model import LogisticRegression\n",
    "from keras.models import Sequential\n",
    "from keras.layers import Dense\n",
    "from tensorflow.keras.callbacks import EarlyStopping\n",
    "import pickle"
   ]
  },
  {
   "cell_type": "markdown",
   "id": "11ee08d3",
   "metadata": {},
   "source": [
    " "
   ]
  },
  {
   "cell_type": "markdown",
   "id": "2bb42a15",
   "metadata": {},
   "source": [
    "# Reading Arabic_tweets_positive dataset"
   ]
  },
  {
   "cell_type": "markdown",
   "id": "e8eec6af",
   "metadata": {},
   "source": [
    " "
   ]
  },
  {
   "cell_type": "code",
   "execution_count": 2,
   "id": "f9c918d9",
   "metadata": {},
   "outputs": [],
   "source": [
    "#set erro_bad_lines = False, it needed when the csv has too many commas\n",
    "cols = ['class','tweet_text']\n",
    "positive = pd.read_csv('data/Arabic_tweets_positive_20190413.tsv',sep='\\t', error_bad_lines = False ,header=None, names=cols)"
   ]
  },
  {
   "cell_type": "code",
   "execution_count": 3,
   "id": "a153a01f",
   "metadata": {},
   "outputs": [
    {
     "data": {
      "text/html": [
       "<div>\n",
       "<style scoped>\n",
       "    .dataframe tbody tr th:only-of-type {\n",
       "        vertical-align: middle;\n",
       "    }\n",
       "\n",
       "    .dataframe tbody tr th {\n",
       "        vertical-align: top;\n",
       "    }\n",
       "\n",
       "    .dataframe thead th {\n",
       "        text-align: right;\n",
       "    }\n",
       "</style>\n",
       "<table border=\"1\" class=\"dataframe\">\n",
       "  <thead>\n",
       "    <tr style=\"text-align: right;\">\n",
       "      <th></th>\n",
       "      <th>class</th>\n",
       "      <th>tweet_text</th>\n",
       "    </tr>\n",
       "  </thead>\n",
       "  <tbody>\n",
       "    <tr>\n",
       "      <th>0</th>\n",
       "      <td>pos</td>\n",
       "      <td>علييك الله قفل ميتينك ❤</td>\n",
       "    </tr>\n",
       "    <tr>\n",
       "      <th>1</th>\n",
       "      <td>pos</td>\n",
       "      <td>طيار عراقي يسال برج المراقبة في سلطنة عمان عن ...</td>\n",
       "    </tr>\n",
       "    <tr>\n",
       "      <th>2</th>\n",
       "      <td>pos</td>\n",
       "      <td>علمهم تكفى حسبي الله عليهم 🙂</td>\n",
       "    </tr>\n",
       "    <tr>\n",
       "      <th>3</th>\n",
       "      <td>pos</td>\n",
       "      <td>🍀 وعن ذكر الله لا تغفلون لا إله إلا الله لا إل...</td>\n",
       "    </tr>\n",
       "    <tr>\n",
       "      <th>4</th>\n",
       "      <td>pos</td>\n",
       "      <td>كثير من جمهور #الاهلي يقول لي عطنا تشكيلة #اله...</td>\n",
       "    </tr>\n",
       "    <tr>\n",
       "      <th>5</th>\n",
       "      <td>pos</td>\n",
       "      <td>🦋 . . . . \"فيني #قليل من الفرح وأغلب تفاصيلي ز...</td>\n",
       "    </tr>\n",
       "    <tr>\n",
       "      <th>6</th>\n",
       "      <td>pos</td>\n",
       "      <td>#الاهلي_الهلال الحمدلله 💙 آه يا عمري يا الزعيم...</td>\n",
       "    </tr>\n",
       "    <tr>\n",
       "      <th>7</th>\n",
       "      <td>pos</td>\n",
       "      <td>أغنية تايلور سويفت #القوس مع غاري لايتبودي #ال...</td>\n",
       "    </tr>\n",
       "    <tr>\n",
       "      <th>8</th>\n",
       "      <td>pos</td>\n",
       "      <td>🌅 تذكير مهم 🌅 . قال رسول الله ﷺ: لا يحافظ على ...</td>\n",
       "    </tr>\n",
       "    <tr>\n",
       "      <th>9</th>\n",
       "      <td>pos</td>\n",
       "      <td>جنابو زاتو محتار \" اتنين في يومين يجماعه\" 😂</td>\n",
       "    </tr>\n",
       "    <tr>\n",
       "      <th>10</th>\n",
       "      <td>pos</td>\n",
       "      <td>اليوم ليلة جلد مدلل جدة وغدا جلد العالمي المزي...</td>\n",
       "    </tr>\n",
       "    <tr>\n",
       "      <th>11</th>\n",
       "      <td>pos</td>\n",
       "      <td>همسة .. مهما بدت لك الأمور مستحيلة .. تذكر قول...</td>\n",
       "    </tr>\n",
       "    <tr>\n",
       "      <th>12</th>\n",
       "      <td>pos</td>\n",
       "      <td>صباح ارخم يوم في الأسبوع يوم #السبت 🤣 #صباح_الخير</td>\n",
       "    </tr>\n",
       "    <tr>\n",
       "      <th>13</th>\n",
       "      <td>pos</td>\n",
       "      <td>اعتقد ان الكل وصل لمرحله الاستغناء الكل وصل لل...</td>\n",
       "    </tr>\n",
       "    <tr>\n",
       "      <th>14</th>\n",
       "      <td>pos</td>\n",
       "      <td>طيار عراقي يسال برج المراقبة في سلطنة عمان عن ...</td>\n",
       "    </tr>\n",
       "    <tr>\n",
       "      <th>15</th>\n",
       "      <td>pos</td>\n",
       "      <td>اللهم آمين 🌧 مششاء الله 😊 جلستكم تفتح النفس 👌🏻🌹</td>\n",
       "    </tr>\n",
       "    <tr>\n",
       "      <th>16</th>\n",
       "      <td>pos</td>\n",
       "      <td>الهلالي اللي متحزم بالاتحاد مثل النصراوي اللي ...</td>\n",
       "    </tr>\n",
       "    <tr>\n",
       "      <th>17</th>\n",
       "      <td>pos</td>\n",
       "      <td>يمرون البشر في صدري مرور الأنفاس وانت الوحيد ا...</td>\n",
       "    </tr>\n",
       "    <tr>\n",
       "      <th>18</th>\n",
       "      <td>pos</td>\n",
       "      <td>عشرات القتلي والجرحي في #طرابلس بعد هجوم ميلشي...</td>\n",
       "    </tr>\n",
       "    <tr>\n",
       "      <th>19</th>\n",
       "      <td>pos</td>\n",
       "      <td>من أمنيات الطفولة.. 💙</td>\n",
       "    </tr>\n",
       "    <tr>\n",
       "      <th>20</th>\n",
       "      <td>pos</td>\n",
       "      <td>سهل تكون نجم لكن صعب تكون حسين 💚</td>\n",
       "    </tr>\n",
       "    <tr>\n",
       "      <th>21</th>\n",
       "      <td>pos</td>\n",
       "      <td>قبطان ومافي كلام وانا اقول انته جايبها من وين 🤣</td>\n",
       "    </tr>\n",
       "    <tr>\n",
       "      <th>22</th>\n",
       "      <td>pos</td>\n",
       "      <td>سايبهالك يختي 😂 😂</td>\n",
       "    </tr>\n",
       "    <tr>\n",
       "      <th>23</th>\n",
       "      <td>pos</td>\n",
       "      <td>🎥 ملخص مباراة الأهلي : الهلال #الأهلي_الهلال #MBS</td>\n",
       "    </tr>\n",
       "    <tr>\n",
       "      <th>24</th>\n",
       "      <td>pos</td>\n",
       "      <td>و لعل الله يدبر لك شيئا يرضيك به شيئا يجعلك تس...</td>\n",
       "    </tr>\n",
       "    <tr>\n",
       "      <th>25</th>\n",
       "      <td>pos</td>\n",
       "      <td>صباح الخيير ☺️</td>\n",
       "    </tr>\n",
       "    <tr>\n",
       "      <th>26</th>\n",
       "      <td>pos</td>\n",
       "      <td>اللهم آمين تسلم 🌹</td>\n",
       "    </tr>\n",
       "    <tr>\n",
       "      <th>27</th>\n",
       "      <td>pos</td>\n",
       "      <td>ياريت تقرفينا كل يوم بقى 😂😂</td>\n",
       "    </tr>\n",
       "    <tr>\n",
       "      <th>28</th>\n",
       "      <td>pos</td>\n",
       "      <td>نفسي وهموت وابطل كسل ولكن مكسل ابطل كسل 😂</td>\n",
       "    </tr>\n",
       "    <tr>\n",
       "      <th>29</th>\n",
       "      <td>pos</td>\n",
       "      <td>صحيت من النوم لبست احمر وحطت احمر. وهيا مخنوقه...</td>\n",
       "    </tr>\n",
       "    <tr>\n",
       "      <th>30</th>\n",
       "      <td>pos</td>\n",
       "      <td>الباقيات الصالحات : 🌷 • سبحان الله .. • والحمد...</td>\n",
       "    </tr>\n",
       "    <tr>\n",
       "      <th>31</th>\n",
       "      <td>pos</td>\n",
       "      <td>اللهم يا شافي يا معافي انزل عافيتك و شفاؤك على...</td>\n",
       "    </tr>\n",
       "    <tr>\n",
       "      <th>32</th>\n",
       "      <td>pos</td>\n",
       "      <td>يقول عز وجل ( لقد خلقنا الإنسان في أحسن تقويم ...</td>\n",
       "    </tr>\n",
       "    <tr>\n",
       "      <th>33</th>\n",
       "      <td>pos</td>\n",
       "      <td>انا كل ابريل لازم اشكر كل اللي بيقوللي كل سنة ...</td>\n",
       "    </tr>\n",
       "    <tr>\n",
       "      <th>34</th>\n",
       "      <td>pos</td>\n",
       "      <td>ابريل : اللهم اجعل هذا اليوم فرحه لا تنسى لجما...</td>\n",
       "    </tr>\n",
       "    <tr>\n",
       "      <th>35</th>\n",
       "      <td>pos</td>\n",
       "      <td>اللهم صل وسلم على نبينا محمد عليه افضل الصلاة ...</td>\n",
       "    </tr>\n",
       "    <tr>\n",
       "      <th>36</th>\n",
       "      <td>pos</td>\n",
       "      <td>خلينا ندور على الايجابيه غصب 🙂</td>\n",
       "    </tr>\n",
       "    <tr>\n",
       "      <th>37</th>\n",
       "      <td>pos</td>\n",
       "      <td>اوك اغنية bts عجبتني مرا واحس اول مرا يرقصون ر...</td>\n",
       "    </tr>\n",
       "    <tr>\n",
       "      <th>38</th>\n",
       "      <td>pos</td>\n",
       "      <td>كفوو ياعيال زايد 💐</td>\n",
       "    </tr>\n",
       "    <tr>\n",
       "      <th>39</th>\n",
       "      <td>pos</td>\n",
       "      <td>يتحدثون عن اخلاق حسين ونجوم فرقهم نهاياتهم الر...</td>\n",
       "    </tr>\n",
       "    <tr>\n",
       "      <th>40</th>\n",
       "      <td>pos</td>\n",
       "      <td>مارح يفهمون كلاب هلال 😂</td>\n",
       "    </tr>\n",
       "    <tr>\n",
       "      <th>41</th>\n",
       "      <td>pos</td>\n",
       "      <td>رئيس المجلس العسكري السوداني الفريق الركن #عوض...</td>\n",
       "    </tr>\n",
       "    <tr>\n",
       "      <th>42</th>\n",
       "      <td>pos</td>\n",
       "      <td>لو يحط ثلاث بيتروس ماغطوا فيلانويفا . 😆 ماراح ...</td>\n",
       "    </tr>\n",
       "    <tr>\n",
       "      <th>43</th>\n",
       "      <td>pos</td>\n",
       "      <td>#الهلال_والاهلي اسيست خرافي من كنو 👍🏻 وبوتيا ق...</td>\n",
       "    </tr>\n",
       "    <tr>\n",
       "      <th>44</th>\n",
       "      <td>pos</td>\n",
       "      <td>#الاتحاد_النصر نجم المباراة…</td>\n",
       "    </tr>\n",
       "    <tr>\n",
       "      <th>45</th>\n",
       "      <td>pos</td>\n",
       "      <td>بينزلوا من ع الجبل تاني 😩</td>\n",
       "    </tr>\n",
       "    <tr>\n",
       "      <th>46</th>\n",
       "      <td>pos</td>\n",
       "      <td>__ سأبقى على يقين بأن ما أحلم به سيأتي يوما ❤ .</td>\n",
       "    </tr>\n",
       "    <tr>\n",
       "      <th>47</th>\n",
       "      <td>pos</td>\n",
       "      <td>اللهم اعطنا من فيض كرمك ، وبارك لنا في نعمك ، ...</td>\n",
       "    </tr>\n",
       "    <tr>\n",
       "      <th>48</th>\n",
       "      <td>pos</td>\n",
       "      <td>لحظة عناق الليل بالنهار .. لحظة عناق البحر بال...</td>\n",
       "    </tr>\n",
       "    <tr>\n",
       "      <th>49</th>\n",
       "      <td>pos</td>\n",
       "      <td>اللهم احفظنا في كل زمان ومكان.. واكفنا الهموم ...</td>\n",
       "    </tr>\n",
       "  </tbody>\n",
       "</table>\n",
       "</div>"
      ],
      "text/plain": [
       "   class                                         tweet_text\n",
       "0    pos                            علييك الله قفل ميتينك ❤\n",
       "1    pos  طيار عراقي يسال برج المراقبة في سلطنة عمان عن ...\n",
       "2    pos                       علمهم تكفى حسبي الله عليهم 🙂\n",
       "3    pos  🍀 وعن ذكر الله لا تغفلون لا إله إلا الله لا إل...\n",
       "4    pos  كثير من جمهور #الاهلي يقول لي عطنا تشكيلة #اله...\n",
       "5    pos  🦋 . . . . \"فيني #قليل من الفرح وأغلب تفاصيلي ز...\n",
       "6    pos  #الاهلي_الهلال الحمدلله 💙 آه يا عمري يا الزعيم...\n",
       "7    pos  أغنية تايلور سويفت #القوس مع غاري لايتبودي #ال...\n",
       "8    pos  🌅 تذكير مهم 🌅 . قال رسول الله ﷺ: لا يحافظ على ...\n",
       "9    pos        جنابو زاتو محتار \" اتنين في يومين يجماعه\" 😂\n",
       "10   pos  اليوم ليلة جلد مدلل جدة وغدا جلد العالمي المزي...\n",
       "11   pos  همسة .. مهما بدت لك الأمور مستحيلة .. تذكر قول...\n",
       "12   pos  صباح ارخم يوم في الأسبوع يوم #السبت 🤣 #صباح_الخير\n",
       "13   pos  اعتقد ان الكل وصل لمرحله الاستغناء الكل وصل لل...\n",
       "14   pos  طيار عراقي يسال برج المراقبة في سلطنة عمان عن ...\n",
       "15   pos    اللهم آمين 🌧 مششاء الله 😊 جلستكم تفتح النفس 👌🏻🌹\n",
       "16   pos  الهلالي اللي متحزم بالاتحاد مثل النصراوي اللي ...\n",
       "17   pos  يمرون البشر في صدري مرور الأنفاس وانت الوحيد ا...\n",
       "18   pos  عشرات القتلي والجرحي في #طرابلس بعد هجوم ميلشي...\n",
       "19   pos                              من أمنيات الطفولة.. 💙\n",
       "20   pos                   سهل تكون نجم لكن صعب تكون حسين 💚\n",
       "21   pos    قبطان ومافي كلام وانا اقول انته جايبها من وين 🤣\n",
       "22   pos                                  سايبهالك يختي 😂 😂\n",
       "23   pos  🎥 ملخص مباراة الأهلي : الهلال #الأهلي_الهلال #MBS\n",
       "24   pos  و لعل الله يدبر لك شيئا يرضيك به شيئا يجعلك تس...\n",
       "25   pos                                     صباح الخيير ☺️\n",
       "26   pos                                  اللهم آمين تسلم 🌹\n",
       "27   pos                        ياريت تقرفينا كل يوم بقى 😂😂\n",
       "28   pos          نفسي وهموت وابطل كسل ولكن مكسل ابطل كسل 😂\n",
       "29   pos  صحيت من النوم لبست احمر وحطت احمر. وهيا مخنوقه...\n",
       "30   pos  الباقيات الصالحات : 🌷 • سبحان الله .. • والحمد...\n",
       "31   pos  اللهم يا شافي يا معافي انزل عافيتك و شفاؤك على...\n",
       "32   pos  يقول عز وجل ( لقد خلقنا الإنسان في أحسن تقويم ...\n",
       "33   pos  انا كل ابريل لازم اشكر كل اللي بيقوللي كل سنة ...\n",
       "34   pos  ابريل : اللهم اجعل هذا اليوم فرحه لا تنسى لجما...\n",
       "35   pos  اللهم صل وسلم على نبينا محمد عليه افضل الصلاة ...\n",
       "36   pos                     خلينا ندور على الايجابيه غصب 🙂\n",
       "37   pos  اوك اغنية bts عجبتني مرا واحس اول مرا يرقصون ر...\n",
       "38   pos                                 كفوو ياعيال زايد 💐\n",
       "39   pos  يتحدثون عن اخلاق حسين ونجوم فرقهم نهاياتهم الر...\n",
       "40   pos                            مارح يفهمون كلاب هلال 😂\n",
       "41   pos  رئيس المجلس العسكري السوداني الفريق الركن #عوض...\n",
       "42   pos  لو يحط ثلاث بيتروس ماغطوا فيلانويفا . 😆 ماراح ...\n",
       "43   pos  #الهلال_والاهلي اسيست خرافي من كنو 👍🏻 وبوتيا ق...\n",
       "44   pos                       #الاتحاد_النصر نجم المباراة…\n",
       "45   pos                          بينزلوا من ع الجبل تاني 😩\n",
       "46   pos    __ سأبقى على يقين بأن ما أحلم به سيأتي يوما ❤ .\n",
       "47   pos  اللهم اعطنا من فيض كرمك ، وبارك لنا في نعمك ، ...\n",
       "48   pos  لحظة عناق الليل بالنهار .. لحظة عناق البحر بال...\n",
       "49   pos  اللهم احفظنا في كل زمان ومكان.. واكفنا الهموم ..."
      ]
     },
     "execution_count": 3,
     "metadata": {},
     "output_type": "execute_result"
    }
   ],
   "source": [
    "positive.head(50)"
   ]
  },
  {
   "cell_type": "markdown",
   "id": "f0287fdc",
   "metadata": {},
   "source": [
    "# Total no. of postive twittes"
   ]
  },
  {
   "cell_type": "code",
   "execution_count": 4,
   "id": "5fe6768d",
   "metadata": {},
   "outputs": [
    {
     "data": {
      "text/plain": [
       "28536"
      ]
     },
     "execution_count": 4,
     "metadata": {},
     "output_type": "execute_result"
    }
   ],
   "source": [
    "len(positive)"
   ]
  },
  {
   "cell_type": "markdown",
   "id": "543b5bdb",
   "metadata": {},
   "source": [
    " "
   ]
  },
  {
   "cell_type": "markdown",
   "id": "03f70f3c",
   "metadata": {},
   "source": [
    "# Sample of the postive twittes text"
   ]
  },
  {
   "cell_type": "code",
   "execution_count": 5,
   "id": "3c57e70c",
   "metadata": {},
   "outputs": [
    {
     "data": {
      "text/plain": [
       "0                              علييك الله قفل ميتينك ❤\n",
       "1    طيار عراقي يسال برج المراقبة في سلطنة عمان عن ...\n",
       "2                         علمهم تكفى حسبي الله عليهم 🙂\n",
       "3    🍀 وعن ذكر الله لا تغفلون لا إله إلا الله لا إل...\n",
       "4    كثير من جمهور #الاهلي يقول لي عطنا تشكيلة #اله...\n",
       "Name: tweet_text, dtype: object"
      ]
     },
     "execution_count": 5,
     "metadata": {},
     "output_type": "execute_result"
    }
   ],
   "source": [
    "positive['tweet_text'].head()"
   ]
  },
  {
   "cell_type": "markdown",
   "id": "8e5668ec",
   "metadata": {},
   "source": [
    " "
   ]
  },
  {
   "cell_type": "markdown",
   "id": "2c7b7298",
   "metadata": {},
   "source": [
    "# Sample of the target "
   ]
  },
  {
   "cell_type": "code",
   "execution_count": 6,
   "id": "eb4f99de",
   "metadata": {},
   "outputs": [
    {
     "data": {
      "text/plain": [
       "0    pos\n",
       "1    pos\n",
       "2    pos\n",
       "3    pos\n",
       "4    pos\n",
       "Name: class, dtype: object"
      ]
     },
     "execution_count": 6,
     "metadata": {},
     "output_type": "execute_result"
    }
   ],
   "source": [
    "positive['class'].head()"
   ]
  },
  {
   "cell_type": "markdown",
   "id": "7b7768e4",
   "metadata": {},
   "source": [
    " "
   ]
  },
  {
   "cell_type": "markdown",
   "id": "f9892bc3",
   "metadata": {},
   "source": [
    "# EDA on the postive dataset"
   ]
  },
  {
   "cell_type": "code",
   "execution_count": 7,
   "id": "69dd6b2b",
   "metadata": {},
   "outputs": [
    {
     "data": {
      "text/plain": [
       "0"
      ]
     },
     "execution_count": 7,
     "metadata": {},
     "output_type": "execute_result"
    }
   ],
   "source": [
    "np.sum(positive.isnull().any(axis=1))"
   ]
  },
  {
   "cell_type": "code",
   "execution_count": 8,
   "id": "7236a285",
   "metadata": {},
   "outputs": [
    {
     "data": {
      "text/plain": [
       "class         False\n",
       "tweet_text    False\n",
       "dtype: bool"
      ]
     },
     "execution_count": 8,
     "metadata": {},
     "output_type": "execute_result"
    }
   ],
   "source": [
    "positive.isnull().any(axis=0)"
   ]
  },
  {
   "cell_type": "code",
   "execution_count": 9,
   "id": "a0dde4f5",
   "metadata": {},
   "outputs": [
    {
     "name": "stdout",
     "output_type": "stream",
     "text": [
      "<class 'pandas.core.frame.DataFrame'>\n",
      "RangeIndex: 28536 entries, 0 to 28535\n",
      "Data columns (total 2 columns):\n",
      " #   Column      Non-Null Count  Dtype \n",
      "---  ------      --------------  ----- \n",
      " 0   class       28536 non-null  object\n",
      " 1   tweet_text  28536 non-null  object\n",
      "dtypes: object(2)\n",
      "memory usage: 446.0+ KB\n"
     ]
    }
   ],
   "source": [
    "positive.info()"
   ]
  },
  {
   "cell_type": "markdown",
   "id": "b9e2d346",
   "metadata": {},
   "source": [
    "# Cleaning the text"
   ]
  },
  {
   "cell_type": "code",
   "execution_count": 10,
   "id": "021d18ed",
   "metadata": {},
   "outputs": [],
   "source": [
    "for letter in '#.][!XR':\n",
    "    positive['tweet_text'] = positive['tweet_text'].astype(str).str.replace(letter,'')"
   ]
  },
  {
   "cell_type": "code",
   "execution_count": 11,
   "id": "5d5a457c",
   "metadata": {},
   "outputs": [
    {
     "data": {
      "text/html": [
       "<div>\n",
       "<style scoped>\n",
       "    .dataframe tbody tr th:only-of-type {\n",
       "        vertical-align: middle;\n",
       "    }\n",
       "\n",
       "    .dataframe tbody tr th {\n",
       "        vertical-align: top;\n",
       "    }\n",
       "\n",
       "    .dataframe thead th {\n",
       "        text-align: right;\n",
       "    }\n",
       "</style>\n",
       "<table border=\"1\" class=\"dataframe\">\n",
       "  <thead>\n",
       "    <tr style=\"text-align: right;\">\n",
       "      <th></th>\n",
       "      <th>class</th>\n",
       "      <th>tweet_text</th>\n",
       "    </tr>\n",
       "  </thead>\n",
       "  <tbody>\n",
       "    <tr>\n",
       "      <th>0</th>\n",
       "      <td>pos</td>\n",
       "      <td>علييك الله قفل ميتينك ❤</td>\n",
       "    </tr>\n",
       "    <tr>\n",
       "      <th>1</th>\n",
       "      <td>pos</td>\n",
       "      <td>طيار عراقي يسال برج المراقبة في سلطنة عمان عن ...</td>\n",
       "    </tr>\n",
       "    <tr>\n",
       "      <th>2</th>\n",
       "      <td>pos</td>\n",
       "      <td>علمهم تكفى حسبي الله عليهم 🙂</td>\n",
       "    </tr>\n",
       "    <tr>\n",
       "      <th>3</th>\n",
       "      <td>pos</td>\n",
       "      <td>🍀 وعن ذكر الله لا تغفلون لا إله إلا الله لا إل...</td>\n",
       "    </tr>\n",
       "    <tr>\n",
       "      <th>4</th>\n",
       "      <td>pos</td>\n",
       "      <td>كثير من جمهور الاهلي يقول لي عطنا تشكيلة الهلا...</td>\n",
       "    </tr>\n",
       "  </tbody>\n",
       "</table>\n",
       "</div>"
      ],
      "text/plain": [
       "  class                                         tweet_text\n",
       "0   pos                            علييك الله قفل ميتينك ❤\n",
       "1   pos  طيار عراقي يسال برج المراقبة في سلطنة عمان عن ...\n",
       "2   pos                       علمهم تكفى حسبي الله عليهم 🙂\n",
       "3   pos  🍀 وعن ذكر الله لا تغفلون لا إله إلا الله لا إل...\n",
       "4   pos  كثير من جمهور الاهلي يقول لي عطنا تشكيلة الهلا..."
      ]
     },
     "execution_count": 11,
     "metadata": {},
     "output_type": "execute_result"
    }
   ],
   "source": [
    "positive.head()"
   ]
  },
  {
   "cell_type": "markdown",
   "id": "afb4d6ae",
   "metadata": {},
   "source": [
    "using (import string) which is return all ASCII letters (both lower and upper case)"
   ]
  },
  {
   "cell_type": "code",
   "execution_count": 12,
   "id": "786502ef",
   "metadata": {},
   "outputs": [],
   "source": [
    "arabic_punctuations = '''`÷×؛<>_()*&^%][ـ،/:\"؟.,'{}~¦+|!”…“–ـ'''\n",
    "english_punctuations = string.punctuation\n",
    "punctuations_list = arabic_punctuations + english_punctuations\n",
    "\n",
    "def remove_punctuations(text):\n",
    "    translator = str.maketrans('', '', punctuations_list)\n",
    "    return text.translate(translator)"
   ]
  },
  {
   "cell_type": "markdown",
   "id": "edda3dae",
   "metadata": {},
   "source": [
    " "
   ]
  },
  {
   "cell_type": "markdown",
   "id": "1fd4ae3a",
   "metadata": {},
   "source": [
    "use of regular expression (re) substitution"
   ]
  },
  {
   "cell_type": "code",
   "execution_count": 13,
   "id": "9e311fa5",
   "metadata": {},
   "outputs": [],
   "source": [
    "def normalize_arabic(text):\n",
    "    text = re.sub(\"[إأآا]\", \"ا\", text)\n",
    "    text = re.sub(\"ى\", \"ي\", text)\n",
    "    text = re.sub(\"ة\", \"ه\", text)\n",
    "    text = re.sub(\"گ\", \"ك\", text)\n",
    "    return text"
   ]
  },
  {
   "cell_type": "code",
   "execution_count": 14,
   "id": "ad132d08",
   "metadata": {},
   "outputs": [],
   "source": [
    "def remove_repeating_char(text):\n",
    "    return re.sub(r'(.)\\1+', r'\\1', text)"
   ]
  },
  {
   "cell_type": "code",
   "execution_count": 15,
   "id": "3c0d5c7a",
   "metadata": {},
   "outputs": [],
   "source": [
    "def processPost(tweet): \n",
    "\n",
    "    #delete @username with empty string\n",
    "    tweet = re.sub('@[^\\s]+', ' ', tweet)\n",
    "    \n",
    "    #delete www.* or https?://* to \" \"\n",
    "    tweet = re.sub('((www\\.[^\\s]+)|(https?://[^\\s]+))',' ',tweet)\n",
    "    \n",
    "    #Replace #word with word\n",
    "    tweet = re.sub(r'#([^\\s]+)', r'\\1', tweet)\n",
    "\n",
    "    # remove punctuations\n",
    "    tweet= remove_punctuations(tweet)\n",
    "    \n",
    "    # normalize the tweet\n",
    "    tweet= normalize_arabic(tweet)\n",
    "    \n",
    "    # remove repeated letters\n",
    "    tweet=remove_repeating_char(tweet)\n",
    "    \n",
    "    return tweet"
   ]
  },
  {
   "cell_type": "code",
   "execution_count": 16,
   "id": "a559cce1",
   "metadata": {},
   "outputs": [],
   "source": [
    "# using apply method to implement the processPost func on each value in each row in the data\n",
    "positive[\"tweet_text\"] = positive['tweet_text'].apply(lambda x: processPost(x)) "
   ]
  },
  {
   "cell_type": "code",
   "execution_count": 17,
   "id": "78fa60d0",
   "metadata": {},
   "outputs": [
    {
     "data": {
      "text/plain": [
       "0                                عليك اله قفل ميتينك ❤\n",
       "1    طيار عراقي يسال برج المراقبه في سلطنه عمان عن ...\n",
       "2                          علمهم تكفي حسبي اله عليهم 🙂\n",
       "3    🍀 وعن ذكر اله لا تغفلون لا اله الا اله لا اله ...\n",
       "4    كثير من جمهور الاهلي يقول لي عطنا تشكيله الهلا...\n",
       "5    🦋 فيني قليل من الفرح واغلب تفاصيلي زحام ما بين...\n",
       "6    الاهليالهلال الحمدله 💙 اه يا عمري يا الزعيم حض...\n",
       "7    اغنيه تايلور سويفت القوس مع غاري لايتبودي الجو...\n",
       "8    🌅 تذكير مهم 🌅 قال رسول اله ﷺ لا يحافظ علي صلاه...\n",
       "9             جنابو زاتو محتار اتنين في يومين يجماعه 😂\n",
       "Name: tweet_text, dtype: object"
      ]
     },
     "execution_count": 17,
     "metadata": {},
     "output_type": "execute_result"
    }
   ],
   "source": [
    "positive[\"tweet_text\"].head(10)\n"
   ]
  },
  {
   "cell_type": "code",
   "execution_count": 18,
   "id": "14d2d09a",
   "metadata": {},
   "outputs": [],
   "source": [
    "tokenizer = RegexpTokenizer(r'\\w+')\n",
    "positive[\"tweet_text\"] = positive[\"tweet_text\"].apply(tokenizer.tokenize)\n"
   ]
  },
  {
   "cell_type": "code",
   "execution_count": 19,
   "id": "083f92f2",
   "metadata": {},
   "outputs": [
    {
     "data": {
      "text/plain": [
       "0                             [عليك, اله, قفل, ميتينك]\n",
       "1    [طيار, عراقي, يسال, برج, المراقبه, في, سلطنه, ...\n",
       "2                      [علمهم, تكفي, حسبي, اله, عليهم]\n",
       "3    [وعن, ذكر, اله, لا, تغفلون, لا, اله, الا, اله,...\n",
       "4    [كثير, من, جمهور, الاهلي, يقول, لي, عطنا, تشكي...\n",
       "5    [فيني, قليل, من, الفرح, واغلب, تفاصيلي, زحام, ...\n",
       "6    [الاهليالهلال, الحمدله, اه, يا, عمري, يا, الزع...\n",
       "7    [اغنيه, تايلور, سويفت, القوس, مع, غاري, لايتبو...\n",
       "8    [تذكير, مهم, قال, رسول, اله, ﷺ, لا, يحافظ, علي...\n",
       "9       [جنابو, زاتو, محتار, اتنين, في, يومين, يجماعه]\n",
       "Name: tweet_text, dtype: object"
      ]
     },
     "execution_count": 19,
     "metadata": {},
     "output_type": "execute_result"
    }
   ],
   "source": [
    "positive[\"tweet_text\"].head(10)"
   ]
  },
  {
   "cell_type": "code",
   "execution_count": 20,
   "id": "66f52330",
   "metadata": {},
   "outputs": [],
   "source": [
    "stopwords_list = stopwords.words('arabic')"
   ]
  },
  {
   "cell_type": "code",
   "execution_count": 21,
   "id": "af083415",
   "metadata": {},
   "outputs": [
    {
     "data": {
      "text/plain": [
       "['إذ',\n",
       " 'إذا',\n",
       " 'إذما',\n",
       " 'إذن',\n",
       " 'أف',\n",
       " 'أقل',\n",
       " 'أكثر',\n",
       " 'ألا',\n",
       " 'إلا',\n",
       " 'التي',\n",
       " 'الذي',\n",
       " 'الذين',\n",
       " 'اللاتي',\n",
       " 'اللائي',\n",
       " 'اللتان',\n",
       " 'اللتيا',\n",
       " 'اللتين',\n",
       " 'اللذان',\n",
       " 'اللذين',\n",
       " 'اللواتي',\n",
       " 'إلى',\n",
       " 'إليك',\n",
       " 'إليكم',\n",
       " 'إليكما',\n",
       " 'إليكن',\n",
       " 'أم',\n",
       " 'أما',\n",
       " 'أما',\n",
       " 'إما',\n",
       " 'أن',\n",
       " 'إن',\n",
       " 'إنا',\n",
       " 'أنا',\n",
       " 'أنت',\n",
       " 'أنتم',\n",
       " 'أنتما',\n",
       " 'أنتن',\n",
       " 'إنما',\n",
       " 'إنه',\n",
       " 'أنى',\n",
       " 'أنى',\n",
       " 'آه',\n",
       " 'آها',\n",
       " 'أو',\n",
       " 'أولاء',\n",
       " 'أولئك',\n",
       " 'أوه',\n",
       " 'آي',\n",
       " 'أي',\n",
       " 'أيها',\n",
       " 'إي',\n",
       " 'أين',\n",
       " 'أين',\n",
       " 'أينما',\n",
       " 'إيه',\n",
       " 'بخ',\n",
       " 'بس',\n",
       " 'بعد',\n",
       " 'بعض',\n",
       " 'بك',\n",
       " 'بكم',\n",
       " 'بكم',\n",
       " 'بكما',\n",
       " 'بكن',\n",
       " 'بل',\n",
       " 'بلى',\n",
       " 'بما',\n",
       " 'بماذا',\n",
       " 'بمن',\n",
       " 'بنا',\n",
       " 'به',\n",
       " 'بها',\n",
       " 'بهم',\n",
       " 'بهما',\n",
       " 'بهن',\n",
       " 'بي',\n",
       " 'بين',\n",
       " 'بيد',\n",
       " 'تلك',\n",
       " 'تلكم',\n",
       " 'تلكما',\n",
       " 'ته',\n",
       " 'تي',\n",
       " 'تين',\n",
       " 'تينك',\n",
       " 'ثم',\n",
       " 'ثمة',\n",
       " 'حاشا',\n",
       " 'حبذا',\n",
       " 'حتى',\n",
       " 'حيث',\n",
       " 'حيثما',\n",
       " 'حين',\n",
       " 'خلا',\n",
       " 'دون',\n",
       " 'ذا',\n",
       " 'ذات',\n",
       " 'ذاك',\n",
       " 'ذان',\n",
       " 'ذانك',\n",
       " 'ذلك',\n",
       " 'ذلكم',\n",
       " 'ذلكما',\n",
       " 'ذلكن',\n",
       " 'ذه',\n",
       " 'ذو',\n",
       " 'ذوا',\n",
       " 'ذواتا',\n",
       " 'ذواتي',\n",
       " 'ذي',\n",
       " 'ذين',\n",
       " 'ذينك',\n",
       " 'ريث',\n",
       " 'سوف',\n",
       " 'سوى',\n",
       " 'شتان',\n",
       " 'عدا',\n",
       " 'عسى',\n",
       " 'عل',\n",
       " 'على',\n",
       " 'عليك',\n",
       " 'عليه',\n",
       " 'عما',\n",
       " 'عن',\n",
       " 'عند',\n",
       " 'غير',\n",
       " 'فإذا',\n",
       " 'فإن',\n",
       " 'فلا',\n",
       " 'فمن',\n",
       " 'في',\n",
       " 'فيم',\n",
       " 'فيما',\n",
       " 'فيه',\n",
       " 'فيها',\n",
       " 'قد',\n",
       " 'كأن',\n",
       " 'كأنما',\n",
       " 'كأي',\n",
       " 'كأين',\n",
       " 'كذا',\n",
       " 'كذلك',\n",
       " 'كل',\n",
       " 'كلا',\n",
       " 'كلاهما',\n",
       " 'كلتا',\n",
       " 'كلما',\n",
       " 'كليكما',\n",
       " 'كليهما',\n",
       " 'كم',\n",
       " 'كم',\n",
       " 'كما',\n",
       " 'كي',\n",
       " 'كيت',\n",
       " 'كيف',\n",
       " 'كيفما',\n",
       " 'لا',\n",
       " 'لاسيما',\n",
       " 'لدى',\n",
       " 'لست',\n",
       " 'لستم',\n",
       " 'لستما',\n",
       " 'لستن',\n",
       " 'لسن',\n",
       " 'لسنا',\n",
       " 'لعل',\n",
       " 'لك',\n",
       " 'لكم',\n",
       " 'لكما',\n",
       " 'لكن',\n",
       " 'لكنما',\n",
       " 'لكي',\n",
       " 'لكيلا',\n",
       " 'لم',\n",
       " 'لما',\n",
       " 'لن',\n",
       " 'لنا',\n",
       " 'له',\n",
       " 'لها',\n",
       " 'لهم',\n",
       " 'لهما',\n",
       " 'لهن',\n",
       " 'لو',\n",
       " 'لولا',\n",
       " 'لوما',\n",
       " 'لي',\n",
       " 'لئن',\n",
       " 'ليت',\n",
       " 'ليس',\n",
       " 'ليسا',\n",
       " 'ليست',\n",
       " 'ليستا',\n",
       " 'ليسوا',\n",
       " 'ما',\n",
       " 'ماذا',\n",
       " 'متى',\n",
       " 'مذ',\n",
       " 'مع',\n",
       " 'مما',\n",
       " 'ممن',\n",
       " 'من',\n",
       " 'منه',\n",
       " 'منها',\n",
       " 'منذ',\n",
       " 'مه',\n",
       " 'مهما',\n",
       " 'نحن',\n",
       " 'نحو',\n",
       " 'نعم',\n",
       " 'ها',\n",
       " 'هاتان',\n",
       " 'هاته',\n",
       " 'هاتي',\n",
       " 'هاتين',\n",
       " 'هاك',\n",
       " 'هاهنا',\n",
       " 'هذا',\n",
       " 'هذان',\n",
       " 'هذه',\n",
       " 'هذي',\n",
       " 'هذين',\n",
       " 'هكذا',\n",
       " 'هل',\n",
       " 'هلا',\n",
       " 'هم',\n",
       " 'هما',\n",
       " 'هن',\n",
       " 'هنا',\n",
       " 'هناك',\n",
       " 'هنالك',\n",
       " 'هو',\n",
       " 'هؤلاء',\n",
       " 'هي',\n",
       " 'هيا',\n",
       " 'هيت',\n",
       " 'هيهات',\n",
       " 'والذي',\n",
       " 'والذين',\n",
       " 'وإذ',\n",
       " 'وإذا',\n",
       " 'وإن',\n",
       " 'ولا',\n",
       " 'ولكن',\n",
       " 'ولو',\n",
       " 'وما',\n",
       " 'ومن',\n",
       " 'وهو',\n",
       " 'يا']"
      ]
     },
     "execution_count": 21,
     "metadata": {},
     "output_type": "execute_result"
    }
   ],
   "source": [
    "stopwords_list"
   ]
  },
  {
   "cell_type": "code",
   "execution_count": 22,
   "id": "06204335",
   "metadata": {},
   "outputs": [
    {
     "data": {
      "text/plain": [
       "248"
      ]
     },
     "execution_count": 22,
     "metadata": {},
     "output_type": "execute_result"
    }
   ],
   "source": [
    "len(stopwords_list)"
   ]
  },
  {
   "cell_type": "code",
   "execution_count": 23,
   "id": "721ee8c7",
   "metadata": {},
   "outputs": [],
   "source": [
    "listToStr = ' '.join([str(elem) for elem in stopwords_list])"
   ]
  },
  {
   "cell_type": "code",
   "execution_count": 24,
   "id": "f33ebc7c",
   "metadata": {},
   "outputs": [
    {
     "data": {
      "text/plain": [
       "'إذ إذا إذما إذن أف أقل أكثر ألا إلا التي الذي الذين اللاتي اللائي اللتان اللتيا اللتين اللذان اللذين اللواتي إلى إليك إليكم إليكما إليكن أم أما أما إما أن إن إنا أنا أنت أنتم أنتما أنتن إنما إنه أنى أنى آه آها أو أولاء أولئك أوه آي أي أيها إي أين أين أينما إيه بخ بس بعد بعض بك بكم بكم بكما بكن بل بلى بما بماذا بمن بنا به بها بهم بهما بهن بي بين بيد تلك تلكم تلكما ته تي تين تينك ثم ثمة حاشا حبذا حتى حيث حيثما حين خلا دون ذا ذات ذاك ذان ذانك ذلك ذلكم ذلكما ذلكن ذه ذو ذوا ذواتا ذواتي ذي ذين ذينك ريث سوف سوى شتان عدا عسى عل على عليك عليه عما عن عند غير فإذا فإن فلا فمن في فيم فيما فيه فيها قد كأن كأنما كأي كأين كذا كذلك كل كلا كلاهما كلتا كلما كليكما كليهما كم كم كما كي كيت كيف كيفما لا لاسيما لدى لست لستم لستما لستن لسن لسنا لعل لك لكم لكما لكن لكنما لكي لكيلا لم لما لن لنا له لها لهم لهما لهن لو لولا لوما لي لئن ليت ليس ليسا ليست ليستا ليسوا ما ماذا متى مذ مع مما ممن من منه منها منذ مه مهما نحن نحو نعم ها هاتان هاته هاتي هاتين هاك هاهنا هذا هذان هذه هذي هذين هكذا هل هلا هم هما هن هنا هناك هنالك هو هؤلاء هي هيا هيت هيهات والذي والذين وإذ وإذا وإن ولا ولكن ولو وما ومن وهو يا'"
      ]
     },
     "execution_count": 24,
     "metadata": {},
     "output_type": "execute_result"
    }
   ],
   "source": [
    "listToStr"
   ]
  },
  {
   "cell_type": "code",
   "execution_count": 25,
   "id": "45bebf95",
   "metadata": {},
   "outputs": [],
   "source": [
    "positive[\"tweet_text\"]=positive[\"tweet_text\"].apply(lambda x: [item for item in x if item not in stopwords_list])"
   ]
  },
  {
   "cell_type": "code",
   "execution_count": 26,
   "id": "9ec2363a",
   "metadata": {},
   "outputs": [
    {
     "data": {
      "text/plain": [
       "0                                       [اله, قفل, ميتينك]\n",
       "1        [طيار, عراقي, يسال, برج, المراقبه, سلطنه, عمان...\n",
       "2                          [علمهم, تكفي, حسبي, اله, عليهم]\n",
       "3        [وعن, ذكر, اله, تغفلون, اله, الا, اله, اله, ال...\n",
       "4        [كثير, جمهور, الاهلي, يقول, عطنا, تشكيله, الهل...\n",
       "                               ...                        \n",
       "28531    [يقال, بان, متلازمه, القلب, المكسور, تبدا, الد...\n",
       "28532                          [ياسلام, بقي, بيرت, بلس, ه]\n",
       "28533    [التاريخ, وتاريخنا, امجاد, ولقاره, سنبقي, اسيا...\n",
       "28534    [الاتحاد, يخسر, نادي, دوري, المحترفين, اكثر, خ...\n",
       "28535    [الشيء, الوحيد, وصلوا, لعالميه, المسيار, تري, ...\n",
       "Name: tweet_text, Length: 28536, dtype: object"
      ]
     },
     "execution_count": 26,
     "metadata": {},
     "output_type": "execute_result"
    }
   ],
   "source": [
    "positive[\"tweet_text\"]"
   ]
  },
  {
   "cell_type": "markdown",
   "id": "fad0c161",
   "metadata": {},
   "source": [
    "# Postive tweets text information"
   ]
  },
  {
   "cell_type": "code",
   "execution_count": 27,
   "id": "44126a7b",
   "metadata": {},
   "outputs": [
    {
     "name": "stdout",
     "output_type": "stream",
     "text": [
      "299550 words total, with a vocabulary size of 44097\n",
      "Max sentence length 1838\n"
     ]
    }
   ],
   "source": [
    "all_words = [word for tokens in positive[\"tweet_text\"] for word in tokens]\n",
    "sentence_lengths = [len(tokens) for tokens in positive[\"tweet_text\"]]\n",
    "\n",
    "VOCAB = sorted(list(set(all_words)))\n",
    "\n",
    "print(f'{len(all_words)} words total, with a vocabulary size of {len(VOCAB)}')\n",
    "print(f'Max sentence length {max(sentence_lengths)}')"
   ]
  },
  {
   "cell_type": "markdown",
   "id": "3fcc7418",
   "metadata": {},
   "source": [
    " "
   ]
  },
  {
   "cell_type": "markdown",
   "id": "31dfdccc",
   "metadata": {},
   "source": [
    "# Top 25 words in postive comments"
   ]
  },
  {
   "cell_type": "code",
   "execution_count": 28,
   "id": "8169740a",
   "metadata": {},
   "outputs": [],
   "source": [
    "counter = Counter(all_words)"
   ]
  },
  {
   "cell_type": "code",
   "execution_count": 29,
   "id": "0b615d07",
   "metadata": {},
   "outputs": [
    {
     "data": {
      "text/plain": [
       "[('اله', 5589),\n",
       " ('علي', 4476),\n",
       " ('و', 3618),\n",
       " ('ان', 2475),\n",
       " ('الهم', 2361),\n",
       " ('صباح', 2094),\n",
       " ('الي', 1862),\n",
       " ('الهلال', 1517),\n",
       " ('pos', 1313),\n",
       " ('الخير', 1223),\n",
       " ('رتويت', 1147),\n",
       " ('انا', 1104),\n",
       " ('السحب', 1043),\n",
       " ('الا', 1042),\n",
       " ('يارب', 921),\n",
       " ('الحمد', 825),\n",
       " ('سحب', 816),\n",
       " ('انت', 808),\n",
       " ('ساعه', 794),\n",
       " ('يوم', 763),\n",
       " ('فوز', 763),\n",
       " ('مبروك', 739),\n",
       " ('الف', 719),\n",
       " ('النصر', 715),\n",
       " ('واله', 698)]"
      ]
     },
     "execution_count": 29,
     "metadata": {},
     "output_type": "execute_result"
    }
   ],
   "source": [
    "counter.most_common(25)"
   ]
  },
  {
   "cell_type": "code",
   "execution_count": 30,
   "id": "16b2533a",
   "metadata": {},
   "outputs": [],
   "source": [
    "counted_words = Counter(all_words)\n",
    "\n",
    "words = []\n",
    "counts = []\n",
    "for letter, count in counted_words.most_common(25):\n",
    "    words.append(letter)\n",
    "    counts.append(count)"
   ]
  },
  {
   "cell_type": "code",
   "execution_count": 31,
   "id": "b4352fb6",
   "metadata": {},
   "outputs": [
    {
     "data": {
      "image/png": "[encoded data removed]",
      "text/plain": [
       "<Figure size 1080x720 with 1 Axes>"
      ]
     },
     "metadata": {},
     "output_type": "display_data"
    }
   ],
   "source": [
    "word_counter_df=pd.DataFrame(list(zip(words, counts)),\n",
    "               columns =['word', 'freq'])\n",
    "word_counter_df['disp'] = word_counter_df.word.apply(arabic_reshaper.reshape).apply(get_display)\n",
    "# word_counter_df.plot.bar(x=\"disp\", y=\"freq\")\n",
    "fig, ax= plt.subplots(figsize=(15, 10))\n",
    "plt.barh(word_counter_df['disp'][::-1], word_counter_df['freq'][::-1], color='#1da1f2ff')\n",
    "plt.title('Top words in positive tweets', fontsize=18)\n",
    "plt.xlabel('Count', fontsize=16)\n",
    "plt.ylabel('Words', fontsize=16)\n",
    "plt.tight_layout()\n",
    "plt.savefig('image/postive_top_words.jpg');"
   ]
  },
  {
   "cell_type": "markdown",
   "id": "c449abd5",
   "metadata": {},
   "source": [
    "# Arabic_tweets_negative dataset"
   ]
  },
  {
   "cell_type": "code",
   "execution_count": 32,
   "id": "f84b361e",
   "metadata": {},
   "outputs": [],
   "source": [
    "cols = ['class','tweet_text']\n",
    "negative = pd.read_csv('data/Arabic_tweets_negative_20190413.tsv',sep='\\t', error_bad_lines = False ,header=None, names=cols)"
   ]
  },
  {
   "cell_type": "code",
   "execution_count": 33,
   "id": "f04c445b",
   "metadata": {},
   "outputs": [
    {
     "data": {
      "text/html": [
       "<div>\n",
       "<style scoped>\n",
       "    .dataframe tbody tr th:only-of-type {\n",
       "        vertical-align: middle;\n",
       "    }\n",
       "\n",
       "    .dataframe tbody tr th {\n",
       "        vertical-align: top;\n",
       "    }\n",
       "\n",
       "    .dataframe thead th {\n",
       "        text-align: right;\n",
       "    }\n",
       "</style>\n",
       "<table border=\"1\" class=\"dataframe\">\n",
       "  <thead>\n",
       "    <tr style=\"text-align: right;\">\n",
       "      <th></th>\n",
       "      <th>class</th>\n",
       "      <th>tweet_text</th>\n",
       "    </tr>\n",
       "  </thead>\n",
       "  <tbody>\n",
       "    <tr>\n",
       "      <th>0</th>\n",
       "      <td>neg</td>\n",
       "      <td>رحمه الله رحمه واسعه واسكنه فسيح جناته 😢</td>\n",
       "    </tr>\n",
       "    <tr>\n",
       "      <th>1</th>\n",
       "      <td>neg</td>\n",
       "      <td>راح فين كلامك الي كنتي بتقوليه 💔 رايكو في صوتي</td>\n",
       "    </tr>\n",
       "    <tr>\n",
       "      <th>2</th>\n",
       "      <td>neg</td>\n",
       "      <td>كلام اهلها انهم دخلوها مستشفى الامل لمدة شهر ع...</td>\n",
       "    </tr>\n",
       "    <tr>\n",
       "      <th>3</th>\n",
       "      <td>neg</td>\n",
       "      <td>ليش عم تسبنا يامخرف 😡</td>\n",
       "    </tr>\n",
       "    <tr>\n",
       "      <th>4</th>\n",
       "      <td>neg</td>\n",
       "      <td>#السعاده_دايما_هي اشتقت ل حديثك ، و كأني لم اح...</td>\n",
       "    </tr>\n",
       "  </tbody>\n",
       "</table>\n",
       "</div>"
      ],
      "text/plain": [
       "  class                                         tweet_text\n",
       "0   neg           رحمه الله رحمه واسعه واسكنه فسيح جناته 😢\n",
       "1   neg     راح فين كلامك الي كنتي بتقوليه 💔 رايكو في صوتي\n",
       "2   neg  كلام اهلها انهم دخلوها مستشفى الامل لمدة شهر ع...\n",
       "3   neg                              ليش عم تسبنا يامخرف 😡\n",
       "4   neg  #السعاده_دايما_هي اشتقت ل حديثك ، و كأني لم اح..."
      ]
     },
     "execution_count": 33,
     "metadata": {},
     "output_type": "execute_result"
    }
   ],
   "source": [
    "negative.head()"
   ]
  },
  {
   "cell_type": "markdown",
   "id": "08699d97",
   "metadata": {},
   "source": [
    " "
   ]
  },
  {
   "cell_type": "markdown",
   "id": "557e48b6",
   "metadata": {},
   "source": [
    "# Total no. of negative twittes"
   ]
  },
  {
   "cell_type": "code",
   "execution_count": 34,
   "id": "bacd7bee",
   "metadata": {},
   "outputs": [
    {
     "data": {
      "text/plain": [
       "28326"
      ]
     },
     "execution_count": 34,
     "metadata": {},
     "output_type": "execute_result"
    }
   ],
   "source": [
    "len(negative)"
   ]
  },
  {
   "cell_type": "markdown",
   "id": "ade70b57",
   "metadata": {},
   "source": [
    " "
   ]
  },
  {
   "cell_type": "markdown",
   "id": "8e2aa507",
   "metadata": {},
   "source": [
    "# Sample of the negative twittes text"
   ]
  },
  {
   "cell_type": "code",
   "execution_count": 35,
   "id": "55968f75",
   "metadata": {},
   "outputs": [
    {
     "data": {
      "text/plain": [
       "0             رحمه الله رحمه واسعه واسكنه فسيح جناته 😢\n",
       "1       راح فين كلامك الي كنتي بتقوليه 💔 رايكو في صوتي\n",
       "2    كلام اهلها انهم دخلوها مستشفى الامل لمدة شهر ع...\n",
       "3                                ليش عم تسبنا يامخرف 😡\n",
       "4    #السعاده_دايما_هي اشتقت ل حديثك ، و كأني لم اح...\n",
       "Name: tweet_text, dtype: object"
      ]
     },
     "execution_count": 35,
     "metadata": {},
     "output_type": "execute_result"
    }
   ],
   "source": [
    "negative['tweet_text'].head()"
   ]
  },
  {
   "cell_type": "markdown",
   "id": "59df19ad",
   "metadata": {},
   "source": [
    "# Sample of the target "
   ]
  },
  {
   "cell_type": "code",
   "execution_count": 36,
   "id": "1797be5d",
   "metadata": {},
   "outputs": [
    {
     "data": {
      "text/plain": [
       "0    neg\n",
       "1    neg\n",
       "2    neg\n",
       "3    neg\n",
       "4    neg\n",
       "Name: class, dtype: object"
      ]
     },
     "execution_count": 36,
     "metadata": {},
     "output_type": "execute_result"
    }
   ],
   "source": [
    "negative['class'].head()"
   ]
  },
  {
   "cell_type": "markdown",
   "id": "a8cd50a3",
   "metadata": {},
   "source": [
    " "
   ]
  },
  {
   "cell_type": "code",
   "execution_count": 37,
   "id": "0782f85b",
   "metadata": {},
   "outputs": [
    {
     "data": {
      "text/plain": [
       "0"
      ]
     },
     "execution_count": 37,
     "metadata": {},
     "output_type": "execute_result"
    }
   ],
   "source": [
    "np.sum(negative.isnull().any(axis=1))"
   ]
  },
  {
   "cell_type": "markdown",
   "id": "8b5d2ade",
   "metadata": {},
   "source": [
    "# EDA"
   ]
  },
  {
   "cell_type": "code",
   "execution_count": 38,
   "id": "b5546e1c",
   "metadata": {},
   "outputs": [
    {
     "name": "stdout",
     "output_type": "stream",
     "text": [
      "<class 'pandas.core.frame.DataFrame'>\n",
      "RangeIndex: 28326 entries, 0 to 28325\n",
      "Data columns (total 2 columns):\n",
      " #   Column      Non-Null Count  Dtype \n",
      "---  ------      --------------  ----- \n",
      " 0   class       28326 non-null  object\n",
      " 1   tweet_text  28326 non-null  object\n",
      "dtypes: object(2)\n",
      "memory usage: 442.7+ KB\n"
     ]
    }
   ],
   "source": [
    "negative.info()"
   ]
  },
  {
   "cell_type": "markdown",
   "id": "ed369d15",
   "metadata": {},
   "source": [
    "# Cleaning the text"
   ]
  },
  {
   "cell_type": "code",
   "execution_count": 39,
   "id": "9b9c4be3",
   "metadata": {},
   "outputs": [],
   "source": [
    "for letter in '#.][!XR':\n",
    "    negative['tweet_text'] = negative['tweet_text'].astype(str).str.replace(letter,'')"
   ]
  },
  {
   "cell_type": "code",
   "execution_count": 40,
   "id": "0105fb69",
   "metadata": {},
   "outputs": [
    {
     "data": {
      "text/html": [
       "<div>\n",
       "<style scoped>\n",
       "    .dataframe tbody tr th:only-of-type {\n",
       "        vertical-align: middle;\n",
       "    }\n",
       "\n",
       "    .dataframe tbody tr th {\n",
       "        vertical-align: top;\n",
       "    }\n",
       "\n",
       "    .dataframe thead th {\n",
       "        text-align: right;\n",
       "    }\n",
       "</style>\n",
       "<table border=\"1\" class=\"dataframe\">\n",
       "  <thead>\n",
       "    <tr style=\"text-align: right;\">\n",
       "      <th></th>\n",
       "      <th>class</th>\n",
       "      <th>tweet_text</th>\n",
       "    </tr>\n",
       "  </thead>\n",
       "  <tbody>\n",
       "    <tr>\n",
       "      <th>0</th>\n",
       "      <td>neg</td>\n",
       "      <td>رحمه الله رحمه واسعه واسكنه فسيح جناته 😢</td>\n",
       "    </tr>\n",
       "    <tr>\n",
       "      <th>1</th>\n",
       "      <td>neg</td>\n",
       "      <td>راح فين كلامك الي كنتي بتقوليه 💔 رايكو في صوتي</td>\n",
       "    </tr>\n",
       "    <tr>\n",
       "      <th>2</th>\n",
       "      <td>neg</td>\n",
       "      <td>كلام اهلها انهم دخلوها مستشفى الامل لمدة شهر ع...</td>\n",
       "    </tr>\n",
       "    <tr>\n",
       "      <th>3</th>\n",
       "      <td>neg</td>\n",
       "      <td>ليش عم تسبنا يامخرف 😡</td>\n",
       "    </tr>\n",
       "    <tr>\n",
       "      <th>4</th>\n",
       "      <td>neg</td>\n",
       "      <td>السعاده_دايما_هي اشتقت ل حديثك ، و كأني لم احا...</td>\n",
       "    </tr>\n",
       "  </tbody>\n",
       "</table>\n",
       "</div>"
      ],
      "text/plain": [
       "  class                                         tweet_text\n",
       "0   neg           رحمه الله رحمه واسعه واسكنه فسيح جناته 😢\n",
       "1   neg     راح فين كلامك الي كنتي بتقوليه 💔 رايكو في صوتي\n",
       "2   neg  كلام اهلها انهم دخلوها مستشفى الامل لمدة شهر ع...\n",
       "3   neg                              ليش عم تسبنا يامخرف 😡\n",
       "4   neg  السعاده_دايما_هي اشتقت ل حديثك ، و كأني لم احا..."
      ]
     },
     "execution_count": 40,
     "metadata": {},
     "output_type": "execute_result"
    }
   ],
   "source": [
    "negative.head()"
   ]
  },
  {
   "cell_type": "code",
   "execution_count": 41,
   "id": "cc8c3298",
   "metadata": {},
   "outputs": [],
   "source": [
    "# apply used to call the method processpost\n",
    "negative[\"tweet_text\"] = negative['tweet_text'].apply(lambda x: processPost(x)) "
   ]
  },
  {
   "cell_type": "markdown",
   "id": "e0cca9e0",
   "metadata": {},
   "source": [
    "splits a string into substrings using a regular expression"
   ]
  },
  {
   "cell_type": "code",
   "execution_count": 42,
   "id": "73549d74",
   "metadata": {},
   "outputs": [],
   "source": [
    "tokenizer = RegexpTokenizer(r'\\w+')\n",
    "negative[\"tweet_text\"] = negative[\"tweet_text\"].apply(tokenizer.tokenize)"
   ]
  },
  {
   "cell_type": "code",
   "execution_count": 43,
   "id": "4c309aab",
   "metadata": {},
   "outputs": [
    {
     "data": {
      "text/plain": [
       "0        [رحمه, اله, رحمه, واسعه, واسكنه, فسيح, جناته]\n",
       "1    [راح, فين, كلامك, الي, كنتي, بتقوليه, رايكو, ف...\n",
       "2    [كلام, اهلها, انهم, دخلوها, مستشفي, الامل, لمد...\n",
       "3                             [ليش, عم, تسبنا, يامخرف]\n",
       "4    [السعادهدايماهي, اشتقت, ل, حديثك, و, كاني, لم,...\n",
       "Name: tweet_text, dtype: object"
      ]
     },
     "execution_count": 43,
     "metadata": {},
     "output_type": "execute_result"
    }
   ],
   "source": [
    "negative[\"tweet_text\"].head()"
   ]
  },
  {
   "cell_type": "code",
   "execution_count": 44,
   "id": "5ca4575d",
   "metadata": {},
   "outputs": [],
   "source": [
    "stopwords_list = stopwords.words('arabic')\n",
    "w=['و', 'ان', 'ع', 'اذا', 'او', 'الا', 'ف']\n",
    "for i in w:\n",
    "    stopwords_list.append(i)"
   ]
  },
  {
   "cell_type": "code",
   "execution_count": 45,
   "id": "cbe2fdd2",
   "metadata": {},
   "outputs": [],
   "source": [
    "negative[\"tweet_text\"]=negative[\"tweet_text\"].apply(lambda x: [item for item in x if item not in stopwords_list])"
   ]
  },
  {
   "cell_type": "code",
   "execution_count": 46,
   "id": "f5acdd38",
   "metadata": {},
   "outputs": [
    {
     "data": {
      "text/plain": [
       "0            [رحمه, اله, رحمه, واسعه, واسكنه, فسيح, جناته]\n",
       "1        [راح, فين, كلامك, الي, كنتي, بتقوليه, رايكو, ص...\n",
       "2        [كلام, اهلها, انهم, دخلوها, مستشفي, الامل, لمد...\n",
       "3                                 [ليش, عم, تسبنا, يامخرف]\n",
       "4        [السعادهدايماهي, اشتقت, ل, حديثك, كاني, احادثك...\n",
       "                               ...                        \n",
       "28321    [تسرع, ﺎلحكم, علي, ﺎلناس, فقد, تظلم, عزيزٱ, وق...\n",
       "28322    [شعور, حقير, الواحد, يكون, مداوم, يوم, الجمعه,...\n",
       "28323                                       [ابغي, ستريمز]\n",
       "28324    [حسام, انت, متكلمش, واحد, بحجم, ابراهيم, عيسي,...\n",
       "28325              [تذكرين, كانت, فتره, سحبتي, علي, تويتر]\n",
       "Name: tweet_text, Length: 28326, dtype: object"
      ]
     },
     "execution_count": 46,
     "metadata": {},
     "output_type": "execute_result"
    }
   ],
   "source": [
    "negative['tweet_text']"
   ]
  },
  {
   "cell_type": "markdown",
   "id": "82ddc035",
   "metadata": {},
   "source": [
    "# Negative tweets text information"
   ]
  },
  {
   "cell_type": "code",
   "execution_count": 47,
   "id": "ba912c62",
   "metadata": {},
   "outputs": [
    {
     "name": "stdout",
     "output_type": "stream",
     "text": [
      "263791 words total, with a vocabulary size of 43153\n",
      "Max sentence length 922\n"
     ]
    }
   ],
   "source": [
    "all_words = [word for tokens in negative[\"tweet_text\"] for word in tokens]\n",
    "sentence_lengths = [len(tokens) for tokens in negative[\"tweet_text\"]]\n",
    "\n",
    "VOCAB = sorted(list(set(all_words)))\n",
    "\n",
    "print(f'{len(all_words)} words total, with a vocabulary size of {len(VOCAB)}')\n",
    "print(f'Max sentence length {max(sentence_lengths)}')"
   ]
  },
  {
   "cell_type": "markdown",
   "id": "c6a3b5ec",
   "metadata": {},
   "source": [
    "# # Top 25 words in negative comments"
   ]
  },
  {
   "cell_type": "code",
   "execution_count": 48,
   "id": "c54b0fa7",
   "metadata": {},
   "outputs": [],
   "source": [
    "counter_n = Counter(all_words)"
   ]
  },
  {
   "cell_type": "code",
   "execution_count": 49,
   "id": "89d8316a",
   "metadata": {},
   "outputs": [
    {
     "data": {
      "text/plain": [
       "[('اله', 3170),\n",
       " ('علي', 2684),\n",
       " ('الي', 2430),\n",
       " ('انا', 2024),\n",
       " ('واله', 1393),\n",
       " ('الهم', 837),\n",
       " ('الناس', 723),\n",
       " ('انت', 717),\n",
       " ('مو', 677),\n",
       " ('اي', 667),\n",
       " ('كان', 656),\n",
       " ('قبل', 637),\n",
       " ('صباح', 618),\n",
       " ('مش', 618),\n",
       " ('يوم', 608),\n",
       " ('شي', 606),\n",
       " ('عشان', 590),\n",
       " ('يارب', 590),\n",
       " ('يعني', 585),\n",
       " ('neg', 576),\n",
       " ('مافي', 573),\n",
       " ('اني', 573),\n",
       " ('دي', 534),\n",
       " ('حتي', 529),\n",
       " ('احد', 505)]"
      ]
     },
     "execution_count": 49,
     "metadata": {},
     "output_type": "execute_result"
    }
   ],
   "source": [
    "counter_n.most_common(25)"
   ]
  },
  {
   "cell_type": "code",
   "execution_count": 50,
   "id": "314a3338",
   "metadata": {},
   "outputs": [],
   "source": [
    "words = []\n",
    "counts = []\n",
    "for letter, count in counter_n.most_common(25):\n",
    "    words.append(letter)\n",
    "    counts.append(count)"
   ]
  },
  {
   "cell_type": "code",
   "execution_count": 51,
   "id": "21948e83",
   "metadata": {},
   "outputs": [
    {
     "data": {
      "image/png": "[encoded data removed]",
      "text/plain": [
       "<Figure size 1080x720 with 1 Axes>"
      ]
     },
     "metadata": {},
     "output_type": "display_data"
    }
   ],
   "source": [
    "word_counter_n=pd.DataFrame(list(zip(words, counts)),\n",
    "               columns =['word', 'freq'])\n",
    "word_counter_n['disp'] = word_counter_n.word.apply(arabic_reshaper.reshape).apply(get_display)\n",
    "# word_counter_df.plot.bar(x=\"disp\", y=\"freq\")\n",
    "fig, ax=plt.subplots(figsize=(15,10))\n",
    "ax.barh(word_counter_n.disp[::-1], word_counter_n.freq[::-1], color='#1da1f2ff')\n",
    "plt.title('Top words in negative tweets', fontsize=18)\n",
    "ax.set_xlabel('Count', fontsize=16)\n",
    "ax.set_ylabel('Words', fontsize=16)\n",
    "plt.tight_layout()\n",
    "plt.savefig('image/negative_top_words.jpg');"
   ]
  },
  {
   "cell_type": "markdown",
   "id": "cd6221e6",
   "metadata": {},
   "source": [
    "# Prepare the Final Data"
   ]
  },
  {
   "cell_type": "markdown",
   "id": "9f9c16be",
   "metadata": {},
   "source": [
    "concatenate the postive and negative classes"
   ]
  },
  {
   "cell_type": "code",
   "execution_count": 52,
   "id": "28ba3a90",
   "metadata": {},
   "outputs": [],
   "source": [
    "full_data = pd.concat([positive, negative], axis=0)"
   ]
  },
  {
   "cell_type": "code",
   "execution_count": 53,
   "id": "7fa46d00",
   "metadata": {},
   "outputs": [
    {
     "data": {
      "text/html": [
       "<div>\n",
       "<style scoped>\n",
       "    .dataframe tbody tr th:only-of-type {\n",
       "        vertical-align: middle;\n",
       "    }\n",
       "\n",
       "    .dataframe tbody tr th {\n",
       "        vertical-align: top;\n",
       "    }\n",
       "\n",
       "    .dataframe thead th {\n",
       "        text-align: right;\n",
       "    }\n",
       "</style>\n",
       "<table border=\"1\" class=\"dataframe\">\n",
       "  <thead>\n",
       "    <tr style=\"text-align: right;\">\n",
       "      <th></th>\n",
       "      <th>class</th>\n",
       "      <th>tweet_text</th>\n",
       "    </tr>\n",
       "  </thead>\n",
       "  <tbody>\n",
       "    <tr>\n",
       "      <th>0</th>\n",
       "      <td>pos</td>\n",
       "      <td>[اله, قفل, ميتينك]</td>\n",
       "    </tr>\n",
       "    <tr>\n",
       "      <th>1</th>\n",
       "      <td>pos</td>\n",
       "      <td>[طيار, عراقي, يسال, برج, المراقبه, سلطنه, عمان...</td>\n",
       "    </tr>\n",
       "    <tr>\n",
       "      <th>2</th>\n",
       "      <td>pos</td>\n",
       "      <td>[علمهم, تكفي, حسبي, اله, عليهم]</td>\n",
       "    </tr>\n",
       "    <tr>\n",
       "      <th>3</th>\n",
       "      <td>pos</td>\n",
       "      <td>[وعن, ذكر, اله, تغفلون, اله, الا, اله, اله, ال...</td>\n",
       "    </tr>\n",
       "    <tr>\n",
       "      <th>4</th>\n",
       "      <td>pos</td>\n",
       "      <td>[كثير, جمهور, الاهلي, يقول, عطنا, تشكيله, الهل...</td>\n",
       "    </tr>\n",
       "    <tr>\n",
       "      <th>...</th>\n",
       "      <td>...</td>\n",
       "      <td>...</td>\n",
       "    </tr>\n",
       "    <tr>\n",
       "      <th>28271</th>\n",
       "      <td>neg</td>\n",
       "      <td>[الناس, الطبيعيه, بصداقتهم, تقول, احنا, مقربين...</td>\n",
       "    </tr>\n",
       "    <tr>\n",
       "      <th>28272</th>\n",
       "      <td>neg</td>\n",
       "      <td>[يمكن, النت, حقها, خلص]</td>\n",
       "    </tr>\n",
       "    <tr>\n",
       "      <th>28273</th>\n",
       "      <td>neg</td>\n",
       "      <td>[المقطع, صباح, لازم, اسمعه, صار, اساسيات, حياتي]</td>\n",
       "    </tr>\n",
       "    <tr>\n",
       "      <th>28274</th>\n",
       "      <td>neg</td>\n",
       "      <td>[كانها, كيكتك, انتي]</td>\n",
       "    </tr>\n",
       "    <tr>\n",
       "      <th>28275</th>\n",
       "      <td>neg</td>\n",
       "      <td>[ضحوك, انته]</td>\n",
       "    </tr>\n",
       "  </tbody>\n",
       "</table>\n",
       "<p>56812 rows × 2 columns</p>\n",
       "</div>"
      ],
      "text/plain": [
       "      class                                         tweet_text\n",
       "0       pos                                 [اله, قفل, ميتينك]\n",
       "1       pos  [طيار, عراقي, يسال, برج, المراقبه, سلطنه, عمان...\n",
       "2       pos                    [علمهم, تكفي, حسبي, اله, عليهم]\n",
       "3       pos  [وعن, ذكر, اله, تغفلون, اله, الا, اله, اله, ال...\n",
       "4       pos  [كثير, جمهور, الاهلي, يقول, عطنا, تشكيله, الهل...\n",
       "...     ...                                                ...\n",
       "28271   neg  [الناس, الطبيعيه, بصداقتهم, تقول, احنا, مقربين...\n",
       "28272   neg                            [يمكن, النت, حقها, خلص]\n",
       "28273   neg   [المقطع, صباح, لازم, اسمعه, صار, اساسيات, حياتي]\n",
       "28274   neg                               [كانها, كيكتك, انتي]\n",
       "28275   neg                                       [ضحوك, انته]\n",
       "\n",
       "[56812 rows x 2 columns]"
      ]
     },
     "execution_count": 53,
     "metadata": {},
     "output_type": "execute_result"
    }
   ],
   "source": [
    "full_data.head(-50)"
   ]
  },
  {
   "cell_type": "code",
   "execution_count": 54,
   "id": "78c17b1a",
   "metadata": {},
   "outputs": [
    {
     "name": "stdout",
     "output_type": "stream",
     "text": [
      "<class 'pandas.core.frame.DataFrame'>\n",
      "Int64Index: 56862 entries, 0 to 28325\n",
      "Data columns (total 2 columns):\n",
      " #   Column      Non-Null Count  Dtype \n",
      "---  ------      --------------  ----- \n",
      " 0   class       56862 non-null  object\n",
      " 1   tweet_text  56862 non-null  object\n",
      "dtypes: object(2)\n",
      "memory usage: 1.3+ MB\n"
     ]
    }
   ],
   "source": [
    "full_data.info()"
   ]
  },
  {
   "cell_type": "code",
   "execution_count": 55,
   "id": "de9535a7",
   "metadata": {},
   "outputs": [
    {
     "data": {
      "text/plain": [
       "56862"
      ]
     },
     "execution_count": 55,
     "metadata": {},
     "output_type": "execute_result"
    }
   ],
   "source": [
    "len(full_data)"
   ]
  },
  {
   "cell_type": "code",
   "execution_count": 56,
   "id": "61de1ccf",
   "metadata": {},
   "outputs": [
    {
     "data": {
      "text/plain": [
       "pos    28536\n",
       "neg    28326\n",
       "Name: class, dtype: int64"
      ]
     },
     "execution_count": 56,
     "metadata": {},
     "output_type": "execute_result"
    }
   ],
   "source": [
    "y=full_data['class']\n",
    "y.value_counts()"
   ]
  },
  {
   "cell_type": "markdown",
   "id": "eacd75f6",
   "metadata": {},
   "source": [
    "# Showing how the dataset is balance"
   ]
  },
  {
   "cell_type": "code",
   "execution_count": 57,
   "id": "5f105090",
   "metadata": {
    "scrolled": false
   },
   "outputs": [
    {
     "data": {
      "image/png": "[encoded data removed]",
      "text/plain": [
       "<Figure size 432x288 with 1 Axes>"
      ]
     },
     "metadata": {},
     "output_type": "display_data"
    },
    {
     "data": {
      "text/plain": [
       "<Figure size 432x288 with 0 Axes>"
      ]
     },
     "metadata": {},
     "output_type": "display_data"
    }
   ],
   "source": [
    "full_data['class'].value_counts().plot(kind='bar', color='#1da1f2ff')\n",
    "plt.title('postive comments / negative comments')\n",
    "plt.xlabel('comments', fontsize=14)\n",
    "plt.ylabel('counts', fontsize=14)\n",
    "plt.savefig('image/balance_data.jpg')\n",
    "fig1 = plt.gcf()\n",
    "plt.tight_layout()\n",
    "plt.show()\n",
    "plt.draw()\n",
    "fig1.savefig('image/balance_data.jpg', dpi=100)"
   ]
  },
  {
   "cell_type": "markdown",
   "id": "ca1d6c3f",
   "metadata": {},
   "source": [
    "# Convert class values (pos, neg) to (1,0) "
   ]
  },
  {
   "cell_type": "code",
   "execution_count": 58,
   "id": "fb37b0eb",
   "metadata": {},
   "outputs": [],
   "source": [
    "pro= preprocessing.LabelEncoder()\n",
    "enc_pro=pro.fit_transform(full_data['class'])\n",
    "full_data['class'] = enc_pro\n"
   ]
  },
  {
   "cell_type": "markdown",
   "id": "0cabfff5",
   "metadata": {},
   "source": [
    "# TFIDF"
   ]
  },
  {
   "cell_type": "code",
   "execution_count": 76,
   "id": "9bba8baa",
   "metadata": {},
   "outputs": [
    {
     "data": {
      "text/html": [
       "<div>\n",
       "<style scoped>\n",
       "    .dataframe tbody tr th:only-of-type {\n",
       "        vertical-align: middle;\n",
       "    }\n",
       "\n",
       "    .dataframe tbody tr th {\n",
       "        vertical-align: top;\n",
       "    }\n",
       "\n",
       "    .dataframe thead th {\n",
       "        text-align: right;\n",
       "    }\n",
       "</style>\n",
       "<table border=\"1\" class=\"dataframe\">\n",
       "  <thead>\n",
       "    <tr style=\"text-align: right;\">\n",
       "      <th></th>\n",
       "      <th>10</th>\n",
       "      <th>16</th>\n",
       "      <th>1953</th>\n",
       "      <th>30</th>\n",
       "      <th>30م</th>\n",
       "      <th>40</th>\n",
       "      <th>412</th>\n",
       "      <th>413</th>\n",
       "      <th>419</th>\n",
       "      <th>50</th>\n",
       "      <th>...</th>\n",
       "      <th>ٳنك</th>\n",
       "      <th>کل</th>\n",
       "      <th>ڪل</th>\n",
       "      <th>ڪن</th>\n",
       "      <th>گثيرا</th>\n",
       "      <th>ۆفيما</th>\n",
       "      <th>ۈل</th>\n",
       "      <th>یبقی</th>\n",
       "      <th>یوم</th>\n",
       "      <th>ฬw</th>\n",
       "    </tr>\n",
       "  </thead>\n",
       "  <tbody>\n",
       "    <tr>\n",
       "      <th>0</th>\n",
       "      <td>0.0</td>\n",
       "      <td>0.0</td>\n",
       "      <td>0.0</td>\n",
       "      <td>0.0</td>\n",
       "      <td>0.0</td>\n",
       "      <td>0.0</td>\n",
       "      <td>0.0</td>\n",
       "      <td>0.0</td>\n",
       "      <td>0.0</td>\n",
       "      <td>0.0</td>\n",
       "      <td>...</td>\n",
       "      <td>0.0</td>\n",
       "      <td>0.0</td>\n",
       "      <td>0.0</td>\n",
       "      <td>0.0</td>\n",
       "      <td>0.0</td>\n",
       "      <td>0.0</td>\n",
       "      <td>0.0</td>\n",
       "      <td>0.0</td>\n",
       "      <td>0.0</td>\n",
       "      <td>0.0</td>\n",
       "    </tr>\n",
       "    <tr>\n",
       "      <th>1</th>\n",
       "      <td>0.0</td>\n",
       "      <td>0.0</td>\n",
       "      <td>0.0</td>\n",
       "      <td>0.0</td>\n",
       "      <td>0.0</td>\n",
       "      <td>0.0</td>\n",
       "      <td>0.0</td>\n",
       "      <td>0.0</td>\n",
       "      <td>0.0</td>\n",
       "      <td>0.0</td>\n",
       "      <td>...</td>\n",
       "      <td>0.0</td>\n",
       "      <td>0.0</td>\n",
       "      <td>0.0</td>\n",
       "      <td>0.0</td>\n",
       "      <td>0.0</td>\n",
       "      <td>0.0</td>\n",
       "      <td>0.0</td>\n",
       "      <td>0.0</td>\n",
       "      <td>0.0</td>\n",
       "      <td>0.0</td>\n",
       "    </tr>\n",
       "    <tr>\n",
       "      <th>2</th>\n",
       "      <td>0.0</td>\n",
       "      <td>0.0</td>\n",
       "      <td>0.0</td>\n",
       "      <td>0.0</td>\n",
       "      <td>0.0</td>\n",
       "      <td>0.0</td>\n",
       "      <td>0.0</td>\n",
       "      <td>0.0</td>\n",
       "      <td>0.0</td>\n",
       "      <td>0.0</td>\n",
       "      <td>...</td>\n",
       "      <td>0.0</td>\n",
       "      <td>0.0</td>\n",
       "      <td>0.0</td>\n",
       "      <td>0.0</td>\n",
       "      <td>0.0</td>\n",
       "      <td>0.0</td>\n",
       "      <td>0.0</td>\n",
       "      <td>0.0</td>\n",
       "      <td>0.0</td>\n",
       "      <td>0.0</td>\n",
       "    </tr>\n",
       "    <tr>\n",
       "      <th>3</th>\n",
       "      <td>0.0</td>\n",
       "      <td>0.0</td>\n",
       "      <td>0.0</td>\n",
       "      <td>0.0</td>\n",
       "      <td>0.0</td>\n",
       "      <td>0.0</td>\n",
       "      <td>0.0</td>\n",
       "      <td>0.0</td>\n",
       "      <td>0.0</td>\n",
       "      <td>0.0</td>\n",
       "      <td>...</td>\n",
       "      <td>0.0</td>\n",
       "      <td>0.0</td>\n",
       "      <td>0.0</td>\n",
       "      <td>0.0</td>\n",
       "      <td>0.0</td>\n",
       "      <td>0.0</td>\n",
       "      <td>0.0</td>\n",
       "      <td>0.0</td>\n",
       "      <td>0.0</td>\n",
       "      <td>0.0</td>\n",
       "    </tr>\n",
       "    <tr>\n",
       "      <th>4</th>\n",
       "      <td>0.0</td>\n",
       "      <td>0.0</td>\n",
       "      <td>0.0</td>\n",
       "      <td>0.0</td>\n",
       "      <td>0.0</td>\n",
       "      <td>0.0</td>\n",
       "      <td>0.0</td>\n",
       "      <td>0.0</td>\n",
       "      <td>0.0</td>\n",
       "      <td>0.0</td>\n",
       "      <td>...</td>\n",
       "      <td>0.0</td>\n",
       "      <td>0.0</td>\n",
       "      <td>0.0</td>\n",
       "      <td>0.0</td>\n",
       "      <td>0.0</td>\n",
       "      <td>0.0</td>\n",
       "      <td>0.0</td>\n",
       "      <td>0.0</td>\n",
       "      <td>0.0</td>\n",
       "      <td>0.0</td>\n",
       "    </tr>\n",
       "    <tr>\n",
       "      <th>5</th>\n",
       "      <td>0.0</td>\n",
       "      <td>0.0</td>\n",
       "      <td>0.0</td>\n",
       "      <td>0.0</td>\n",
       "      <td>0.0</td>\n",
       "      <td>0.0</td>\n",
       "      <td>0.0</td>\n",
       "      <td>0.0</td>\n",
       "      <td>0.0</td>\n",
       "      <td>0.0</td>\n",
       "      <td>...</td>\n",
       "      <td>0.0</td>\n",
       "      <td>0.0</td>\n",
       "      <td>0.0</td>\n",
       "      <td>0.0</td>\n",
       "      <td>0.0</td>\n",
       "      <td>0.0</td>\n",
       "      <td>0.0</td>\n",
       "      <td>0.0</td>\n",
       "      <td>0.0</td>\n",
       "      <td>0.0</td>\n",
       "    </tr>\n",
       "    <tr>\n",
       "      <th>6</th>\n",
       "      <td>0.0</td>\n",
       "      <td>0.0</td>\n",
       "      <td>0.0</td>\n",
       "      <td>0.0</td>\n",
       "      <td>0.0</td>\n",
       "      <td>0.0</td>\n",
       "      <td>0.0</td>\n",
       "      <td>0.0</td>\n",
       "      <td>0.0</td>\n",
       "      <td>0.0</td>\n",
       "      <td>...</td>\n",
       "      <td>0.0</td>\n",
       "      <td>0.0</td>\n",
       "      <td>0.0</td>\n",
       "      <td>0.0</td>\n",
       "      <td>0.0</td>\n",
       "      <td>0.0</td>\n",
       "      <td>0.0</td>\n",
       "      <td>0.0</td>\n",
       "      <td>0.0</td>\n",
       "      <td>0.0</td>\n",
       "    </tr>\n",
       "    <tr>\n",
       "      <th>7</th>\n",
       "      <td>0.0</td>\n",
       "      <td>0.0</td>\n",
       "      <td>0.0</td>\n",
       "      <td>0.0</td>\n",
       "      <td>0.0</td>\n",
       "      <td>0.0</td>\n",
       "      <td>0.0</td>\n",
       "      <td>0.0</td>\n",
       "      <td>0.0</td>\n",
       "      <td>0.0</td>\n",
       "      <td>...</td>\n",
       "      <td>0.0</td>\n",
       "      <td>0.0</td>\n",
       "      <td>0.0</td>\n",
       "      <td>0.0</td>\n",
       "      <td>0.0</td>\n",
       "      <td>0.0</td>\n",
       "      <td>0.0</td>\n",
       "      <td>0.0</td>\n",
       "      <td>0.0</td>\n",
       "      <td>0.0</td>\n",
       "    </tr>\n",
       "    <tr>\n",
       "      <th>8</th>\n",
       "      <td>0.0</td>\n",
       "      <td>0.0</td>\n",
       "      <td>0.0</td>\n",
       "      <td>0.0</td>\n",
       "      <td>0.0</td>\n",
       "      <td>0.0</td>\n",
       "      <td>0.0</td>\n",
       "      <td>0.0</td>\n",
       "      <td>0.0</td>\n",
       "      <td>0.0</td>\n",
       "      <td>...</td>\n",
       "      <td>0.0</td>\n",
       "      <td>0.0</td>\n",
       "      <td>0.0</td>\n",
       "      <td>0.0</td>\n",
       "      <td>0.0</td>\n",
       "      <td>0.0</td>\n",
       "      <td>0.0</td>\n",
       "      <td>0.0</td>\n",
       "      <td>0.0</td>\n",
       "      <td>0.0</td>\n",
       "    </tr>\n",
       "    <tr>\n",
       "      <th>9</th>\n",
       "      <td>0.0</td>\n",
       "      <td>0.0</td>\n",
       "      <td>0.0</td>\n",
       "      <td>0.0</td>\n",
       "      <td>0.0</td>\n",
       "      <td>0.0</td>\n",
       "      <td>0.0</td>\n",
       "      <td>0.0</td>\n",
       "      <td>0.0</td>\n",
       "      <td>0.0</td>\n",
       "      <td>...</td>\n",
       "      <td>0.0</td>\n",
       "      <td>0.0</td>\n",
       "      <td>0.0</td>\n",
       "      <td>0.0</td>\n",
       "      <td>0.0</td>\n",
       "      <td>0.0</td>\n",
       "      <td>0.0</td>\n",
       "      <td>0.0</td>\n",
       "      <td>0.0</td>\n",
       "      <td>0.0</td>\n",
       "    </tr>\n",
       "  </tbody>\n",
       "</table>\n",
       "<p>10 rows × 10000 columns</p>\n",
       "</div>"
      ],
      "text/plain": [
       "    10   16  1953   30  30م   40  412  413  419   50  ...  ٳنك   کل   ڪل   ڪن  \\\n",
       "0  0.0  0.0   0.0  0.0  0.0  0.0  0.0  0.0  0.0  0.0  ...  0.0  0.0  0.0  0.0   \n",
       "1  0.0  0.0   0.0  0.0  0.0  0.0  0.0  0.0  0.0  0.0  ...  0.0  0.0  0.0  0.0   \n",
       "2  0.0  0.0   0.0  0.0  0.0  0.0  0.0  0.0  0.0  0.0  ...  0.0  0.0  0.0  0.0   \n",
       "3  0.0  0.0   0.0  0.0  0.0  0.0  0.0  0.0  0.0  0.0  ...  0.0  0.0  0.0  0.0   \n",
       "4  0.0  0.0   0.0  0.0  0.0  0.0  0.0  0.0  0.0  0.0  ...  0.0  0.0  0.0  0.0   \n",
       "5  0.0  0.0   0.0  0.0  0.0  0.0  0.0  0.0  0.0  0.0  ...  0.0  0.0  0.0  0.0   \n",
       "6  0.0  0.0   0.0  0.0  0.0  0.0  0.0  0.0  0.0  0.0  ...  0.0  0.0  0.0  0.0   \n",
       "7  0.0  0.0   0.0  0.0  0.0  0.0  0.0  0.0  0.0  0.0  ...  0.0  0.0  0.0  0.0   \n",
       "8  0.0  0.0   0.0  0.0  0.0  0.0  0.0  0.0  0.0  0.0  ...  0.0  0.0  0.0  0.0   \n",
       "9  0.0  0.0   0.0  0.0  0.0  0.0  0.0  0.0  0.0  0.0  ...  0.0  0.0  0.0  0.0   \n",
       "\n",
       "   گثيرا  ۆفيما   ۈل  یبقی  یوم   ฬw  \n",
       "0    0.0    0.0  0.0   0.0  0.0  0.0  \n",
       "1    0.0    0.0  0.0   0.0  0.0  0.0  \n",
       "2    0.0    0.0  0.0   0.0  0.0  0.0  \n",
       "3    0.0    0.0  0.0   0.0  0.0  0.0  \n",
       "4    0.0    0.0  0.0   0.0  0.0  0.0  \n",
       "5    0.0    0.0  0.0   0.0  0.0  0.0  \n",
       "6    0.0    0.0  0.0   0.0  0.0  0.0  \n",
       "7    0.0    0.0  0.0   0.0  0.0  0.0  \n",
       "8    0.0    0.0  0.0   0.0  0.0  0.0  \n",
       "9    0.0    0.0  0.0   0.0  0.0  0.0  \n",
       "\n",
       "[10 rows x 10000 columns]"
      ]
     },
     "execution_count": 76,
     "metadata": {},
     "output_type": "execute_result"
    }
   ],
   "source": [
    "word_vectorizer = TfidfVectorizer(\n",
    "    sublinear_tf=True,\n",
    "    strip_accents='unicode',\n",
    "    analyzer='word',\n",
    "    ngram_range=(1, 1),\n",
    "    max_features =10000)\n",
    "\n",
    "word_vec= word_vectorizer.fit_transform(full_data['tweet_text'].astype('str'))\n",
    "word_vec = word_vec.toarray()\n",
    "\n",
    "vocab = word_vectorizer.get_feature_names()\n",
    "word_vec_features=pd.DataFrame(word_vec, columns=vocab)\n",
    "word_vec_features.head(10)"
   ]
  },
  {
   "cell_type": "markdown",
   "id": "2a01a632",
   "metadata": {},
   "source": [
    "# Save the final dataset"
   ]
  },
  {
   "cell_type": "code",
   "execution_count": 67,
   "id": "db8b9968",
   "metadata": {},
   "outputs": [],
   "source": [
    "full_data.to_pickle('full_df.pickle')"
   ]
  },
  {
   "cell_type": "code",
   "execution_count": 70,
   "id": "5aca1298",
   "metadata": {},
   "outputs": [
    {
     "data": {
      "text/html": [
       "<div>\n",
       "<style scoped>\n",
       "    .dataframe tbody tr th:only-of-type {\n",
       "        vertical-align: middle;\n",
       "    }\n",
       "\n",
       "    .dataframe tbody tr th {\n",
       "        vertical-align: top;\n",
       "    }\n",
       "\n",
       "    .dataframe thead th {\n",
       "        text-align: right;\n",
       "    }\n",
       "</style>\n",
       "<table border=\"1\" class=\"dataframe\">\n",
       "  <thead>\n",
       "    <tr style=\"text-align: right;\">\n",
       "      <th></th>\n",
       "      <th>class</th>\n",
       "      <th>tweet_text</th>\n",
       "    </tr>\n",
       "  </thead>\n",
       "  <tbody>\n",
       "    <tr>\n",
       "      <th>0</th>\n",
       "      <td>1</td>\n",
       "      <td>[اله, قفل, ميتينك]</td>\n",
       "    </tr>\n",
       "    <tr>\n",
       "      <th>1</th>\n",
       "      <td>1</td>\n",
       "      <td>[طيار, عراقي, يسال, برج, المراقبه, سلطنه, عمان...</td>\n",
       "    </tr>\n",
       "    <tr>\n",
       "      <th>2</th>\n",
       "      <td>1</td>\n",
       "      <td>[علمهم, تكفي, حسبي, اله, عليهم]</td>\n",
       "    </tr>\n",
       "    <tr>\n",
       "      <th>3</th>\n",
       "      <td>1</td>\n",
       "      <td>[وعن, ذكر, اله, تغفلون, اله, الا, اله, اله, ال...</td>\n",
       "    </tr>\n",
       "    <tr>\n",
       "      <th>4</th>\n",
       "      <td>1</td>\n",
       "      <td>[كثير, جمهور, الاهلي, يقول, عطنا, تشكيله, الهل...</td>\n",
       "    </tr>\n",
       "    <tr>\n",
       "      <th>...</th>\n",
       "      <td>...</td>\n",
       "      <td>...</td>\n",
       "    </tr>\n",
       "    <tr>\n",
       "      <th>28271</th>\n",
       "      <td>0</td>\n",
       "      <td>[الناس, الطبيعيه, بصداقتهم, تقول, احنا, مقربين...</td>\n",
       "    </tr>\n",
       "    <tr>\n",
       "      <th>28272</th>\n",
       "      <td>0</td>\n",
       "      <td>[يمكن, النت, حقها, خلص]</td>\n",
       "    </tr>\n",
       "    <tr>\n",
       "      <th>28273</th>\n",
       "      <td>0</td>\n",
       "      <td>[المقطع, صباح, لازم, اسمعه, صار, اساسيات, حياتي]</td>\n",
       "    </tr>\n",
       "    <tr>\n",
       "      <th>28274</th>\n",
       "      <td>0</td>\n",
       "      <td>[كانها, كيكتك, انتي]</td>\n",
       "    </tr>\n",
       "    <tr>\n",
       "      <th>28275</th>\n",
       "      <td>0</td>\n",
       "      <td>[ضحوك, انته]</td>\n",
       "    </tr>\n",
       "  </tbody>\n",
       "</table>\n",
       "<p>56812 rows × 2 columns</p>\n",
       "</div>"
      ],
      "text/plain": [
       "       class                                         tweet_text\n",
       "0          1                                 [اله, قفل, ميتينك]\n",
       "1          1  [طيار, عراقي, يسال, برج, المراقبه, سلطنه, عمان...\n",
       "2          1                    [علمهم, تكفي, حسبي, اله, عليهم]\n",
       "3          1  [وعن, ذكر, اله, تغفلون, اله, الا, اله, اله, ال...\n",
       "4          1  [كثير, جمهور, الاهلي, يقول, عطنا, تشكيله, الهل...\n",
       "...      ...                                                ...\n",
       "28271      0  [الناس, الطبيعيه, بصداقتهم, تقول, احنا, مقربين...\n",
       "28272      0                            [يمكن, النت, حقها, خلص]\n",
       "28273      0   [المقطع, صباح, لازم, اسمعه, صار, اساسيات, حياتي]\n",
       "28274      0                               [كانها, كيكتك, انتي]\n",
       "28275      0                                       [ضحوك, انته]\n",
       "\n",
       "[56812 rows x 2 columns]"
      ]
     },
     "execution_count": 70,
     "metadata": {},
     "output_type": "execute_result"
    }
   ],
   "source": [
    "full_df = pd.read_pickle('data/full_df.pickle')\n",
    "full_df.head(-50)"
   ]
  },
  {
   "cell_type": "markdown",
   "id": "8baab05f",
   "metadata": {},
   "source": [
    "# Machine Learning part"
   ]
  },
  {
   "cell_type": "code",
   "execution_count": 104,
   "id": "bd6fbbc9",
   "metadata": {},
   "outputs": [],
   "source": [
    "y=full_df['class']\n",
    "X=word_vec_features"
   ]
  },
  {
   "cell_type": "code",
   "execution_count": 105,
   "id": "2c7d44df",
   "metadata": {},
   "outputs": [
    {
     "data": {
      "text/plain": [
       "((56862, 10000), (56862,))"
      ]
     },
     "execution_count": 105,
     "metadata": {},
     "output_type": "execute_result"
    }
   ],
   "source": [
    "X.shape, y.shape"
   ]
  },
  {
   "cell_type": "markdown",
   "id": "fd1137fc",
   "metadata": {},
   "source": [
    "# Spliting Dataset into 80% Training and 20% Testing"
   ]
  },
  {
   "cell_type": "code",
   "execution_count": 106,
   "id": "436a0fee",
   "metadata": {},
   "outputs": [],
   "source": [
    "X_train, X_test, y_train, y_test = train_test_split(X, y, test_size=0.20, random_state=2)"
   ]
  },
  {
   "cell_type": "markdown",
   "id": "c4dae4a3",
   "metadata": {},
   "source": [
    "# Machine Learning Algorithms"
   ]
  },
  {
   "cell_type": "markdown",
   "id": "19b1eb37",
   "metadata": {},
   "source": [
    "# 1- Naive Bayes Algorithm"
   ]
  },
  {
   "cell_type": "markdown",
   "id": "a955a763",
   "metadata": {},
   "source": [
    "A- Multinomial Naive Bayes algorthim"
   ]
  },
  {
   "cell_type": "code",
   "execution_count": 121,
   "id": "5aeaf628",
   "metadata": {},
   "outputs": [
    {
     "name": "stdout",
     "output_type": "stream",
     "text": [
      "Accuracy= 0.764\n",
      "Precision= 0.780\n",
      "Recall= 0.740\n",
      "F1= 0.760\n"
     ]
    }
   ],
   "source": [
    "mnb=MultinomialNB()\n",
    "mnb=mnb.fit(X_train, y_train)\n",
    "y_pred=mnb.predict(X_test)\n",
    "mnb_1=mnb.score(X_test, y_test)\n",
    "print('Accuracy= {:.3f}'.format(mnb.score(X_test, y_test)))\n",
    "print('Precision= {:.3f}'.format(round(precision_score(y_test, y_pred),2)))\n",
    "print('Recall= {:.3f}'.format(round(recall_score(y_test, y_pred),2)))\n",
    "print('F1= {:.3f}'.format(round(f1_score(y_test, y_pred),2)))\n"
   ]
  },
  {
   "cell_type": "markdown",
   "id": "5e51bdb0",
   "metadata": {},
   "source": [
    " "
   ]
  },
  {
   "cell_type": "markdown",
   "id": "3f5e7115",
   "metadata": {},
   "source": [
    "B- Gaussian Naive Bayes algorthim"
   ]
  },
  {
   "cell_type": "code",
   "execution_count": 118,
   "id": "e6221545",
   "metadata": {},
   "outputs": [
    {
     "name": "stdout",
     "output_type": "stream",
     "text": [
      "Accuracy= 0.735\n",
      "Precision= 0.840\n",
      "Recall= 0.590\n",
      "F1= 0.690\n"
     ]
    }
   ],
   "source": [
    "nb=GaussianNB()\n",
    "nb= nb.fit(X_train , y_train)\n",
    "y_pred = nb.predict(X_test)\n",
    "nb_1=nb.score(X_test, y_test)\n",
    "print('Accuracy= {:.3f}'.format(nb.score(X_test, y_test)))\n",
    "print('Precision= {:.3f}'.format(round(precision_score(y_test, y_pred),2)))\n",
    "print('Recall= {:.3f}'.format(round(recall_score(y_test, y_pred),2)))\n",
    "print('F1= {:.3f}'.format(round(f1_score(y_test, y_pred),2)))"
   ]
  },
  {
   "cell_type": "markdown",
   "id": "1e9c8756",
   "metadata": {},
   "source": [
    " "
   ]
  },
  {
   "cell_type": "code",
   "execution_count": 119,
   "id": "078774ba",
   "metadata": {},
   "outputs": [
    {
     "name": "stdout",
     "output_type": "stream",
     "text": [
      "Accuracy= 0.779\n",
      "Precision= 0.810\n",
      "Recall= 0.740\n",
      "F1= 0.770\n"
     ]
    }
   ],
   "source": [
    "RC= RidgeClassifier()\n",
    "RC= RC.fit(X_train , y_train)\n",
    "y_pred = RC.predict(X_test)\n",
    "rc_1=RC.score(X_test, y_test)\n",
    "print('Accuracy= {:.3f}'.format(RC.score(X_test, y_test)))\n",
    "print('Precision= {:.3f}'.format(round(precision_score(y_test, y_pred),2)))\n",
    "print('Recall= {:.3f}'.format(round(recall_score(y_test, y_pred),2)))\n",
    "print('F1= {:.3f}'.format(round(f1_score(y_test, y_pred),2)))"
   ]
  },
  {
   "cell_type": "markdown",
   "id": "7cecd697",
   "metadata": {},
   "source": [
    " "
   ]
  },
  {
   "cell_type": "markdown",
   "id": "999a61c2",
   "metadata": {},
   "source": [
    "# 3- LogisticRegression Algorithm"
   ]
  },
  {
   "cell_type": "markdown",
   "id": "cd4f7a4f",
   "metadata": {},
   "source": [
    "Using C=1 which is regularization and it is applying a penalty to increasing the magnitude of parameter values in order to reduce overfitting."
   ]
  },
  {
   "cell_type": "code",
   "execution_count": 120,
   "id": "8ee223cd",
   "metadata": {},
   "outputs": [
    {
     "name": "stdout",
     "output_type": "stream",
     "text": [
      "Accuracy= 0.783\n",
      "Precision= 0.820\n",
      "Recall= 0.730\n",
      "F1= 0.770\n"
     ]
    }
   ],
   "source": [
    "LR= LogisticRegression(penalty = 'l2', C = 1)\n",
    "LR= LR.fit(X_train , y_train)\n",
    "y_pred = LR.predict(X_test)\n",
    "lr_1=LR.score(X_test, y_test)\n",
    "print('Accuracy= {:.3f}'.format(LR.score(X_test, y_test)))\n",
    "print('Precision= {:.3f}'.format(round(precision_score(y_test, y_pred),2)))\n",
    "print('Recall= {:.3f}'.format(round(recall_score(y_test, y_pred),2)))\n",
    "print('F1= {:.3f}'.format(round(f1_score(y_test, y_pred),2)))"
   ]
  },
  {
   "cell_type": "markdown",
   "id": "65561636",
   "metadata": {},
   "source": [
    " "
   ]
  },
  {
   "cell_type": "markdown",
   "id": "f2cf3e9a",
   "metadata": {},
   "source": [
    "# Algorithms Results comparison"
   ]
  },
  {
   "cell_type": "code",
   "execution_count": 122,
   "id": "e474bfca",
   "metadata": {},
   "outputs": [
    {
     "name": "stdout",
     "output_type": "stream",
     "text": [
      "\n",
      "\n",
      "Comparison of all algorithms on Accuracy\n",
      "+-----------------------------------+----------+\n",
      "|               Model               | Accuracy |\n",
      "+-----------------------------------+----------+\n",
      "| Multinomail Naive Bayes Algorithm |  0.764   |\n",
      "|       Naive Bayes Algorithm       |  0.735   |\n",
      "|     Ridge Classifier Algorithm    |  0.779   |\n",
      "|   Logistic Regression Algorithm   |  0.783   |\n",
      "+-----------------------------------+----------+\n",
      "\n",
      "\n"
     ]
    }
   ],
   "source": [
    "x = PrettyTable()\n",
    "print('\\n')\n",
    "print(\"Comparison of all algorithms on Accuracy\")\n",
    "x.field_names = [\"Model\", \"Accuracy\"]\n",
    "\n",
    "x.add_row([\"Multinomail Naive Bayes Algorithm\", round(mnb_1,3)])\n",
    "x.add_row([\"Naive Bayes Algorithm\", round(nb_1,3)])\n",
    "x.add_row([\"Ridge Classifier Algorithm\",  round(rc_1,3)])\n",
    "x.add_row([\"Logistic Regression Algorithm\", round(lr_1,3)])\n",
    "\n",
    "print(x)\n",
    "print('\\n')"
   ]
  },
  {
   "cell_type": "code",
   "execution_count": null,
   "id": "7618bb06",
   "metadata": {},
   "outputs": [],
   "source": []
  },
  {
   "cell_type": "code",
   "execution_count": null,
   "id": "e555d5f5",
   "metadata": {},
   "outputs": [],
   "source": []
  },
  {
   "cell_type": "code",
   "execution_count": 123,
   "id": "27f7ee45",
   "metadata": {},
   "outputs": [
    {
     "data": {
      "text/plain": [
       "LogisticRegression()"
      ]
     },
     "execution_count": 123,
     "metadata": {},
     "output_type": "execute_result"
    }
   ],
   "source": [
    "RC =LogisticRegression(penalty = 'l2')\n",
    "RC.fit(X_train,y_train)"
   ]
  },
  {
   "cell_type": "code",
   "execution_count": 131,
   "id": "56181f23",
   "metadata": {},
   "outputs": [],
   "source": [
    "tv=['من امنيات الطفولة']"
   ]
  },
  {
   "cell_type": "code",
   "execution_count": 132,
   "id": "dba61148",
   "metadata": {},
   "outputs": [],
   "source": [
    "x = word_vectorizer.transform(tv)"
   ]
  },
  {
   "cell_type": "code",
   "execution_count": 133,
   "id": "29f0996e",
   "metadata": {},
   "outputs": [
    {
     "name": "stdout",
     "output_type": "stream",
     "text": [
      "  Prediction\n",
      "0        pos\n"
     ]
    }
   ],
   "source": [
    "pred=RC.predict(x)\n",
    "pred=pro.inverse_transform(pred)\n",
    "prediction=pd.DataFrame(pred, columns=['Prediction']) \n",
    "print (prediction)"
   ]
  },
  {
   "cell_type": "code",
   "execution_count": 127,
   "id": "517ea1c1",
   "metadata": {},
   "outputs": [
    {
     "data": {
      "text/plain": [
       "(56862, 10000)"
      ]
     },
     "execution_count": 127,
     "metadata": {},
     "output_type": "execute_result"
    }
   ],
   "source": [
    "X.shape"
   ]
  },
  {
   "cell_type": "code",
   "execution_count": 91,
   "id": "6e9c45d3",
   "metadata": {},
   "outputs": [
    {
     "ename": "NameError",
     "evalue": "name 'keras' is not defined",
     "output_type": "error",
     "traceback": [
      "\u001b[0;31m---------------------------------------------------------------------------\u001b[0m",
      "\u001b[0;31mNameError\u001b[0m                                 Traceback (most recent call last)",
      "\u001b[0;32m<ipython-input-91-92f52464ee0a>\u001b[0m in \u001b[0;36m<module>\u001b[0;34m\u001b[0m\n\u001b[0;32m----> 1\u001b[0;31m \u001b[0mearly_stopping\u001b[0m \u001b[0;34m=\u001b[0m \u001b[0mkeras\u001b[0m\u001b[0;34m.\u001b[0m\u001b[0mcallbacks\u001b[0m\u001b[0;34m.\u001b[0m\u001b[0mEarlyStopping\u001b[0m\u001b[0;34m(\u001b[0m\u001b[0mmonitor\u001b[0m\u001b[0;34m=\u001b[0m\u001b[0;34m'val_loss'\u001b[0m\u001b[0;34m,\u001b[0m \u001b[0mpatience\u001b[0m\u001b[0;34m=\u001b[0m\u001b[0;36m3\u001b[0m\u001b[0;34m,\u001b[0m \u001b[0mmin_delta\u001b[0m \u001b[0;34m=\u001b[0m \u001b[0;36m0.1\u001b[0m\u001b[0;34m,\u001b[0m \u001b[0mverbose\u001b[0m \u001b[0;34m=\u001b[0m \u001b[0;36m1\u001b[0m\u001b[0;34m)\u001b[0m\u001b[0;34m\u001b[0m\u001b[0;34m\u001b[0m\u001b[0m\n\u001b[0m",
      "\u001b[0;31mNameError\u001b[0m: name 'keras' is not defined"
     ]
    }
   ],
   "source": [
    "early_stopping = keras.callbacks.EarlyStopping(monitor='val_loss', patience=3, min_delta = 0.1, verbose = 1)\n"
   ]
  },
  {
   "cell_type": "code",
   "execution_count": 89,
   "id": "25d3e062",
   "metadata": {},
   "outputs": [
    {
     "name": "stdout",
     "output_type": "stream",
     "text": [
      "Epoch 1/25\n",
      "4549/4549 [==============================] - 20s 1ms/step - loss: 0.5494 - accuracy: 0.7038\n",
      "Epoch 2/25\n",
      "4549/4549 [==============================] - 5s 1ms/step - loss: 0.3803 - accuracy: 0.8161\n",
      "Epoch 3/25\n",
      "4549/4549 [==============================] - 5s 1ms/step - loss: 0.3229 - accuracy: 0.8448\n",
      "Epoch 4/25\n",
      "4549/4549 [==============================] - 6s 1ms/step - loss: 0.2842 - accuracy: 0.8653\n",
      "Epoch 5/25\n",
      "4549/4549 [==============================] - 6s 1ms/step - loss: 0.2517 - accuracy: 0.8787\n",
      "Epoch 6/25\n",
      "4549/4549 [==============================] - 5s 1ms/step - loss: 0.2252 - accuracy: 0.8892\n",
      "Epoch 7/25\n",
      "4549/4549 [==============================] - 5s 1ms/step - loss: 0.2022 - accuracy: 0.9029\n",
      "Epoch 8/25\n",
      "4549/4549 [==============================] - 6s 1ms/step - loss: 0.1785 - accuracy: 0.9151\n",
      "Epoch 9/25\n",
      "4549/4549 [==============================] - 6s 1ms/step - loss: 0.1598 - accuracy: 0.9262\n",
      "Epoch 10/25\n",
      "4549/4549 [==============================] - 6s 1ms/step - loss: 0.1436 - accuracy: 0.9345\n",
      "Epoch 11/25\n",
      "4549/4549 [==============================] - 6s 1ms/step - loss: 0.1295 - accuracy: 0.9388\n",
      "Epoch 12/25\n",
      "4549/4549 [==============================] - 6s 1ms/step - loss: 0.1205 - accuracy: 0.9427\n",
      "Epoch 13/25\n",
      "4549/4549 [==============================] - 6s 1ms/step - loss: 0.1099 - accuracy: 0.9489\n",
      "Epoch 14/25\n",
      "4549/4549 [==============================] - 5s 1ms/step - loss: 0.1042 - accuracy: 0.9487\n",
      "Epoch 15/25\n",
      "4549/4549 [==============================] - 5s 1ms/step - loss: 0.0987 - accuracy: 0.9522\n",
      "Epoch 16/25\n",
      "4549/4549 [==============================] - 5s 1ms/step - loss: 0.0921 - accuracy: 0.9557\n",
      "Epoch 17/25\n",
      "4549/4549 [==============================] - 5s 1ms/step - loss: 0.0894 - accuracy: 0.9565\n",
      "Epoch 18/25\n",
      "4549/4549 [==============================] - 6s 1ms/step - loss: 0.0852 - accuracy: 0.9593\n",
      "Epoch 19/25\n",
      "4549/4549 [==============================] - 6s 1ms/step - loss: 0.0864 - accuracy: 0.9582\n",
      "Epoch 20/25\n",
      "4549/4549 [==============================] - 5s 1ms/step - loss: 0.0822 - accuracy: 0.9600\n",
      "Epoch 21/25\n",
      "4549/4549 [==============================] - 6s 1ms/step - loss: 0.0789 - accuracy: 0.9619\n",
      "Epoch 22/25\n",
      "4549/4549 [==============================] - 5s 1ms/step - loss: 0.0776 - accuracy: 0.9619\n",
      "Epoch 23/25\n",
      "4549/4549 [==============================] - 6s 1ms/step - loss: 0.0758 - accuracy: 0.9629\n",
      "Epoch 24/25\n",
      "4549/4549 [==============================] - 5s 1ms/step - loss: 0.0762 - accuracy: 0.9620\n",
      "Epoch 25/25\n",
      "4549/4549 [==============================] - 5s 1ms/step - loss: 0.0727 - accuracy: 0.9645\n"
     ]
    },
    {
     "data": {
      "text/plain": [
       "<keras.callbacks.History at 0x7f9c54eace10>"
      ]
     },
     "execution_count": 89,
     "metadata": {},
     "output_type": "execute_result"
    }
   ],
   "source": [
    "# first neural network with keras tutorial\n",
    "\n",
    "# define the keras model\n",
    "\n",
    "model = Sequential()\n",
    "model.add(Dense(12, input_dim=10000, activation='relu'))\n",
    "model.add(Dense(8, activation='relu'))\n",
    "model.add(Dense(1, activation='sigmoid'))\n",
    "# compile the keras model\n",
    "model.compile(loss='binary_crossentropy', optimizer='adam', metrics=['accuracy'])\n",
    "# fit the keras model on the dataset\n",
    "model.fit(X_train, y_train, epochs=25, batch_size=10)\n"
   ]
  },
  {
   "cell_type": "code",
   "execution_count": 157,
   "id": "c64ac819",
   "metadata": {
    "scrolled": true
   },
   "outputs": [
    {
     "name": "stdout",
     "output_type": "stream",
     "text": [
      "Model: \"sequential_11\"\n",
      "_________________________________________________________________\n",
      "Layer (type)                 Output Shape              Param #   \n",
      "=================================================================\n",
      "dense_18 (Dense)             (None, 12)                120012    \n",
      "_________________________________________________________________\n",
      "dense_19 (Dense)             (None, 8)                 104       \n",
      "_________________________________________________________________\n",
      "dense_20 (Dense)             (None, 1)                 9         \n",
      "=================================================================\n",
      "Total params: 120,125\n",
      "Trainable params: 120,125\n",
      "Non-trainable params: 0\n",
      "_________________________________________________________________\n"
     ]
    }
   ],
   "source": [
    "model.summary()"
   ]
  },
  {
   "cell_type": "code",
   "execution_count": 97,
   "id": "039c671e",
   "metadata": {},
   "outputs": [
    {
     "name": "stdout",
     "output_type": "stream",
     "text": [
      "Epoch 1/50\n",
      "569/569 - 2s - loss: 0.0680 - accuracy: 0.9662 - val_loss: 0.0757 - val_accuracy: 0.9623\n"
     ]
    },
    {
     "data": {
      "text/plain": [
       "<tensorflow.python.keras.callbacks.EarlyStopping at 0x7f98d0a3f790>"
      ]
     },
     "execution_count": 97,
     "metadata": {},
     "output_type": "execute_result"
    }
   ],
   "source": [
    "early_stopping = EarlyStopping()\n",
    "history = model.fit(\n",
    "    X_train, \n",
    "    y_train, \n",
    "    epochs=50, \n",
    "    validation_split=0.20, \n",
    "    batch_size=64, \n",
    "    verbose=2,\n",
    "    callbacks=[early_stopping]\n",
    ")\n",
    "\n",
    "EarlyStopping(\n",
    "    monitor='val_loss', \n",
    "    patience=0, \n",
    "    min_delta=0, \n",
    "    mode='auto'\n",
    ")"
   ]
  },
  {
   "cell_type": "code",
   "execution_count": 102,
   "id": "e2463806",
   "metadata": {},
   "outputs": [
    {
     "name": "stdout",
     "output_type": "stream",
     "text": [
      "dict_keys(['loss', 'accuracy', 'val_loss', 'val_accuracy'])\n"
     ]
    },
    {
     "data": {
      "image/png": "[encoded data removed]",
      "text/plain": [
       "<Figure size 1440x720 with 1 Axes>"
      ]
     },
     "metadata": {
      "needs_background": "light"
     },
     "output_type": "display_data"
    },
    {
     "data": {
      "image/png": "[encoded data removed]",
      "text/plain": [
       "<Figure size 1440x720 with 1 Axes>"
      ]
     },
     "metadata": {
      "needs_background": "light"
     },
     "output_type": "display_data"
    }
   ],
   "source": [
    "\n",
    "\n",
    "\n",
    "# Fit the model\n",
    "history = model.fit(X, y, validation_split=0.33, epochs=25, batch_size=10, verbose=0)\n",
    "# list all data in history\n",
    "print(history.history.keys())\n",
    "# summarize history for accuracy\n",
    "plt.plot(history.history['accuracy'])\n",
    "plt.plot(history.history['val_accuracy'])\n",
    "plt.title('model accuracy')\n",
    "plt.ylabel('accuracy')\n",
    "plt.xlabel('epoch')\n",
    "plt.legend(['train', 'test'], loc='upper left')\n",
    "plt.show()\n",
    "# summarize history for loss\n",
    "plt.plot(history.history['loss'])\n",
    "plt.plot(history.history['val_loss'])\n",
    "plt.title('model loss')\n",
    "plt.ylabel('loss')\n",
    "plt.xlabel('epoch')\n",
    "plt.legend(['train', 'test'], loc='upper left')\n",
    "plt.show()"
   ]
  },
  {
   "cell_type": "code",
   "execution_count": null,
   "id": "e7fe92c9",
   "metadata": {},
   "outputs": [],
   "source": []
  }
 ],
 "metadata": {
  "kernelspec": {
   "display_name": "Python 3",
   "language": "python",
   "name": "python3"
  },
  "language_info": {
   "codemirror_mode": {
    "name": "ipython",
    "version": 3
   },
   "file_extension": ".py",
   "mimetype": "text/x-python",
   "name": "python",
   "nbconvert_exporter": "python",
   "pygments_lexer": "ipython3",
   "version": "3.7.10"
  }
 },
 "nbformat": 4,
 "nbformat_minor": 5
}
