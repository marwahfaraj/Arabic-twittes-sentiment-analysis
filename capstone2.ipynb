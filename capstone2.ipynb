{
 "cells": [
  {
   "cell_type": "code",
   "execution_count": 25,
   "id": "03217dd6",
   "metadata": {},
   "outputs": [],
   "source": [
    "import numpy as np \n",
    "import pandas as pd \n",
    "import warnings\n",
    "warnings.filterwarnings(\"ignore\")\n",
    "from wordcloud import WordCloud, ImageColorGenerator\n",
    "import matplotlib.pyplot as plt\n",
    "plt.style.use('ggplot')\n",
    "import pandas\n",
    "import seaborn as sns \n",
    "from sklearn import preprocessing\n",
    "import nltk \n",
    "from nltk.stem.isri import ISRIStemmer\n",
    "from nltk.corpus import stopwords\n",
    "from nltk.tokenize import word_tokenize\n",
    "from nltk.tokenize import RegexpTokenizer\n",
    "import arabic_reshaper\n",
    "from bidi.algorithm import get_display\n",
    "import os\n",
    "import codecs\n",
    "from collections import Counter \n",
    "import re\n",
    "import string\n",
    "import matplotlib.cm as cm\n",
    "from matplotlib import rcParams\n",
    "from prettytable import PrettyTable\n",
    "from sklearn.feature_extraction.text import TfidfVectorizer\n",
    "from sklearn import preprocessing\n",
    "from sklearn.model_selection import train_test_split\n",
    "from sklearn.metrics import f1_score\n",
    "from sklearn.metrics import precision_score\n",
    "from sklearn.metrics import recall_score\n",
    "from sklearn.naive_bayes import GaussianNB, MultinomialNB\n",
    "from sklearn.linear_model import RidgeClassifier\n",
    "from sklearn.linear_model import LogisticRegression\n",
    "from sklearn.ensemble import RandomForestClassifier\n",
    "from tensorflow.keras.models import Sequential\n",
    "from tensorflow.keras.layers import Dense, Dropout\n",
    "from tensorflow.keras.callbacks import EarlyStopping\n",
    "import pickle\n",
    "from sklearn.metrics import confusion_matrix,plot_confusion_matrix"
   ]
  },
  {
   "cell_type": "markdown",
   "id": "11ee08d3",
   "metadata": {},
   "source": [
    " "
   ]
  },
  {
   "cell_type": "markdown",
   "id": "2bb42a15",
   "metadata": {},
   "source": [
    "# Reading Arabic_tweets_positive dataset"
   ]
  },
  {
   "cell_type": "markdown",
   "id": "e8eec6af",
   "metadata": {},
   "source": [
    " "
   ]
  },
  {
   "cell_type": "code",
   "execution_count": 20,
   "id": "f9c918d9",
   "metadata": {},
   "outputs": [],
   "source": [
    "#set erro_bad_lines = False, it needed when the csv has too many commas\n",
    "cols = ['class','tweet_text']\n",
    "positive = pd.read_csv('data/Arabic_tweets_positive_20190413.tsv',sep='\\t', error_bad_lines = False ,header=None, names=cols)"
   ]
  },
  {
   "cell_type": "code",
   "execution_count": 21,
   "id": "a153a01f",
   "metadata": {},
   "outputs": [
    {
     "data": {
      "text/html": [
       "<div>\n",
       "<style scoped>\n",
       "    .dataframe tbody tr th:only-of-type {\n",
       "        vertical-align: middle;\n",
       "    }\n",
       "\n",
       "    .dataframe tbody tr th {\n",
       "        vertical-align: top;\n",
       "    }\n",
       "\n",
       "    .dataframe thead th {\n",
       "        text-align: right;\n",
       "    }\n",
       "</style>\n",
       "<table border=\"1\" class=\"dataframe\">\n",
       "  <thead>\n",
       "    <tr style=\"text-align: right;\">\n",
       "      <th></th>\n",
       "      <th>class</th>\n",
       "      <th>tweet_text</th>\n",
       "    </tr>\n",
       "  </thead>\n",
       "  <tbody>\n",
       "    <tr>\n",
       "      <th>0</th>\n",
       "      <td>pos</td>\n",
       "      <td>علييك الله قفل ميتينك ❤</td>\n",
       "    </tr>\n",
       "    <tr>\n",
       "      <th>1</th>\n",
       "      <td>pos</td>\n",
       "      <td>طيار عراقي يسال برج المراقبة في سلطنة عمان عن ...</td>\n",
       "    </tr>\n",
       "    <tr>\n",
       "      <th>2</th>\n",
       "      <td>pos</td>\n",
       "      <td>علمهم تكفى حسبي الله عليهم 🙂</td>\n",
       "    </tr>\n",
       "    <tr>\n",
       "      <th>3</th>\n",
       "      <td>pos</td>\n",
       "      <td>🍀 وعن ذكر الله لا تغفلون لا إله إلا الله لا إل...</td>\n",
       "    </tr>\n",
       "    <tr>\n",
       "      <th>4</th>\n",
       "      <td>pos</td>\n",
       "      <td>كثير من جمهور #الاهلي يقول لي عطنا تشكيلة #اله...</td>\n",
       "    </tr>\n",
       "    <tr>\n",
       "      <th>5</th>\n",
       "      <td>pos</td>\n",
       "      <td>🦋 . . . . \"فيني #قليل من الفرح وأغلب تفاصيلي ز...</td>\n",
       "    </tr>\n",
       "    <tr>\n",
       "      <th>6</th>\n",
       "      <td>pos</td>\n",
       "      <td>#الاهلي_الهلال الحمدلله 💙 آه يا عمري يا الزعيم...</td>\n",
       "    </tr>\n",
       "    <tr>\n",
       "      <th>7</th>\n",
       "      <td>pos</td>\n",
       "      <td>أغنية تايلور سويفت #القوس مع غاري لايتبودي #ال...</td>\n",
       "    </tr>\n",
       "    <tr>\n",
       "      <th>8</th>\n",
       "      <td>pos</td>\n",
       "      <td>🌅 تذكير مهم 🌅 . قال رسول الله ﷺ: لا يحافظ على ...</td>\n",
       "    </tr>\n",
       "    <tr>\n",
       "      <th>9</th>\n",
       "      <td>pos</td>\n",
       "      <td>جنابو زاتو محتار \" اتنين في يومين يجماعه\" 😂</td>\n",
       "    </tr>\n",
       "    <tr>\n",
       "      <th>10</th>\n",
       "      <td>pos</td>\n",
       "      <td>اليوم ليلة جلد مدلل جدة وغدا جلد العالمي المزي...</td>\n",
       "    </tr>\n",
       "    <tr>\n",
       "      <th>11</th>\n",
       "      <td>pos</td>\n",
       "      <td>همسة .. مهما بدت لك الأمور مستحيلة .. تذكر قول...</td>\n",
       "    </tr>\n",
       "    <tr>\n",
       "      <th>12</th>\n",
       "      <td>pos</td>\n",
       "      <td>صباح ارخم يوم في الأسبوع يوم #السبت 🤣 #صباح_الخير</td>\n",
       "    </tr>\n",
       "    <tr>\n",
       "      <th>13</th>\n",
       "      <td>pos</td>\n",
       "      <td>اعتقد ان الكل وصل لمرحله الاستغناء الكل وصل لل...</td>\n",
       "    </tr>\n",
       "    <tr>\n",
       "      <th>14</th>\n",
       "      <td>pos</td>\n",
       "      <td>طيار عراقي يسال برج المراقبة في سلطنة عمان عن ...</td>\n",
       "    </tr>\n",
       "    <tr>\n",
       "      <th>15</th>\n",
       "      <td>pos</td>\n",
       "      <td>اللهم آمين 🌧 مششاء الله 😊 جلستكم تفتح النفس 👌🏻🌹</td>\n",
       "    </tr>\n",
       "    <tr>\n",
       "      <th>16</th>\n",
       "      <td>pos</td>\n",
       "      <td>الهلالي اللي متحزم بالاتحاد مثل النصراوي اللي ...</td>\n",
       "    </tr>\n",
       "    <tr>\n",
       "      <th>17</th>\n",
       "      <td>pos</td>\n",
       "      <td>يمرون البشر في صدري مرور الأنفاس وانت الوحيد ا...</td>\n",
       "    </tr>\n",
       "    <tr>\n",
       "      <th>18</th>\n",
       "      <td>pos</td>\n",
       "      <td>عشرات القتلي والجرحي في #طرابلس بعد هجوم ميلشي...</td>\n",
       "    </tr>\n",
       "    <tr>\n",
       "      <th>19</th>\n",
       "      <td>pos</td>\n",
       "      <td>من أمنيات الطفولة.. 💙</td>\n",
       "    </tr>\n",
       "    <tr>\n",
       "      <th>20</th>\n",
       "      <td>pos</td>\n",
       "      <td>سهل تكون نجم لكن صعب تكون حسين 💚</td>\n",
       "    </tr>\n",
       "    <tr>\n",
       "      <th>21</th>\n",
       "      <td>pos</td>\n",
       "      <td>قبطان ومافي كلام وانا اقول انته جايبها من وين 🤣</td>\n",
       "    </tr>\n",
       "    <tr>\n",
       "      <th>22</th>\n",
       "      <td>pos</td>\n",
       "      <td>سايبهالك يختي 😂 😂</td>\n",
       "    </tr>\n",
       "    <tr>\n",
       "      <th>23</th>\n",
       "      <td>pos</td>\n",
       "      <td>🎥 ملخص مباراة الأهلي : الهلال #الأهلي_الهلال #MBS</td>\n",
       "    </tr>\n",
       "    <tr>\n",
       "      <th>24</th>\n",
       "      <td>pos</td>\n",
       "      <td>و لعل الله يدبر لك شيئا يرضيك به شيئا يجعلك تس...</td>\n",
       "    </tr>\n",
       "    <tr>\n",
       "      <th>25</th>\n",
       "      <td>pos</td>\n",
       "      <td>صباح الخيير ☺️</td>\n",
       "    </tr>\n",
       "    <tr>\n",
       "      <th>26</th>\n",
       "      <td>pos</td>\n",
       "      <td>اللهم آمين تسلم 🌹</td>\n",
       "    </tr>\n",
       "    <tr>\n",
       "      <th>27</th>\n",
       "      <td>pos</td>\n",
       "      <td>ياريت تقرفينا كل يوم بقى 😂😂</td>\n",
       "    </tr>\n",
       "    <tr>\n",
       "      <th>28</th>\n",
       "      <td>pos</td>\n",
       "      <td>نفسي وهموت وابطل كسل ولكن مكسل ابطل كسل 😂</td>\n",
       "    </tr>\n",
       "    <tr>\n",
       "      <th>29</th>\n",
       "      <td>pos</td>\n",
       "      <td>صحيت من النوم لبست احمر وحطت احمر. وهيا مخنوقه...</td>\n",
       "    </tr>\n",
       "    <tr>\n",
       "      <th>30</th>\n",
       "      <td>pos</td>\n",
       "      <td>الباقيات الصالحات : 🌷 • سبحان الله .. • والحمد...</td>\n",
       "    </tr>\n",
       "    <tr>\n",
       "      <th>31</th>\n",
       "      <td>pos</td>\n",
       "      <td>اللهم يا شافي يا معافي انزل عافيتك و شفاؤك على...</td>\n",
       "    </tr>\n",
       "    <tr>\n",
       "      <th>32</th>\n",
       "      <td>pos</td>\n",
       "      <td>يقول عز وجل ( لقد خلقنا الإنسان في أحسن تقويم ...</td>\n",
       "    </tr>\n",
       "    <tr>\n",
       "      <th>33</th>\n",
       "      <td>pos</td>\n",
       "      <td>انا كل ابريل لازم اشكر كل اللي بيقوللي كل سنة ...</td>\n",
       "    </tr>\n",
       "    <tr>\n",
       "      <th>34</th>\n",
       "      <td>pos</td>\n",
       "      <td>ابريل : اللهم اجعل هذا اليوم فرحه لا تنسى لجما...</td>\n",
       "    </tr>\n",
       "    <tr>\n",
       "      <th>35</th>\n",
       "      <td>pos</td>\n",
       "      <td>اللهم صل وسلم على نبينا محمد عليه افضل الصلاة ...</td>\n",
       "    </tr>\n",
       "    <tr>\n",
       "      <th>36</th>\n",
       "      <td>pos</td>\n",
       "      <td>خلينا ندور على الايجابيه غصب 🙂</td>\n",
       "    </tr>\n",
       "    <tr>\n",
       "      <th>37</th>\n",
       "      <td>pos</td>\n",
       "      <td>اوك اغنية bts عجبتني مرا واحس اول مرا يرقصون ر...</td>\n",
       "    </tr>\n",
       "    <tr>\n",
       "      <th>38</th>\n",
       "      <td>pos</td>\n",
       "      <td>كفوو ياعيال زايد 💐</td>\n",
       "    </tr>\n",
       "    <tr>\n",
       "      <th>39</th>\n",
       "      <td>pos</td>\n",
       "      <td>يتحدثون عن اخلاق حسين ونجوم فرقهم نهاياتهم الر...</td>\n",
       "    </tr>\n",
       "    <tr>\n",
       "      <th>40</th>\n",
       "      <td>pos</td>\n",
       "      <td>مارح يفهمون كلاب هلال 😂</td>\n",
       "    </tr>\n",
       "    <tr>\n",
       "      <th>41</th>\n",
       "      <td>pos</td>\n",
       "      <td>رئيس المجلس العسكري السوداني الفريق الركن #عوض...</td>\n",
       "    </tr>\n",
       "    <tr>\n",
       "      <th>42</th>\n",
       "      <td>pos</td>\n",
       "      <td>لو يحط ثلاث بيتروس ماغطوا فيلانويفا . 😆 ماراح ...</td>\n",
       "    </tr>\n",
       "    <tr>\n",
       "      <th>43</th>\n",
       "      <td>pos</td>\n",
       "      <td>#الهلال_والاهلي اسيست خرافي من كنو 👍🏻 وبوتيا ق...</td>\n",
       "    </tr>\n",
       "    <tr>\n",
       "      <th>44</th>\n",
       "      <td>pos</td>\n",
       "      <td>#الاتحاد_النصر نجم المباراة…</td>\n",
       "    </tr>\n",
       "    <tr>\n",
       "      <th>45</th>\n",
       "      <td>pos</td>\n",
       "      <td>بينزلوا من ع الجبل تاني 😩</td>\n",
       "    </tr>\n",
       "    <tr>\n",
       "      <th>46</th>\n",
       "      <td>pos</td>\n",
       "      <td>__ سأبقى على يقين بأن ما أحلم به سيأتي يوما ❤ .</td>\n",
       "    </tr>\n",
       "    <tr>\n",
       "      <th>47</th>\n",
       "      <td>pos</td>\n",
       "      <td>اللهم اعطنا من فيض كرمك ، وبارك لنا في نعمك ، ...</td>\n",
       "    </tr>\n",
       "    <tr>\n",
       "      <th>48</th>\n",
       "      <td>pos</td>\n",
       "      <td>لحظة عناق الليل بالنهار .. لحظة عناق البحر بال...</td>\n",
       "    </tr>\n",
       "    <tr>\n",
       "      <th>49</th>\n",
       "      <td>pos</td>\n",
       "      <td>اللهم احفظنا في كل زمان ومكان.. واكفنا الهموم ...</td>\n",
       "    </tr>\n",
       "  </tbody>\n",
       "</table>\n",
       "</div>"
      ],
      "text/plain": [
       "   class                                         tweet_text\n",
       "0    pos                            علييك الله قفل ميتينك ❤\n",
       "1    pos  طيار عراقي يسال برج المراقبة في سلطنة عمان عن ...\n",
       "2    pos                       علمهم تكفى حسبي الله عليهم 🙂\n",
       "3    pos  🍀 وعن ذكر الله لا تغفلون لا إله إلا الله لا إل...\n",
       "4    pos  كثير من جمهور #الاهلي يقول لي عطنا تشكيلة #اله...\n",
       "5    pos  🦋 . . . . \"فيني #قليل من الفرح وأغلب تفاصيلي ز...\n",
       "6    pos  #الاهلي_الهلال الحمدلله 💙 آه يا عمري يا الزعيم...\n",
       "7    pos  أغنية تايلور سويفت #القوس مع غاري لايتبودي #ال...\n",
       "8    pos  🌅 تذكير مهم 🌅 . قال رسول الله ﷺ: لا يحافظ على ...\n",
       "9    pos        جنابو زاتو محتار \" اتنين في يومين يجماعه\" 😂\n",
       "10   pos  اليوم ليلة جلد مدلل جدة وغدا جلد العالمي المزي...\n",
       "11   pos  همسة .. مهما بدت لك الأمور مستحيلة .. تذكر قول...\n",
       "12   pos  صباح ارخم يوم في الأسبوع يوم #السبت 🤣 #صباح_الخير\n",
       "13   pos  اعتقد ان الكل وصل لمرحله الاستغناء الكل وصل لل...\n",
       "14   pos  طيار عراقي يسال برج المراقبة في سلطنة عمان عن ...\n",
       "15   pos    اللهم آمين 🌧 مششاء الله 😊 جلستكم تفتح النفس 👌🏻🌹\n",
       "16   pos  الهلالي اللي متحزم بالاتحاد مثل النصراوي اللي ...\n",
       "17   pos  يمرون البشر في صدري مرور الأنفاس وانت الوحيد ا...\n",
       "18   pos  عشرات القتلي والجرحي في #طرابلس بعد هجوم ميلشي...\n",
       "19   pos                              من أمنيات الطفولة.. 💙\n",
       "20   pos                   سهل تكون نجم لكن صعب تكون حسين 💚\n",
       "21   pos    قبطان ومافي كلام وانا اقول انته جايبها من وين 🤣\n",
       "22   pos                                  سايبهالك يختي 😂 😂\n",
       "23   pos  🎥 ملخص مباراة الأهلي : الهلال #الأهلي_الهلال #MBS\n",
       "24   pos  و لعل الله يدبر لك شيئا يرضيك به شيئا يجعلك تس...\n",
       "25   pos                                     صباح الخيير ☺️\n",
       "26   pos                                  اللهم آمين تسلم 🌹\n",
       "27   pos                        ياريت تقرفينا كل يوم بقى 😂😂\n",
       "28   pos          نفسي وهموت وابطل كسل ولكن مكسل ابطل كسل 😂\n",
       "29   pos  صحيت من النوم لبست احمر وحطت احمر. وهيا مخنوقه...\n",
       "30   pos  الباقيات الصالحات : 🌷 • سبحان الله .. • والحمد...\n",
       "31   pos  اللهم يا شافي يا معافي انزل عافيتك و شفاؤك على...\n",
       "32   pos  يقول عز وجل ( لقد خلقنا الإنسان في أحسن تقويم ...\n",
       "33   pos  انا كل ابريل لازم اشكر كل اللي بيقوللي كل سنة ...\n",
       "34   pos  ابريل : اللهم اجعل هذا اليوم فرحه لا تنسى لجما...\n",
       "35   pos  اللهم صل وسلم على نبينا محمد عليه افضل الصلاة ...\n",
       "36   pos                     خلينا ندور على الايجابيه غصب 🙂\n",
       "37   pos  اوك اغنية bts عجبتني مرا واحس اول مرا يرقصون ر...\n",
       "38   pos                                 كفوو ياعيال زايد 💐\n",
       "39   pos  يتحدثون عن اخلاق حسين ونجوم فرقهم نهاياتهم الر...\n",
       "40   pos                            مارح يفهمون كلاب هلال 😂\n",
       "41   pos  رئيس المجلس العسكري السوداني الفريق الركن #عوض...\n",
       "42   pos  لو يحط ثلاث بيتروس ماغطوا فيلانويفا . 😆 ماراح ...\n",
       "43   pos  #الهلال_والاهلي اسيست خرافي من كنو 👍🏻 وبوتيا ق...\n",
       "44   pos                       #الاتحاد_النصر نجم المباراة…\n",
       "45   pos                          بينزلوا من ع الجبل تاني 😩\n",
       "46   pos    __ سأبقى على يقين بأن ما أحلم به سيأتي يوما ❤ .\n",
       "47   pos  اللهم اعطنا من فيض كرمك ، وبارك لنا في نعمك ، ...\n",
       "48   pos  لحظة عناق الليل بالنهار .. لحظة عناق البحر بال...\n",
       "49   pos  اللهم احفظنا في كل زمان ومكان.. واكفنا الهموم ..."
      ]
     },
     "execution_count": 21,
     "metadata": {},
     "output_type": "execute_result"
    }
   ],
   "source": [
    "positive.head(50)"
   ]
  },
  {
   "cell_type": "markdown",
   "id": "f0287fdc",
   "metadata": {},
   "source": [
    "# Total no. of positive twittes"
   ]
  },
  {
   "cell_type": "code",
   "execution_count": 22,
   "id": "5fe6768d",
   "metadata": {},
   "outputs": [
    {
     "data": {
      "text/plain": [
       "28536"
      ]
     },
     "execution_count": 22,
     "metadata": {},
     "output_type": "execute_result"
    }
   ],
   "source": [
    "len(positive)"
   ]
  },
  {
   "cell_type": "markdown",
   "id": "543b5bdb",
   "metadata": {},
   "source": [
    " "
   ]
  },
  {
   "cell_type": "markdown",
   "id": "03f70f3c",
   "metadata": {},
   "source": [
    "# Sample of the positive twittes text"
   ]
  },
  {
   "cell_type": "code",
   "execution_count": 23,
   "id": "3c57e70c",
   "metadata": {},
   "outputs": [
    {
     "data": {
      "text/plain": [
       "0                              علييك الله قفل ميتينك ❤\n",
       "1    طيار عراقي يسال برج المراقبة في سلطنة عمان عن ...\n",
       "2                         علمهم تكفى حسبي الله عليهم 🙂\n",
       "3    🍀 وعن ذكر الله لا تغفلون لا إله إلا الله لا إل...\n",
       "4    كثير من جمهور #الاهلي يقول لي عطنا تشكيلة #اله...\n",
       "5    🦋 . . . . \"فيني #قليل من الفرح وأغلب تفاصيلي ز...\n",
       "6    #الاهلي_الهلال الحمدلله 💙 آه يا عمري يا الزعيم...\n",
       "7    أغنية تايلور سويفت #القوس مع غاري لايتبودي #ال...\n",
       "8    🌅 تذكير مهم 🌅 . قال رسول الله ﷺ: لا يحافظ على ...\n",
       "9          جنابو زاتو محتار \" اتنين في يومين يجماعه\" 😂\n",
       "Name: tweet_text, dtype: object"
      ]
     },
     "execution_count": 23,
     "metadata": {},
     "output_type": "execute_result"
    }
   ],
   "source": [
    "positive['tweet_text'].head(10)"
   ]
  },
  {
   "cell_type": "markdown",
   "id": "8e5668ec",
   "metadata": {},
   "source": [
    " "
   ]
  },
  {
   "cell_type": "markdown",
   "id": "2c7b7298",
   "metadata": {},
   "source": [
    "# Sample of the target "
   ]
  },
  {
   "cell_type": "code",
   "execution_count": 24,
   "id": "eb4f99de",
   "metadata": {},
   "outputs": [
    {
     "data": {
      "text/plain": [
       "0    pos\n",
       "1    pos\n",
       "2    pos\n",
       "3    pos\n",
       "4    pos\n",
       "Name: class, dtype: object"
      ]
     },
     "execution_count": 24,
     "metadata": {},
     "output_type": "execute_result"
    }
   ],
   "source": [
    "positive['class'].head()"
   ]
  },
  {
   "cell_type": "markdown",
   "id": "7b7768e4",
   "metadata": {},
   "source": [
    " "
   ]
  },
  {
   "cell_type": "markdown",
   "id": "f9892bc3",
   "metadata": {},
   "source": [
    "# EDA on the postive dataset"
   ]
  },
  {
   "cell_type": "code",
   "execution_count": 25,
   "id": "69dd6b2b",
   "metadata": {},
   "outputs": [
    {
     "data": {
      "text/plain": [
       "0"
      ]
     },
     "execution_count": 25,
     "metadata": {},
     "output_type": "execute_result"
    }
   ],
   "source": [
    "np.sum(positive.isnull().any(axis=1))"
   ]
  },
  {
   "cell_type": "code",
   "execution_count": 26,
   "id": "7236a285",
   "metadata": {},
   "outputs": [
    {
     "data": {
      "text/plain": [
       "class         False\n",
       "tweet_text    False\n",
       "dtype: bool"
      ]
     },
     "execution_count": 26,
     "metadata": {},
     "output_type": "execute_result"
    }
   ],
   "source": [
    "positive.isnull().any(axis=0)"
   ]
  },
  {
   "cell_type": "code",
   "execution_count": 27,
   "id": "a0dde4f5",
   "metadata": {},
   "outputs": [
    {
     "name": "stdout",
     "output_type": "stream",
     "text": [
      "<class 'pandas.core.frame.DataFrame'>\n",
      "RangeIndex: 28536 entries, 0 to 28535\n",
      "Data columns (total 2 columns):\n",
      " #   Column      Non-Null Count  Dtype \n",
      "---  ------      --------------  ----- \n",
      " 0   class       28536 non-null  object\n",
      " 1   tweet_text  28536 non-null  object\n",
      "dtypes: object(2)\n",
      "memory usage: 446.0+ KB\n"
     ]
    }
   ],
   "source": [
    "positive.info()"
   ]
  },
  {
   "cell_type": "markdown",
   "id": "b9e2d346",
   "metadata": {},
   "source": [
    "# Cleaning the text"
   ]
  },
  {
   "cell_type": "code",
   "execution_count": 28,
   "id": "021d18ed",
   "metadata": {},
   "outputs": [],
   "source": [
    "for letter in '#.][!XRﷺ':\n",
    "    positive['tweet_text'] = positive['tweet_text'].astype(str).str.replace(letter,'')"
   ]
  },
  {
   "cell_type": "code",
   "execution_count": 29,
   "id": "5d5a457c",
   "metadata": {},
   "outputs": [
    {
     "data": {
      "text/html": [
       "<div>\n",
       "<style scoped>\n",
       "    .dataframe tbody tr th:only-of-type {\n",
       "        vertical-align: middle;\n",
       "    }\n",
       "\n",
       "    .dataframe tbody tr th {\n",
       "        vertical-align: top;\n",
       "    }\n",
       "\n",
       "    .dataframe thead th {\n",
       "        text-align: right;\n",
       "    }\n",
       "</style>\n",
       "<table border=\"1\" class=\"dataframe\">\n",
       "  <thead>\n",
       "    <tr style=\"text-align: right;\">\n",
       "      <th></th>\n",
       "      <th>class</th>\n",
       "      <th>tweet_text</th>\n",
       "    </tr>\n",
       "  </thead>\n",
       "  <tbody>\n",
       "    <tr>\n",
       "      <th>0</th>\n",
       "      <td>pos</td>\n",
       "      <td>علييك الله قفل ميتينك ❤</td>\n",
       "    </tr>\n",
       "    <tr>\n",
       "      <th>1</th>\n",
       "      <td>pos</td>\n",
       "      <td>طيار عراقي يسال برج المراقبة في سلطنة عمان عن ...</td>\n",
       "    </tr>\n",
       "    <tr>\n",
       "      <th>2</th>\n",
       "      <td>pos</td>\n",
       "      <td>علمهم تكفى حسبي الله عليهم 🙂</td>\n",
       "    </tr>\n",
       "    <tr>\n",
       "      <th>3</th>\n",
       "      <td>pos</td>\n",
       "      <td>🍀 وعن ذكر الله لا تغفلون لا إله إلا الله لا إل...</td>\n",
       "    </tr>\n",
       "    <tr>\n",
       "      <th>4</th>\n",
       "      <td>pos</td>\n",
       "      <td>كثير من جمهور الاهلي يقول لي عطنا تشكيلة الهلا...</td>\n",
       "    </tr>\n",
       "    <tr>\n",
       "      <th>5</th>\n",
       "      <td>pos</td>\n",
       "      <td>🦋     \"فيني قليل من الفرح وأغلب تفاصيلي زحام م...</td>\n",
       "    </tr>\n",
       "    <tr>\n",
       "      <th>6</th>\n",
       "      <td>pos</td>\n",
       "      <td>الاهلي_الهلال الحمدلله 💙 آه يا عمري يا الزعيم ...</td>\n",
       "    </tr>\n",
       "    <tr>\n",
       "      <th>7</th>\n",
       "      <td>pos</td>\n",
       "      <td>أغنية تايلور سويفت القوس مع غاري لايتبودي الجو...</td>\n",
       "    </tr>\n",
       "    <tr>\n",
       "      <th>8</th>\n",
       "      <td>pos</td>\n",
       "      <td>🌅 تذكير مهم 🌅  قال رسول الله : لا يحافظ على صل...</td>\n",
       "    </tr>\n",
       "    <tr>\n",
       "      <th>9</th>\n",
       "      <td>pos</td>\n",
       "      <td>جنابو زاتو محتار \" اتنين في يومين يجماعه\" 😂</td>\n",
       "    </tr>\n",
       "  </tbody>\n",
       "</table>\n",
       "</div>"
      ],
      "text/plain": [
       "  class                                         tweet_text\n",
       "0   pos                            علييك الله قفل ميتينك ❤\n",
       "1   pos  طيار عراقي يسال برج المراقبة في سلطنة عمان عن ...\n",
       "2   pos                       علمهم تكفى حسبي الله عليهم 🙂\n",
       "3   pos  🍀 وعن ذكر الله لا تغفلون لا إله إلا الله لا إل...\n",
       "4   pos  كثير من جمهور الاهلي يقول لي عطنا تشكيلة الهلا...\n",
       "5   pos  🦋     \"فيني قليل من الفرح وأغلب تفاصيلي زحام م...\n",
       "6   pos  الاهلي_الهلال الحمدلله 💙 آه يا عمري يا الزعيم ...\n",
       "7   pos  أغنية تايلور سويفت القوس مع غاري لايتبودي الجو...\n",
       "8   pos  🌅 تذكير مهم 🌅  قال رسول الله : لا يحافظ على صل...\n",
       "9   pos        جنابو زاتو محتار \" اتنين في يومين يجماعه\" 😂"
      ]
     },
     "execution_count": 29,
     "metadata": {},
     "output_type": "execute_result"
    }
   ],
   "source": [
    "positive.head(10)"
   ]
  },
  {
   "cell_type": "markdown",
   "id": "afb4d6ae",
   "metadata": {},
   "source": [
    "using (import string) which is return all ASCII letters (both lower and upper case)"
   ]
  },
  {
   "cell_type": "code",
   "execution_count": 30,
   "id": "786502ef",
   "metadata": {},
   "outputs": [],
   "source": [
    "arabic_punctuations = '''`÷×؛<>_()*&^%][ـ،/:\"؟.,'{}~¦+|!”…“–ـ'''\n",
    "english_punctuations = string.punctuation\n",
    "punctuations_list = arabic_punctuations + english_punctuations\n",
    "\n",
    "def remove_punctuations(text):\n",
    "    translator = str.maketrans('', '', punctuations_list)\n",
    "    return text.translate(translator)"
   ]
  },
  {
   "cell_type": "markdown",
   "id": "edda3dae",
   "metadata": {},
   "source": [
    " "
   ]
  },
  {
   "cell_type": "markdown",
   "id": "1fd4ae3a",
   "metadata": {},
   "source": [
    "use of regular expression (re) substitution"
   ]
  },
  {
   "cell_type": "code",
   "execution_count": 31,
   "id": "9e311fa5",
   "metadata": {},
   "outputs": [],
   "source": [
    "def normalize_arabic(text):\n",
    "    text = re.sub(\"[إأآا]\", \"ا\", text)\n",
    "    text = re.sub(\"ى\", \"ي\", text)\n",
    "    text = re.sub(\"ة\", \"ه\", text)\n",
    "    text = re.sub(\"گ\", \"ك\", text)\n",
    "    return text"
   ]
  },
  {
   "cell_type": "code",
   "execution_count": 32,
   "id": "ad132d08",
   "metadata": {},
   "outputs": [],
   "source": [
    "def remove_repeating_char(text):\n",
    "    return re.sub(r'(.)\\1+', r'\\1', text)\n",
    "    "
   ]
  },
  {
   "cell_type": "code",
   "execution_count": 33,
   "id": "3c0d5c7a",
   "metadata": {},
   "outputs": [],
   "source": [
    "def processPost(tweet): \n",
    "\n",
    "    #delete @username with empty string\n",
    "    tweet = re.sub('@[^\\s]+', ' ', tweet)\n",
    "    \n",
    "    #delete www.* or https?://* to \" \"\n",
    "    tweet = re.sub('((www\\.[^\\s]+)|(https?://[^\\s]+))',' ',tweet)\n",
    "    \n",
    "    #Replace #word with word\n",
    "    tweet = re.sub(r'#([^\\s]+)', r'\\1', tweet)\n",
    "\n",
    "    # remove punctuations\n",
    "    tweet= remove_punctuations(tweet)\n",
    "    \n",
    "    # normalize the tweet\n",
    "    tweet= normalize_arabic(tweet)\n",
    "    \n",
    "    # remove repeated letters\n",
    "    tweet=remove_repeating_char(tweet)\n",
    "    tweet = re.sub(r'\\s*[A-Za-z]+\\b', '' , tweet)\n",
    "    tweet = tweet.rstrip()\n",
    "    \n",
    "    return tweet"
   ]
  },
  {
   "cell_type": "code",
   "execution_count": 34,
   "id": "a559cce1",
   "metadata": {},
   "outputs": [],
   "source": [
    "# using apply method to implement the processPost func on each value in each row in the data\n",
    "positive[\"tweet_text\"] = positive['tweet_text'].apply(lambda x: processPost(x)) "
   ]
  },
  {
   "cell_type": "code",
   "execution_count": 35,
   "id": "78fa60d0",
   "metadata": {},
   "outputs": [
    {
     "data": {
      "text/html": [
       "<div>\n",
       "<style scoped>\n",
       "    .dataframe tbody tr th:only-of-type {\n",
       "        vertical-align: middle;\n",
       "    }\n",
       "\n",
       "    .dataframe tbody tr th {\n",
       "        vertical-align: top;\n",
       "    }\n",
       "\n",
       "    .dataframe thead th {\n",
       "        text-align: right;\n",
       "    }\n",
       "</style>\n",
       "<table border=\"1\" class=\"dataframe\">\n",
       "  <thead>\n",
       "    <tr style=\"text-align: right;\">\n",
       "      <th></th>\n",
       "      <th>class</th>\n",
       "      <th>tweet_text</th>\n",
       "    </tr>\n",
       "  </thead>\n",
       "  <tbody>\n",
       "    <tr>\n",
       "      <th>0</th>\n",
       "      <td>pos</td>\n",
       "      <td>عليك اله قفل ميتينك ❤</td>\n",
       "    </tr>\n",
       "    <tr>\n",
       "      <th>1</th>\n",
       "      <td>pos</td>\n",
       "      <td>طيار عراقي يسال برج المراقبه في سلطنه عمان عن ...</td>\n",
       "    </tr>\n",
       "    <tr>\n",
       "      <th>2</th>\n",
       "      <td>pos</td>\n",
       "      <td>علمهم تكفي حسبي اله عليهم 🙂</td>\n",
       "    </tr>\n",
       "    <tr>\n",
       "      <th>3</th>\n",
       "      <td>pos</td>\n",
       "      <td>🍀 وعن ذكر اله لا تغفلون لا اله الا اله لا اله ...</td>\n",
       "    </tr>\n",
       "    <tr>\n",
       "      <th>4</th>\n",
       "      <td>pos</td>\n",
       "      <td>كثير من جمهور الاهلي يقول لي عطنا تشكيله الهلا...</td>\n",
       "    </tr>\n",
       "    <tr>\n",
       "      <th>5</th>\n",
       "      <td>pos</td>\n",
       "      <td>🦋 فيني قليل من الفرح واغلب تفاصيلي زحام ما بين...</td>\n",
       "    </tr>\n",
       "    <tr>\n",
       "      <th>6</th>\n",
       "      <td>pos</td>\n",
       "      <td>الاهليالهلال الحمدله 💙 اه يا عمري يا الزعيم حض...</td>\n",
       "    </tr>\n",
       "    <tr>\n",
       "      <th>7</th>\n",
       "      <td>pos</td>\n",
       "      <td>اغنيه تايلور سويفت القوس مع غاري لايتبودي الجو...</td>\n",
       "    </tr>\n",
       "    <tr>\n",
       "      <th>8</th>\n",
       "      <td>pos</td>\n",
       "      <td>🌅 تذكير مهم 🌅 قال رسول اله لا يحافظ علي صلاه ا...</td>\n",
       "    </tr>\n",
       "    <tr>\n",
       "      <th>9</th>\n",
       "      <td>pos</td>\n",
       "      <td>جنابو زاتو محتار اتنين في يومين يجماعه 😂</td>\n",
       "    </tr>\n",
       "    <tr>\n",
       "      <th>10</th>\n",
       "      <td>pos</td>\n",
       "      <td>اليوم ليله جلد مدل جده وغدا جلد العالمي المزيف...</td>\n",
       "    </tr>\n",
       "    <tr>\n",
       "      <th>11</th>\n",
       "      <td>pos</td>\n",
       "      <td>همسه مهما بدت لك الامور مستحيله تذكر قوله تعال...</td>\n",
       "    </tr>\n",
       "    <tr>\n",
       "      <th>12</th>\n",
       "      <td>pos</td>\n",
       "      <td>صباح ارخم يوم في الاسبوع يوم السبت 🤣 صباحالخير</td>\n",
       "    </tr>\n",
       "    <tr>\n",
       "      <th>13</th>\n",
       "      <td>pos</td>\n",
       "      <td>اعتقد ان الكل وصل لمرحله الاستغناء الكل وصل لن...</td>\n",
       "    </tr>\n",
       "    <tr>\n",
       "      <th>14</th>\n",
       "      <td>pos</td>\n",
       "      <td>طيار عراقي يسال برج المراقبه في سلطنه عمان عن ...</td>\n",
       "    </tr>\n",
       "    <tr>\n",
       "      <th>15</th>\n",
       "      <td>pos</td>\n",
       "      <td>الهم امين 🌧 مشاء اله 😊 جلستكم تفتح النفس 👌🏻🌹</td>\n",
       "    </tr>\n",
       "    <tr>\n",
       "      <th>16</th>\n",
       "      <td>pos</td>\n",
       "      <td>الهلالي الي متحزم بالاتحاد مثل النصراوي الي مت...</td>\n",
       "    </tr>\n",
       "    <tr>\n",
       "      <th>17</th>\n",
       "      <td>pos</td>\n",
       "      <td>يمرون البشر في صدري مرور الانفاس وانت الوحيد ا...</td>\n",
       "    </tr>\n",
       "    <tr>\n",
       "      <th>18</th>\n",
       "      <td>pos</td>\n",
       "      <td>عشرات القتلي والجرحي في طرابلس بعد هجوم ميلشيا...</td>\n",
       "    </tr>\n",
       "    <tr>\n",
       "      <th>19</th>\n",
       "      <td>pos</td>\n",
       "      <td>من امنيات الطفوله 💙</td>\n",
       "    </tr>\n",
       "    <tr>\n",
       "      <th>20</th>\n",
       "      <td>pos</td>\n",
       "      <td>سهل تكون نجم لكن صعب تكون حسين 💚</td>\n",
       "    </tr>\n",
       "    <tr>\n",
       "      <th>21</th>\n",
       "      <td>pos</td>\n",
       "      <td>قبطان ومافي كلام وانا اقول انته جايبها من وين 🤣</td>\n",
       "    </tr>\n",
       "    <tr>\n",
       "      <th>22</th>\n",
       "      <td>pos</td>\n",
       "      <td>سايبهالك يختي 😂 😂</td>\n",
       "    </tr>\n",
       "    <tr>\n",
       "      <th>23</th>\n",
       "      <td>pos</td>\n",
       "      <td>🎥 ملخص مباراه الاهلي الهلال الاهليالهلال</td>\n",
       "    </tr>\n",
       "    <tr>\n",
       "      <th>24</th>\n",
       "      <td>pos</td>\n",
       "      <td>و لعل اله يدبر لك شيئا يرضيك به شيئا يجعلك تسج...</td>\n",
       "    </tr>\n",
       "  </tbody>\n",
       "</table>\n",
       "</div>"
      ],
      "text/plain": [
       "   class                                         tweet_text\n",
       "0    pos                              عليك اله قفل ميتينك ❤\n",
       "1    pos  طيار عراقي يسال برج المراقبه في سلطنه عمان عن ...\n",
       "2    pos                        علمهم تكفي حسبي اله عليهم 🙂\n",
       "3    pos  🍀 وعن ذكر اله لا تغفلون لا اله الا اله لا اله ...\n",
       "4    pos  كثير من جمهور الاهلي يقول لي عطنا تشكيله الهلا...\n",
       "5    pos  🦋 فيني قليل من الفرح واغلب تفاصيلي زحام ما بين...\n",
       "6    pos  الاهليالهلال الحمدله 💙 اه يا عمري يا الزعيم حض...\n",
       "7    pos  اغنيه تايلور سويفت القوس مع غاري لايتبودي الجو...\n",
       "8    pos  🌅 تذكير مهم 🌅 قال رسول اله لا يحافظ علي صلاه ا...\n",
       "9    pos           جنابو زاتو محتار اتنين في يومين يجماعه 😂\n",
       "10   pos  اليوم ليله جلد مدل جده وغدا جلد العالمي المزيف...\n",
       "11   pos  همسه مهما بدت لك الامور مستحيله تذكر قوله تعال...\n",
       "12   pos     صباح ارخم يوم في الاسبوع يوم السبت 🤣 صباحالخير\n",
       "13   pos  اعتقد ان الكل وصل لمرحله الاستغناء الكل وصل لن...\n",
       "14   pos  طيار عراقي يسال برج المراقبه في سلطنه عمان عن ...\n",
       "15   pos       الهم امين 🌧 مشاء اله 😊 جلستكم تفتح النفس 👌🏻🌹\n",
       "16   pos  الهلالي الي متحزم بالاتحاد مثل النصراوي الي مت...\n",
       "17   pos  يمرون البشر في صدري مرور الانفاس وانت الوحيد ا...\n",
       "18   pos  عشرات القتلي والجرحي في طرابلس بعد هجوم ميلشيا...\n",
       "19   pos                                من امنيات الطفوله 💙\n",
       "20   pos                   سهل تكون نجم لكن صعب تكون حسين 💚\n",
       "21   pos    قبطان ومافي كلام وانا اقول انته جايبها من وين 🤣\n",
       "22   pos                                  سايبهالك يختي 😂 😂\n",
       "23   pos           🎥 ملخص مباراه الاهلي الهلال الاهليالهلال\n",
       "24   pos  و لعل اله يدبر لك شيئا يرضيك به شيئا يجعلك تسج..."
      ]
     },
     "execution_count": 35,
     "metadata": {},
     "output_type": "execute_result"
    }
   ],
   "source": [
    "positive.head(25)\n"
   ]
  },
  {
   "cell_type": "code",
   "execution_count": 36,
   "id": "14d2d09a",
   "metadata": {},
   "outputs": [],
   "source": [
    "tokenizer = RegexpTokenizer(r'\\w+')\n",
    "positive[\"tweet_text\"] = positive[\"tweet_text\"].apply(tokenizer.tokenize)\n"
   ]
  },
  {
   "cell_type": "code",
   "execution_count": 37,
   "id": "083f92f2",
   "metadata": {},
   "outputs": [
    {
     "data": {
      "text/plain": [
       "0                             [عليك, اله, قفل, ميتينك]\n",
       "1    [طيار, عراقي, يسال, برج, المراقبه, في, سلطنه, ...\n",
       "2                      [علمهم, تكفي, حسبي, اله, عليهم]\n",
       "3    [وعن, ذكر, اله, لا, تغفلون, لا, اله, الا, اله,...\n",
       "4    [كثير, من, جمهور, الاهلي, يقول, لي, عطنا, تشكي...\n",
       "5    [فيني, قليل, من, الفرح, واغلب, تفاصيلي, زحام, ...\n",
       "6    [الاهليالهلال, الحمدله, اه, يا, عمري, يا, الزع...\n",
       "7    [اغنيه, تايلور, سويفت, القوس, مع, غاري, لايتبو...\n",
       "8    [تذكير, مهم, قال, رسول, اله, لا, يحافظ, علي, ص...\n",
       "9       [جنابو, زاتو, محتار, اتنين, في, يومين, يجماعه]\n",
       "Name: tweet_text, dtype: object"
      ]
     },
     "execution_count": 37,
     "metadata": {},
     "output_type": "execute_result"
    }
   ],
   "source": [
    "positive[\"tweet_text\"].head(10)"
   ]
  },
  {
   "cell_type": "code",
   "execution_count": 39,
   "id": "66f52330",
   "metadata": {},
   "outputs": [],
   "source": [
    "stopwords_list = stopwords.words('arabic')"
   ]
  },
  {
   "cell_type": "code",
   "execution_count": 40,
   "id": "af083415",
   "metadata": {},
   "outputs": [
    {
     "data": {
      "text/plain": [
       "['إذ',\n",
       " 'إذا',\n",
       " 'إذما',\n",
       " 'إذن',\n",
       " 'أف',\n",
       " 'أقل',\n",
       " 'أكثر',\n",
       " 'ألا',\n",
       " 'إلا',\n",
       " 'التي',\n",
       " 'الذي',\n",
       " 'الذين',\n",
       " 'اللاتي',\n",
       " 'اللائي',\n",
       " 'اللتان',\n",
       " 'اللتيا',\n",
       " 'اللتين',\n",
       " 'اللذان',\n",
       " 'اللذين',\n",
       " 'اللواتي',\n",
       " 'إلى',\n",
       " 'إليك',\n",
       " 'إليكم',\n",
       " 'إليكما',\n",
       " 'إليكن',\n",
       " 'أم',\n",
       " 'أما',\n",
       " 'أما',\n",
       " 'إما',\n",
       " 'أن',\n",
       " 'إن',\n",
       " 'إنا',\n",
       " 'أنا',\n",
       " 'أنت',\n",
       " 'أنتم',\n",
       " 'أنتما',\n",
       " 'أنتن',\n",
       " 'إنما',\n",
       " 'إنه',\n",
       " 'أنى',\n",
       " 'أنى',\n",
       " 'آه',\n",
       " 'آها',\n",
       " 'أو',\n",
       " 'أولاء',\n",
       " 'أولئك',\n",
       " 'أوه',\n",
       " 'آي',\n",
       " 'أي',\n",
       " 'أيها',\n",
       " 'إي',\n",
       " 'أين',\n",
       " 'أين',\n",
       " 'أينما',\n",
       " 'إيه',\n",
       " 'بخ',\n",
       " 'بس',\n",
       " 'بعد',\n",
       " 'بعض',\n",
       " 'بك',\n",
       " 'بكم',\n",
       " 'بكم',\n",
       " 'بكما',\n",
       " 'بكن',\n",
       " 'بل',\n",
       " 'بلى',\n",
       " 'بما',\n",
       " 'بماذا',\n",
       " 'بمن',\n",
       " 'بنا',\n",
       " 'به',\n",
       " 'بها',\n",
       " 'بهم',\n",
       " 'بهما',\n",
       " 'بهن',\n",
       " 'بي',\n",
       " 'بين',\n",
       " 'بيد',\n",
       " 'تلك',\n",
       " 'تلكم',\n",
       " 'تلكما',\n",
       " 'ته',\n",
       " 'تي',\n",
       " 'تين',\n",
       " 'تينك',\n",
       " 'ثم',\n",
       " 'ثمة',\n",
       " 'حاشا',\n",
       " 'حبذا',\n",
       " 'حتى',\n",
       " 'حيث',\n",
       " 'حيثما',\n",
       " 'حين',\n",
       " 'خلا',\n",
       " 'دون',\n",
       " 'ذا',\n",
       " 'ذات',\n",
       " 'ذاك',\n",
       " 'ذان',\n",
       " 'ذانك',\n",
       " 'ذلك',\n",
       " 'ذلكم',\n",
       " 'ذلكما',\n",
       " 'ذلكن',\n",
       " 'ذه',\n",
       " 'ذو',\n",
       " 'ذوا',\n",
       " 'ذواتا',\n",
       " 'ذواتي',\n",
       " 'ذي',\n",
       " 'ذين',\n",
       " 'ذينك',\n",
       " 'ريث',\n",
       " 'سوف',\n",
       " 'سوى',\n",
       " 'شتان',\n",
       " 'عدا',\n",
       " 'عسى',\n",
       " 'عل',\n",
       " 'على',\n",
       " 'عليك',\n",
       " 'عليه',\n",
       " 'عما',\n",
       " 'عن',\n",
       " 'عند',\n",
       " 'غير',\n",
       " 'فإذا',\n",
       " 'فإن',\n",
       " 'فلا',\n",
       " 'فمن',\n",
       " 'في',\n",
       " 'فيم',\n",
       " 'فيما',\n",
       " 'فيه',\n",
       " 'فيها',\n",
       " 'قد',\n",
       " 'كأن',\n",
       " 'كأنما',\n",
       " 'كأي',\n",
       " 'كأين',\n",
       " 'كذا',\n",
       " 'كذلك',\n",
       " 'كل',\n",
       " 'كلا',\n",
       " 'كلاهما',\n",
       " 'كلتا',\n",
       " 'كلما',\n",
       " 'كليكما',\n",
       " 'كليهما',\n",
       " 'كم',\n",
       " 'كم',\n",
       " 'كما',\n",
       " 'كي',\n",
       " 'كيت',\n",
       " 'كيف',\n",
       " 'كيفما',\n",
       " 'لا',\n",
       " 'لاسيما',\n",
       " 'لدى',\n",
       " 'لست',\n",
       " 'لستم',\n",
       " 'لستما',\n",
       " 'لستن',\n",
       " 'لسن',\n",
       " 'لسنا',\n",
       " 'لعل',\n",
       " 'لك',\n",
       " 'لكم',\n",
       " 'لكما',\n",
       " 'لكن',\n",
       " 'لكنما',\n",
       " 'لكي',\n",
       " 'لكيلا',\n",
       " 'لم',\n",
       " 'لما',\n",
       " 'لن',\n",
       " 'لنا',\n",
       " 'له',\n",
       " 'لها',\n",
       " 'لهم',\n",
       " 'لهما',\n",
       " 'لهن',\n",
       " 'لو',\n",
       " 'لولا',\n",
       " 'لوما',\n",
       " 'لي',\n",
       " 'لئن',\n",
       " 'ليت',\n",
       " 'ليس',\n",
       " 'ليسا',\n",
       " 'ليست',\n",
       " 'ليستا',\n",
       " 'ليسوا',\n",
       " 'ما',\n",
       " 'ماذا',\n",
       " 'متى',\n",
       " 'مذ',\n",
       " 'مع',\n",
       " 'مما',\n",
       " 'ممن',\n",
       " 'من',\n",
       " 'منه',\n",
       " 'منها',\n",
       " 'منذ',\n",
       " 'مه',\n",
       " 'مهما',\n",
       " 'نحن',\n",
       " 'نحو',\n",
       " 'نعم',\n",
       " 'ها',\n",
       " 'هاتان',\n",
       " 'هاته',\n",
       " 'هاتي',\n",
       " 'هاتين',\n",
       " 'هاك',\n",
       " 'هاهنا',\n",
       " 'هذا',\n",
       " 'هذان',\n",
       " 'هذه',\n",
       " 'هذي',\n",
       " 'هذين',\n",
       " 'هكذا',\n",
       " 'هل',\n",
       " 'هلا',\n",
       " 'هم',\n",
       " 'هما',\n",
       " 'هن',\n",
       " 'هنا',\n",
       " 'هناك',\n",
       " 'هنالك',\n",
       " 'هو',\n",
       " 'هؤلاء',\n",
       " 'هي',\n",
       " 'هيا',\n",
       " 'هيت',\n",
       " 'هيهات',\n",
       " 'والذي',\n",
       " 'والذين',\n",
       " 'وإذ',\n",
       " 'وإذا',\n",
       " 'وإن',\n",
       " 'ولا',\n",
       " 'ولكن',\n",
       " 'ولو',\n",
       " 'وما',\n",
       " 'ومن',\n",
       " 'وهو',\n",
       " 'يا']"
      ]
     },
     "execution_count": 40,
     "metadata": {},
     "output_type": "execute_result"
    }
   ],
   "source": [
    "stopwords_list"
   ]
  },
  {
   "cell_type": "code",
   "execution_count": 41,
   "id": "06204335",
   "metadata": {},
   "outputs": [
    {
     "data": {
      "text/plain": [
       "248"
      ]
     },
     "execution_count": 41,
     "metadata": {},
     "output_type": "execute_result"
    }
   ],
   "source": [
    "len(stopwords_list)"
   ]
  },
  {
   "cell_type": "code",
   "execution_count": 42,
   "id": "721ee8c7",
   "metadata": {},
   "outputs": [],
   "source": [
    "listToStr = ' '.join([str(elem) for elem in stopwords_list])"
   ]
  },
  {
   "cell_type": "code",
   "execution_count": 43,
   "id": "f33ebc7c",
   "metadata": {},
   "outputs": [
    {
     "data": {
      "text/plain": [
       "'إذ إذا إذما إذن أف أقل أكثر ألا إلا التي الذي الذين اللاتي اللائي اللتان اللتيا اللتين اللذان اللذين اللواتي إلى إليك إليكم إليكما إليكن أم أما أما إما أن إن إنا أنا أنت أنتم أنتما أنتن إنما إنه أنى أنى آه آها أو أولاء أولئك أوه آي أي أيها إي أين أين أينما إيه بخ بس بعد بعض بك بكم بكم بكما بكن بل بلى بما بماذا بمن بنا به بها بهم بهما بهن بي بين بيد تلك تلكم تلكما ته تي تين تينك ثم ثمة حاشا حبذا حتى حيث حيثما حين خلا دون ذا ذات ذاك ذان ذانك ذلك ذلكم ذلكما ذلكن ذه ذو ذوا ذواتا ذواتي ذي ذين ذينك ريث سوف سوى شتان عدا عسى عل على عليك عليه عما عن عند غير فإذا فإن فلا فمن في فيم فيما فيه فيها قد كأن كأنما كأي كأين كذا كذلك كل كلا كلاهما كلتا كلما كليكما كليهما كم كم كما كي كيت كيف كيفما لا لاسيما لدى لست لستم لستما لستن لسن لسنا لعل لك لكم لكما لكن لكنما لكي لكيلا لم لما لن لنا له لها لهم لهما لهن لو لولا لوما لي لئن ليت ليس ليسا ليست ليستا ليسوا ما ماذا متى مذ مع مما ممن من منه منها منذ مه مهما نحن نحو نعم ها هاتان هاته هاتي هاتين هاك هاهنا هذا هذان هذه هذي هذين هكذا هل هلا هم هما هن هنا هناك هنالك هو هؤلاء هي هيا هيت هيهات والذي والذين وإذ وإذا وإن ولا ولكن ولو وما ومن وهو يا'"
      ]
     },
     "execution_count": 43,
     "metadata": {},
     "output_type": "execute_result"
    }
   ],
   "source": [
    "listToStr"
   ]
  },
  {
   "cell_type": "code",
   "execution_count": 44,
   "id": "45bebf95",
   "metadata": {},
   "outputs": [],
   "source": [
    "positive[\"tweet_text\"]=positive[\"tweet_text\"].apply(lambda x: [item for item in x if item not in stopwords_list])"
   ]
  },
  {
   "cell_type": "code",
   "execution_count": 45,
   "id": "9ec2363a",
   "metadata": {},
   "outputs": [
    {
     "data": {
      "text/plain": [
       "0                                   [اله, قفل, ميتينك]\n",
       "1    [طيار, عراقي, يسال, برج, المراقبه, سلطنه, عمان...\n",
       "2                      [علمهم, تكفي, حسبي, اله, عليهم]\n",
       "3    [وعن, ذكر, اله, تغفلون, اله, الا, اله, اله, ال...\n",
       "4    [كثير, جمهور, الاهلي, يقول, عطنا, تشكيله, الهل...\n",
       "5    [فيني, قليل, الفرح, واغلب, تفاصيلي, زحام, جرح,...\n",
       "6    [الاهليالهلال, الحمدله, اه, عمري, الزعيم, حضر,...\n",
       "7    [اغنيه, تايلور, سويفت, القوس, غاري, لايتبودي, ...\n",
       "8    [تذكير, مهم, قال, رسول, اله, يحافظ, علي, صلاه,...\n",
       "9           [جنابو, زاتو, محتار, اتنين, يومين, يجماعه]\n",
       "Name: tweet_text, dtype: object"
      ]
     },
     "execution_count": 45,
     "metadata": {},
     "output_type": "execute_result"
    }
   ],
   "source": [
    "positive[\"tweet_text\"].head(10)"
   ]
  },
  {
   "cell_type": "markdown",
   "id": "fad0c161",
   "metadata": {},
   "source": [
    "# Positive tweets text information"
   ]
  },
  {
   "cell_type": "code",
   "execution_count": 46,
   "id": "44126a7b",
   "metadata": {},
   "outputs": [
    {
     "name": "stdout",
     "output_type": "stream",
     "text": [
      "296479 words total, with a vocabulary size of 43553\n",
      "Max sentence length 1645\n"
     ]
    }
   ],
   "source": [
    "all_words = [word for tokens in positive[\"tweet_text\"] for word in tokens]\n",
    "sentence_lengths = [len(tokens) for tokens in positive[\"tweet_text\"]]\n",
    "\n",
    "VOCAB = sorted(list(set(all_words)))\n",
    "\n",
    "print(f'{len(all_words)} words total, with a vocabulary size of {len(VOCAB)}')\n",
    "print(f'Max sentence length {max(sentence_lengths)}')"
   ]
  },
  {
   "cell_type": "markdown",
   "id": "3fcc7418",
   "metadata": {},
   "source": [
    " "
   ]
  },
  {
   "cell_type": "markdown",
   "id": "31dfdccc",
   "metadata": {},
   "source": [
    "# Top 25 words in positive comments"
   ]
  },
  {
   "cell_type": "code",
   "execution_count": 47,
   "id": "8169740a",
   "metadata": {},
   "outputs": [],
   "source": [
    "counter = Counter(all_words)"
   ]
  },
  {
   "cell_type": "code",
   "execution_count": 48,
   "id": "0b615d07",
   "metadata": {},
   "outputs": [
    {
     "data": {
      "text/plain": [
       "[('اله', 5591),\n",
       " ('علي', 4478),\n",
       " ('و', 3618),\n",
       " ('ان', 2475),\n",
       " ('الهم', 2363),\n",
       " ('صباح', 2094),\n",
       " ('الي', 1862),\n",
       " ('الهلال', 1517),\n",
       " ('الخير', 1223),\n",
       " ('رتويت', 1147),\n",
       " ('انا', 1104),\n",
       " ('السحب', 1043),\n",
       " ('الا', 1042),\n",
       " ('يارب', 921),\n",
       " ('الحمد', 825),\n",
       " ('سحب', 816),\n",
       " ('انت', 808),\n",
       " ('ساعه', 794),\n",
       " ('يوم', 763),\n",
       " ('فوز', 763),\n",
       " ('مبروك', 739),\n",
       " ('الف', 719),\n",
       " ('النصر', 715),\n",
       " ('واله', 698),\n",
       " ('بمناسبه', 651)]"
      ]
     },
     "execution_count": 48,
     "metadata": {},
     "output_type": "execute_result"
    }
   ],
   "source": [
    "counter.most_common(25)"
   ]
  },
  {
   "cell_type": "code",
   "execution_count": 49,
   "id": "16b2533a",
   "metadata": {},
   "outputs": [],
   "source": [
    "counted_words = Counter(all_words)\n",
    "\n",
    "words = []\n",
    "counts = []\n",
    "for letter, count in counted_words.most_common(25):\n",
    "    words.append(letter)\n",
    "    counts.append(count)"
   ]
  },
  {
   "cell_type": "code",
   "execution_count": 50,
   "id": "b4352fb6",
   "metadata": {},
   "outputs": [
    {
     "data": {
      "image/png": "[encoded data removed]",
      "text/plain": [
       "<Figure size 1080x720 with 1 Axes>"
      ]
     },
     "metadata": {},
     "output_type": "display_data"
    }
   ],
   "source": [
    "word_counter_df=pd.DataFrame(list(zip(words, counts)),\n",
    "               columns =['word', 'freq'])\n",
    "word_counter_df['disp'] = word_counter_df.word.apply(arabic_reshaper.reshape).apply(get_display)\n",
    "# word_counter_df.plot.bar(x=\"disp\", y=\"freq\")\n",
    "fig, ax= plt.subplots(figsize=(15, 10))\n",
    "plt.barh(word_counter_df['disp'][::-1], word_counter_df['freq'][::-1], color='#1da1f2ff')\n",
    "plt.title('Top words in positive tweets', fontsize=18)\n",
    "plt.xlabel('Count', fontsize=16)\n",
    "plt.ylabel('Words', fontsize=16)\n",
    "plt.tight_layout()\n",
    "plt.savefig('image/postive_top_words.jpg');"
   ]
  },
  {
   "cell_type": "markdown",
   "id": "c449abd5",
   "metadata": {},
   "source": [
    "# Arabic_tweets_negative dataset"
   ]
  },
  {
   "cell_type": "code",
   "execution_count": 51,
   "id": "f84b361e",
   "metadata": {},
   "outputs": [],
   "source": [
    "cols = ['class','tweet_text']\n",
    "negative = pd.read_csv('data/Arabic_tweets_negative_20190413.tsv',sep='\\t', error_bad_lines = False ,header=None, names=cols)"
   ]
  },
  {
   "cell_type": "code",
   "execution_count": 52,
   "id": "f04c445b",
   "metadata": {},
   "outputs": [
    {
     "data": {
      "text/html": [
       "<div>\n",
       "<style scoped>\n",
       "    .dataframe tbody tr th:only-of-type {\n",
       "        vertical-align: middle;\n",
       "    }\n",
       "\n",
       "    .dataframe tbody tr th {\n",
       "        vertical-align: top;\n",
       "    }\n",
       "\n",
       "    .dataframe thead th {\n",
       "        text-align: right;\n",
       "    }\n",
       "</style>\n",
       "<table border=\"1\" class=\"dataframe\">\n",
       "  <thead>\n",
       "    <tr style=\"text-align: right;\">\n",
       "      <th></th>\n",
       "      <th>class</th>\n",
       "      <th>tweet_text</th>\n",
       "    </tr>\n",
       "  </thead>\n",
       "  <tbody>\n",
       "    <tr>\n",
       "      <th>0</th>\n",
       "      <td>neg</td>\n",
       "      <td>رحمه الله رحمه واسعه واسكنه فسيح جناته 😢</td>\n",
       "    </tr>\n",
       "    <tr>\n",
       "      <th>1</th>\n",
       "      <td>neg</td>\n",
       "      <td>راح فين كلامك الي كنتي بتقوليه 💔 رايكو في صوتي</td>\n",
       "    </tr>\n",
       "    <tr>\n",
       "      <th>2</th>\n",
       "      <td>neg</td>\n",
       "      <td>كلام اهلها انهم دخلوها مستشفى الامل لمدة شهر ع...</td>\n",
       "    </tr>\n",
       "    <tr>\n",
       "      <th>3</th>\n",
       "      <td>neg</td>\n",
       "      <td>ليش عم تسبنا يامخرف 😡</td>\n",
       "    </tr>\n",
       "    <tr>\n",
       "      <th>4</th>\n",
       "      <td>neg</td>\n",
       "      <td>#السعاده_دايما_هي اشتقت ل حديثك ، و كأني لم اح...</td>\n",
       "    </tr>\n",
       "    <tr>\n",
       "      <th>5</th>\n",
       "      <td>neg</td>\n",
       "      <td>الله يستر 💔 والله مو قادرة أتخيل سيناريو الخسارة</td>\n",
       "    </tr>\n",
       "    <tr>\n",
       "      <th>6</th>\n",
       "      <td>neg</td>\n",
       "      <td>حقيقي احس بشيء من الحزن لما اشوف اولاد او بنات...</td>\n",
       "    </tr>\n",
       "    <tr>\n",
       "      <th>7</th>\n",
       "      <td>neg</td>\n",
       "      <td>من اول .. مو من الحين 🌚</td>\n",
       "    </tr>\n",
       "    <tr>\n",
       "      <th>8</th>\n",
       "      <td>neg</td>\n",
       "      <td>اشفيه صالح غيمه 😞</td>\n",
       "    </tr>\n",
       "    <tr>\n",
       "      <th>9</th>\n",
       "      <td>neg</td>\n",
       "      <td>بموت ضحك بتس لهم ثلاث سنوات عشان يحولون الناس ...</td>\n",
       "    </tr>\n",
       "    <tr>\n",
       "      <th>10</th>\n",
       "      <td>neg</td>\n",
       "      <td>قبضوا امنجي في في نقطة تفتيش معاه مسدس و قيل م...</td>\n",
       "    </tr>\n",
       "    <tr>\n",
       "      <th>11</th>\n",
       "      <td>neg</td>\n",
       "      <td>القهوة الي كنت اسويها طلعت خطأ بس الطريقه الصح...</td>\n",
       "    </tr>\n",
       "    <tr>\n",
       "      <th>12</th>\n",
       "      <td>neg</td>\n",
       "      <td>ما اقبل اعتذار زعلت خلاص 😏</td>\n",
       "    </tr>\n",
       "    <tr>\n",
       "      <th>13</th>\n",
       "      <td>neg</td>\n",
       "      <td>انا داريه ما منك رجا لكن باليز 😭</td>\n",
       "    </tr>\n",
       "    <tr>\n",
       "      <th>14</th>\n",
       "      <td>neg</td>\n",
       "      <td>اراجوز بضحك كل خلق الله ببكي بعيد عن عين صحابي...</td>\n",
       "    </tr>\n",
       "    <tr>\n",
       "      <th>15</th>\n",
       "      <td>neg</td>\n",
       "      <td>✔️ الحلقة التاسعة والعشرون من السيرة النبوية ف...</td>\n",
       "    </tr>\n",
       "    <tr>\n",
       "      <th>16</th>\n",
       "      <td>neg</td>\n",
       "      <td>: قبل رمضاان ..2019/1440 أنا اسف .. إذا زعلتك ...</td>\n",
       "    </tr>\n",
       "    <tr>\n",
       "      <th>17</th>\n",
       "      <td>neg</td>\n",
       "      <td>📚 بعض الأشياء في حياتنا زجاجية التكوين ☁ إذا أ...</td>\n",
       "    </tr>\n",
       "    <tr>\n",
       "      <th>18</th>\n",
       "      <td>neg</td>\n",
       "      <td>يا نااس أبقوا الصمود هاانت ما فضل شي 😭</td>\n",
       "    </tr>\n",
       "    <tr>\n",
       "      <th>19</th>\n",
       "      <td>neg</td>\n",
       "      <td>أرجوكم ي فحول تعالو ازنو بشرفي زوجتي اللي يبيه...</td>\n",
       "    </tr>\n",
       "    <tr>\n",
       "      <th>20</th>\n",
       "      <td>neg</td>\n",
       "      <td>انتو مابتنموو كل راس ساعه بيان 😢 انا متابعاكم ...</td>\n",
       "    </tr>\n",
       "    <tr>\n",
       "      <th>21</th>\n",
       "      <td>neg</td>\n",
       "      <td>تقدر تحل مشكلتي ؟ 😢</td>\n",
       "    </tr>\n",
       "    <tr>\n",
       "      <th>22</th>\n",
       "      <td>neg</td>\n",
       "      <td>لا لا ما بغيناها كذا على هالاجواء الجميله 😫</td>\n",
       "    </tr>\n",
       "    <tr>\n",
       "      <th>23</th>\n",
       "      <td>neg</td>\n",
       "      <td>مشكله فيه ناس بتضيع حياتها فكدا حرفيا ومفكرين ...</td>\n",
       "    </tr>\n",
       "    <tr>\n",
       "      <th>24</th>\n",
       "      <td>neg</td>\n",
       "      <td>FINALLY 😪 هلبا تفاصيل !! تعبت فيها بجد بس أعتق...</td>\n",
       "    </tr>\n",
       "    <tr>\n",
       "      <th>25</th>\n",
       "      <td>neg</td>\n",
       "      <td>ابييهاا تكفون 💔</td>\n",
       "    </tr>\n",
       "    <tr>\n",
       "      <th>26</th>\n",
       "      <td>neg</td>\n",
       "      <td>😒 ع اساس تويتك</td>\n",
       "    </tr>\n",
       "    <tr>\n",
       "      <th>27</th>\n",
       "      <td>neg</td>\n",
       "      <td>لا .. يسموني في الفريق ملك السناقل .. ويش في م...</td>\n",
       "    </tr>\n",
       "    <tr>\n",
       "      <th>28</th>\n",
       "      <td>neg</td>\n",
       "      <td>#الوطن_لايشرفه_الفاسدين كيس الشعلان تتهمنا بال...</td>\n",
       "    </tr>\n",
       "    <tr>\n",
       "      <th>29</th>\n",
       "      <td>neg</td>\n",
       "      <td>اذا جاوبتي ممكن اتناقش معاك ولكن قاعدة تحوصين ...</td>\n",
       "    </tr>\n",
       "    <tr>\n",
       "      <th>30</th>\n",
       "      <td>neg</td>\n",
       "      <td>في حق نفسك .. لازم تكون عزيز النفس 💔</td>\n",
       "    </tr>\n",
       "    <tr>\n",
       "      <th>31</th>\n",
       "      <td>neg</td>\n",
       "      <td>لانه لايمشي كما يريدون •• اطلقو هاشتاق ( فساد ...</td>\n",
       "    </tr>\n",
       "    <tr>\n",
       "      <th>32</th>\n",
       "      <td>neg</td>\n",
       "      <td>تلاتين سنة بترقص .. الليلة رقصتنا أنا ببكي 😭 د...</td>\n",
       "    </tr>\n",
       "    <tr>\n",
       "      <th>33</th>\n",
       "      <td>neg</td>\n",
       "      <td>يوم لك ويوم عليك بكرا تجيك الاختبارات والكرف ص...</td>\n",
       "    </tr>\n",
       "    <tr>\n",
       "      <th>34</th>\n",
       "      <td>neg</td>\n",
       "      <td>الالبوم بينفجر سعادة مثلي تماما 💔 #BLACKPINKxC...</td>\n",
       "    </tr>\n",
       "    <tr>\n",
       "      <th>35</th>\n",
       "      <td>neg</td>\n",
       "      <td>نعم، ايه، يب، yes 🙈</td>\n",
       "    </tr>\n",
       "    <tr>\n",
       "      <th>36</th>\n",
       "      <td>neg</td>\n",
       "      <td>#المال_او_الحب هل أنت ب حاجه إلى رتويت حقيقي ✴...</td>\n",
       "    </tr>\n",
       "    <tr>\n",
       "      <th>37</th>\n",
       "      <td>neg</td>\n",
       "      <td>شفيها معلقه على بوس الرجل 😭</td>\n",
       "    </tr>\n",
       "    <tr>\n",
       "      <th>38</th>\n",
       "      <td>neg</td>\n",
       "      <td>_ قال الرسول صلئ الله عليه وسلم :( من أصبح منك...</td>\n",
       "    </tr>\n",
       "    <tr>\n",
       "      <th>39</th>\n",
       "      <td>neg</td>\n",
       "      <td>💔 ليه يا حبيبتي ما بينا دايما سفر..!! ◽ دا الب...</td>\n",
       "    </tr>\n",
       "    <tr>\n",
       "      <th>40</th>\n",
       "      <td>neg</td>\n",
       "      <td>هل أنت ب حاجه إلى رتويت حقيقي ✴️ وبشكل يومي لت...</td>\n",
       "    </tr>\n",
       "    <tr>\n",
       "      <th>41</th>\n",
       "      <td>neg</td>\n",
       "      <td>جتني ضيقه لما قريت مواعين 😭</td>\n",
       "    </tr>\n",
       "    <tr>\n",
       "      <th>42</th>\n",
       "      <td>neg</td>\n",
       "      <td>صباح الفل 🌹 صباح نادي 🍃 صباحكم جاي ع الهادي 💕 ...</td>\n",
       "    </tr>\n",
       "    <tr>\n",
       "      <th>43</th>\n",
       "      <td>neg</td>\n",
       "      <td>#محمد_عبده_جلسه_الرياض هل أنت ب حاجه إلى رتويت...</td>\n",
       "    </tr>\n",
       "    <tr>\n",
       "      <th>44</th>\n",
       "      <td>neg</td>\n",
       "      <td>#حسين_عبدالغني لا تعليق في حضرة المعلق الذي قا...</td>\n",
       "    </tr>\n",
       "    <tr>\n",
       "      <th>45</th>\n",
       "      <td>neg</td>\n",
       "      <td>#منبر_فلسطين هل تعلم ان أزعاج النائم اثناء نوم...</td>\n",
       "    </tr>\n",
       "    <tr>\n",
       "      <th>46</th>\n",
       "      <td>neg</td>\n",
       "      <td>هذا شيء خالصين منه 😥</td>\n",
       "    </tr>\n",
       "    <tr>\n",
       "      <th>47</th>\n",
       "      <td>neg</td>\n",
       "      <td>هل أنت ب حاجه إلى رتويت حقيقي ✴️ وبشكل يومي لت...</td>\n",
       "    </tr>\n",
       "    <tr>\n",
       "      <th>48</th>\n",
       "      <td>neg</td>\n",
       "      <td>يعني متى برقد انا ؟ النوده ليش جي ماتستحي 💔</td>\n",
       "    </tr>\n",
       "    <tr>\n",
       "      <th>49</th>\n",
       "      <td>neg</td>\n",
       "      <td>ٲليس من العيب ان تحفظ كل الأغاني .. وتكرر نفس ...</td>\n",
       "    </tr>\n",
       "  </tbody>\n",
       "</table>\n",
       "</div>"
      ],
      "text/plain": [
       "   class                                         tweet_text\n",
       "0    neg           رحمه الله رحمه واسعه واسكنه فسيح جناته 😢\n",
       "1    neg     راح فين كلامك الي كنتي بتقوليه 💔 رايكو في صوتي\n",
       "2    neg  كلام اهلها انهم دخلوها مستشفى الامل لمدة شهر ع...\n",
       "3    neg                              ليش عم تسبنا يامخرف 😡\n",
       "4    neg  #السعاده_دايما_هي اشتقت ل حديثك ، و كأني لم اح...\n",
       "5    neg   الله يستر 💔 والله مو قادرة أتخيل سيناريو الخسارة\n",
       "6    neg  حقيقي احس بشيء من الحزن لما اشوف اولاد او بنات...\n",
       "7    neg                            من اول .. مو من الحين 🌚\n",
       "8    neg                                  اشفيه صالح غيمه 😞\n",
       "9    neg  بموت ضحك بتس لهم ثلاث سنوات عشان يحولون الناس ...\n",
       "10   neg  قبضوا امنجي في في نقطة تفتيش معاه مسدس و قيل م...\n",
       "11   neg  القهوة الي كنت اسويها طلعت خطأ بس الطريقه الصح...\n",
       "12   neg                         ما اقبل اعتذار زعلت خلاص 😏\n",
       "13   neg                   انا داريه ما منك رجا لكن باليز 😭\n",
       "14   neg  اراجوز بضحك كل خلق الله ببكي بعيد عن عين صحابي...\n",
       "15   neg  ✔️ الحلقة التاسعة والعشرون من السيرة النبوية ف...\n",
       "16   neg  : قبل رمضاان ..2019/1440 أنا اسف .. إذا زعلتك ...\n",
       "17   neg  📚 بعض الأشياء في حياتنا زجاجية التكوين ☁ إذا أ...\n",
       "18   neg             يا نااس أبقوا الصمود هاانت ما فضل شي 😭\n",
       "19   neg  أرجوكم ي فحول تعالو ازنو بشرفي زوجتي اللي يبيه...\n",
       "20   neg  انتو مابتنموو كل راس ساعه بيان 😢 انا متابعاكم ...\n",
       "21   neg                                تقدر تحل مشكلتي ؟ 😢\n",
       "22   neg        لا لا ما بغيناها كذا على هالاجواء الجميله 😫\n",
       "23   neg  مشكله فيه ناس بتضيع حياتها فكدا حرفيا ومفكرين ...\n",
       "24   neg  FINALLY 😪 هلبا تفاصيل !! تعبت فيها بجد بس أعتق...\n",
       "25   neg                                    ابييهاا تكفون 💔\n",
       "26   neg                                     😒 ع اساس تويتك\n",
       "27   neg  لا .. يسموني في الفريق ملك السناقل .. ويش في م...\n",
       "28   neg  #الوطن_لايشرفه_الفاسدين كيس الشعلان تتهمنا بال...\n",
       "29   neg  اذا جاوبتي ممكن اتناقش معاك ولكن قاعدة تحوصين ...\n",
       "30   neg               في حق نفسك .. لازم تكون عزيز النفس 💔\n",
       "31   neg  لانه لايمشي كما يريدون •• اطلقو هاشتاق ( فساد ...\n",
       "32   neg  تلاتين سنة بترقص .. الليلة رقصتنا أنا ببكي 😭 د...\n",
       "33   neg  يوم لك ويوم عليك بكرا تجيك الاختبارات والكرف ص...\n",
       "34   neg  الالبوم بينفجر سعادة مثلي تماما 💔 #BLACKPINKxC...\n",
       "35   neg                                نعم، ايه، يب، yes 🙈\n",
       "36   neg  #المال_او_الحب هل أنت ب حاجه إلى رتويت حقيقي ✴...\n",
       "37   neg                        شفيها معلقه على بوس الرجل 😭\n",
       "38   neg  _ قال الرسول صلئ الله عليه وسلم :( من أصبح منك...\n",
       "39   neg  💔 ليه يا حبيبتي ما بينا دايما سفر..!! ◽ دا الب...\n",
       "40   neg  هل أنت ب حاجه إلى رتويت حقيقي ✴️ وبشكل يومي لت...\n",
       "41   neg                        جتني ضيقه لما قريت مواعين 😭\n",
       "42   neg  صباح الفل 🌹 صباح نادي 🍃 صباحكم جاي ع الهادي 💕 ...\n",
       "43   neg  #محمد_عبده_جلسه_الرياض هل أنت ب حاجه إلى رتويت...\n",
       "44   neg  #حسين_عبدالغني لا تعليق في حضرة المعلق الذي قا...\n",
       "45   neg  #منبر_فلسطين هل تعلم ان أزعاج النائم اثناء نوم...\n",
       "46   neg                               هذا شيء خالصين منه 😥\n",
       "47   neg  هل أنت ب حاجه إلى رتويت حقيقي ✴️ وبشكل يومي لت...\n",
       "48   neg        يعني متى برقد انا ؟ النوده ليش جي ماتستحي 💔\n",
       "49   neg  ٲليس من العيب ان تحفظ كل الأغاني .. وتكرر نفس ..."
      ]
     },
     "execution_count": 52,
     "metadata": {},
     "output_type": "execute_result"
    }
   ],
   "source": [
    "negative.head(50)"
   ]
  },
  {
   "cell_type": "markdown",
   "id": "08699d97",
   "metadata": {},
   "source": [
    " "
   ]
  },
  {
   "cell_type": "markdown",
   "id": "557e48b6",
   "metadata": {},
   "source": [
    "# Total no. of negative twittes"
   ]
  },
  {
   "cell_type": "code",
   "execution_count": 53,
   "id": "bacd7bee",
   "metadata": {},
   "outputs": [
    {
     "data": {
      "text/plain": [
       "28326"
      ]
     },
     "execution_count": 53,
     "metadata": {},
     "output_type": "execute_result"
    }
   ],
   "source": [
    "len(negative)"
   ]
  },
  {
   "cell_type": "markdown",
   "id": "ade70b57",
   "metadata": {},
   "source": [
    " "
   ]
  },
  {
   "cell_type": "markdown",
   "id": "8e2aa507",
   "metadata": {},
   "source": [
    "# Sample of the negative twittes text"
   ]
  },
  {
   "cell_type": "code",
   "execution_count": 54,
   "id": "55968f75",
   "metadata": {},
   "outputs": [
    {
     "data": {
      "text/plain": [
       "0             رحمه الله رحمه واسعه واسكنه فسيح جناته 😢\n",
       "1       راح فين كلامك الي كنتي بتقوليه 💔 رايكو في صوتي\n",
       "2    كلام اهلها انهم دخلوها مستشفى الامل لمدة شهر ع...\n",
       "3                                ليش عم تسبنا يامخرف 😡\n",
       "4    #السعاده_دايما_هي اشتقت ل حديثك ، و كأني لم اح...\n",
       "Name: tweet_text, dtype: object"
      ]
     },
     "execution_count": 54,
     "metadata": {},
     "output_type": "execute_result"
    }
   ],
   "source": [
    "negative['tweet_text'].head()"
   ]
  },
  {
   "cell_type": "markdown",
   "id": "59df19ad",
   "metadata": {},
   "source": [
    "# Sample of the target "
   ]
  },
  {
   "cell_type": "code",
   "execution_count": 55,
   "id": "1797be5d",
   "metadata": {},
   "outputs": [
    {
     "data": {
      "text/plain": [
       "0    neg\n",
       "1    neg\n",
       "2    neg\n",
       "3    neg\n",
       "4    neg\n",
       "Name: class, dtype: object"
      ]
     },
     "execution_count": 55,
     "metadata": {},
     "output_type": "execute_result"
    }
   ],
   "source": [
    "negative['class'].head()"
   ]
  },
  {
   "cell_type": "markdown",
   "id": "a8cd50a3",
   "metadata": {},
   "source": [
    " "
   ]
  },
  {
   "cell_type": "code",
   "execution_count": 56,
   "id": "0782f85b",
   "metadata": {},
   "outputs": [
    {
     "data": {
      "text/plain": [
       "0"
      ]
     },
     "execution_count": 56,
     "metadata": {},
     "output_type": "execute_result"
    }
   ],
   "source": [
    "np.sum(negative.isnull().any(axis=1))"
   ]
  },
  {
   "cell_type": "markdown",
   "id": "8b5d2ade",
   "metadata": {},
   "source": [
    "# EDA"
   ]
  },
  {
   "cell_type": "code",
   "execution_count": 57,
   "id": "b5546e1c",
   "metadata": {},
   "outputs": [
    {
     "name": "stdout",
     "output_type": "stream",
     "text": [
      "<class 'pandas.core.frame.DataFrame'>\n",
      "RangeIndex: 28326 entries, 0 to 28325\n",
      "Data columns (total 2 columns):\n",
      " #   Column      Non-Null Count  Dtype \n",
      "---  ------      --------------  ----- \n",
      " 0   class       28326 non-null  object\n",
      " 1   tweet_text  28326 non-null  object\n",
      "dtypes: object(2)\n",
      "memory usage: 442.7+ KB\n"
     ]
    }
   ],
   "source": [
    "negative.info()"
   ]
  },
  {
   "cell_type": "markdown",
   "id": "ed369d15",
   "metadata": {},
   "source": [
    "# Cleaning the text"
   ]
  },
  {
   "cell_type": "code",
   "execution_count": 58,
   "id": "9b9c4be3",
   "metadata": {},
   "outputs": [],
   "source": [
    "for letter in '#.][!XRﷺ':\n",
    "    negative['tweet_text'] = negative['tweet_text'].astype(str).str.replace(letter,'')"
   ]
  },
  {
   "cell_type": "code",
   "execution_count": 59,
   "id": "0105fb69",
   "metadata": {},
   "outputs": [
    {
     "data": {
      "text/html": [
       "<div>\n",
       "<style scoped>\n",
       "    .dataframe tbody tr th:only-of-type {\n",
       "        vertical-align: middle;\n",
       "    }\n",
       "\n",
       "    .dataframe tbody tr th {\n",
       "        vertical-align: top;\n",
       "    }\n",
       "\n",
       "    .dataframe thead th {\n",
       "        text-align: right;\n",
       "    }\n",
       "</style>\n",
       "<table border=\"1\" class=\"dataframe\">\n",
       "  <thead>\n",
       "    <tr style=\"text-align: right;\">\n",
       "      <th></th>\n",
       "      <th>class</th>\n",
       "      <th>tweet_text</th>\n",
       "    </tr>\n",
       "  </thead>\n",
       "  <tbody>\n",
       "    <tr>\n",
       "      <th>0</th>\n",
       "      <td>neg</td>\n",
       "      <td>رحمه الله رحمه واسعه واسكنه فسيح جناته 😢</td>\n",
       "    </tr>\n",
       "    <tr>\n",
       "      <th>1</th>\n",
       "      <td>neg</td>\n",
       "      <td>راح فين كلامك الي كنتي بتقوليه 💔 رايكو في صوتي</td>\n",
       "    </tr>\n",
       "    <tr>\n",
       "      <th>2</th>\n",
       "      <td>neg</td>\n",
       "      <td>كلام اهلها انهم دخلوها مستشفى الامل لمدة شهر ع...</td>\n",
       "    </tr>\n",
       "    <tr>\n",
       "      <th>3</th>\n",
       "      <td>neg</td>\n",
       "      <td>ليش عم تسبنا يامخرف 😡</td>\n",
       "    </tr>\n",
       "    <tr>\n",
       "      <th>4</th>\n",
       "      <td>neg</td>\n",
       "      <td>السعاده_دايما_هي اشتقت ل حديثك ، و كأني لم احا...</td>\n",
       "    </tr>\n",
       "    <tr>\n",
       "      <th>5</th>\n",
       "      <td>neg</td>\n",
       "      <td>الله يستر 💔 والله مو قادرة أتخيل سيناريو الخسارة</td>\n",
       "    </tr>\n",
       "    <tr>\n",
       "      <th>6</th>\n",
       "      <td>neg</td>\n",
       "      <td>حقيقي احس بشيء من الحزن لما اشوف اولاد او بنات...</td>\n",
       "    </tr>\n",
       "    <tr>\n",
       "      <th>7</th>\n",
       "      <td>neg</td>\n",
       "      <td>من اول  مو من الحين 🌚</td>\n",
       "    </tr>\n",
       "    <tr>\n",
       "      <th>8</th>\n",
       "      <td>neg</td>\n",
       "      <td>اشفيه صالح غيمه 😞</td>\n",
       "    </tr>\n",
       "    <tr>\n",
       "      <th>9</th>\n",
       "      <td>neg</td>\n",
       "      <td>بموت ضحك بتس لهم ثلاث سنوات عشان يحولون الناس ...</td>\n",
       "    </tr>\n",
       "    <tr>\n",
       "      <th>10</th>\n",
       "      <td>neg</td>\n",
       "      <td>قبضوا امنجي في في نقطة تفتيش معاه مسدس و قيل م...</td>\n",
       "    </tr>\n",
       "    <tr>\n",
       "      <th>11</th>\n",
       "      <td>neg</td>\n",
       "      <td>القهوة الي كنت اسويها طلعت خطأ بس الطريقه الصح...</td>\n",
       "    </tr>\n",
       "    <tr>\n",
       "      <th>12</th>\n",
       "      <td>neg</td>\n",
       "      <td>ما اقبل اعتذار زعلت خلاص 😏</td>\n",
       "    </tr>\n",
       "    <tr>\n",
       "      <th>13</th>\n",
       "      <td>neg</td>\n",
       "      <td>انا داريه ما منك رجا لكن باليز 😭</td>\n",
       "    </tr>\n",
       "    <tr>\n",
       "      <th>14</th>\n",
       "      <td>neg</td>\n",
       "      <td>اراجوز بضحك كل خلق الله ببكي بعيد عن عين صحابي...</td>\n",
       "    </tr>\n",
       "    <tr>\n",
       "      <th>15</th>\n",
       "      <td>neg</td>\n",
       "      <td>✔️ الحلقة التاسعة والعشرون من السيرة النبوية ف...</td>\n",
       "    </tr>\n",
       "    <tr>\n",
       "      <th>16</th>\n",
       "      <td>neg</td>\n",
       "      <td>: قبل رمضاان 2019/1440 أنا اسف  إذا زعلتك أنا ...</td>\n",
       "    </tr>\n",
       "    <tr>\n",
       "      <th>17</th>\n",
       "      <td>neg</td>\n",
       "      <td>📚 بعض الأشياء في حياتنا زجاجية التكوين ☁ إذا أ...</td>\n",
       "    </tr>\n",
       "    <tr>\n",
       "      <th>18</th>\n",
       "      <td>neg</td>\n",
       "      <td>يا نااس أبقوا الصمود هاانت ما فضل شي 😭</td>\n",
       "    </tr>\n",
       "    <tr>\n",
       "      <th>19</th>\n",
       "      <td>neg</td>\n",
       "      <td>أرجوكم ي فحول تعالو ازنو بشرفي زوجتي اللي يبيه...</td>\n",
       "    </tr>\n",
       "    <tr>\n",
       "      <th>20</th>\n",
       "      <td>neg</td>\n",
       "      <td>انتو مابتنموو كل راس ساعه بيان 😢 انا متابعاكم ...</td>\n",
       "    </tr>\n",
       "    <tr>\n",
       "      <th>21</th>\n",
       "      <td>neg</td>\n",
       "      <td>تقدر تحل مشكلتي ؟ 😢</td>\n",
       "    </tr>\n",
       "    <tr>\n",
       "      <th>22</th>\n",
       "      <td>neg</td>\n",
       "      <td>لا لا ما بغيناها كذا على هالاجواء الجميله 😫</td>\n",
       "    </tr>\n",
       "    <tr>\n",
       "      <th>23</th>\n",
       "      <td>neg</td>\n",
       "      <td>مشكله فيه ناس بتضيع حياتها فكدا حرفيا ومفكرين ...</td>\n",
       "    </tr>\n",
       "    <tr>\n",
       "      <th>24</th>\n",
       "      <td>neg</td>\n",
       "      <td>FINALLY 😪 هلبا تفاصيل  تعبت فيها بجد بس أعتقد ...</td>\n",
       "    </tr>\n",
       "  </tbody>\n",
       "</table>\n",
       "</div>"
      ],
      "text/plain": [
       "   class                                         tweet_text\n",
       "0    neg           رحمه الله رحمه واسعه واسكنه فسيح جناته 😢\n",
       "1    neg     راح فين كلامك الي كنتي بتقوليه 💔 رايكو في صوتي\n",
       "2    neg  كلام اهلها انهم دخلوها مستشفى الامل لمدة شهر ع...\n",
       "3    neg                              ليش عم تسبنا يامخرف 😡\n",
       "4    neg  السعاده_دايما_هي اشتقت ل حديثك ، و كأني لم احا...\n",
       "5    neg   الله يستر 💔 والله مو قادرة أتخيل سيناريو الخسارة\n",
       "6    neg  حقيقي احس بشيء من الحزن لما اشوف اولاد او بنات...\n",
       "7    neg                              من اول  مو من الحين 🌚\n",
       "8    neg                                  اشفيه صالح غيمه 😞\n",
       "9    neg  بموت ضحك بتس لهم ثلاث سنوات عشان يحولون الناس ...\n",
       "10   neg  قبضوا امنجي في في نقطة تفتيش معاه مسدس و قيل م...\n",
       "11   neg  القهوة الي كنت اسويها طلعت خطأ بس الطريقه الصح...\n",
       "12   neg                         ما اقبل اعتذار زعلت خلاص 😏\n",
       "13   neg                   انا داريه ما منك رجا لكن باليز 😭\n",
       "14   neg  اراجوز بضحك كل خلق الله ببكي بعيد عن عين صحابي...\n",
       "15   neg  ✔️ الحلقة التاسعة والعشرون من السيرة النبوية ف...\n",
       "16   neg  : قبل رمضاان 2019/1440 أنا اسف  إذا زعلتك أنا ...\n",
       "17   neg  📚 بعض الأشياء في حياتنا زجاجية التكوين ☁ إذا أ...\n",
       "18   neg             يا نااس أبقوا الصمود هاانت ما فضل شي 😭\n",
       "19   neg  أرجوكم ي فحول تعالو ازنو بشرفي زوجتي اللي يبيه...\n",
       "20   neg  انتو مابتنموو كل راس ساعه بيان 😢 انا متابعاكم ...\n",
       "21   neg                                تقدر تحل مشكلتي ؟ 😢\n",
       "22   neg        لا لا ما بغيناها كذا على هالاجواء الجميله 😫\n",
       "23   neg  مشكله فيه ناس بتضيع حياتها فكدا حرفيا ومفكرين ...\n",
       "24   neg  FINALLY 😪 هلبا تفاصيل  تعبت فيها بجد بس أعتقد ..."
      ]
     },
     "execution_count": 59,
     "metadata": {},
     "output_type": "execute_result"
    }
   ],
   "source": [
    "negative.head(25)"
   ]
  },
  {
   "cell_type": "code",
   "execution_count": 60,
   "id": "3ee470de",
   "metadata": {},
   "outputs": [],
   "source": [
    "def processPost(tweet): \n",
    "\n",
    "    #delete @username with empty string\n",
    "    tweet = re.sub('@[^\\s]+', ' ', tweet)\n",
    "    \n",
    "    #delete www.* or https?://* to \" \"\n",
    "    tweet = re.sub('((www\\.[^\\s]+)|(https?://[^\\s]+))',' ',tweet)\n",
    "    \n",
    "    #Replace #word with word\n",
    "    tweet = re.sub(r'#([^\\s]+)', r'\\1', tweet)\n",
    "\n",
    "    # remove punctuations\n",
    "    tweet= remove_punctuations(tweet)\n",
    "    \n",
    "    # normalize the tweet\n",
    "    tweet= normalize_arabic(tweet)\n",
    "    \n",
    "    # remove repeated letters\n",
    "    tweet=remove_repeating_char(tweet)\n",
    "    tweet = re.sub(r'\\s*[A-Za-z]+\\b', '' , tweet)\n",
    "    tweet = tweet.rstrip()\n",
    "    \n",
    "    return tweet"
   ]
  },
  {
   "cell_type": "code",
   "execution_count": 61,
   "id": "cc8c3298",
   "metadata": {},
   "outputs": [],
   "source": [
    "# apply used to call the method processpost\n",
    "negative[\"tweet_text\"] = negative['tweet_text'].apply(lambda x: processPost(x)) "
   ]
  },
  {
   "cell_type": "markdown",
   "id": "e0cca9e0",
   "metadata": {},
   "source": [
    "splits a string into substrings using a regular expression"
   ]
  },
  {
   "cell_type": "code",
   "execution_count": 62,
   "id": "73549d74",
   "metadata": {},
   "outputs": [],
   "source": [
    "tokenizer = RegexpTokenizer(r'\\w+')\n",
    "negative[\"tweet_text\"] = negative[\"tweet_text\"].apply(tokenizer.tokenize)"
   ]
  },
  {
   "cell_type": "code",
   "execution_count": 63,
   "id": "4c309aab",
   "metadata": {},
   "outputs": [
    {
     "data": {
      "text/plain": [
       "0        [رحمه, اله, رحمه, واسعه, واسكنه, فسيح, جناته]\n",
       "1    [راح, فين, كلامك, الي, كنتي, بتقوليه, رايكو, ف...\n",
       "2    [كلام, اهلها, انهم, دخلوها, مستشفي, الامل, لمد...\n",
       "3                             [ليش, عم, تسبنا, يامخرف]\n",
       "4    [السعادهدايماهي, اشتقت, ل, حديثك, و, كاني, لم,...\n",
       "Name: tweet_text, dtype: object"
      ]
     },
     "execution_count": 63,
     "metadata": {},
     "output_type": "execute_result"
    }
   ],
   "source": [
    "negative[\"tweet_text\"].head()"
   ]
  },
  {
   "cell_type": "code",
   "execution_count": 64,
   "id": "5ca4575d",
   "metadata": {},
   "outputs": [],
   "source": [
    "stopwords_list = stopwords.words('arabic')\n",
    "w=['و', 'ان', 'ع', 'اذا', 'او', 'الا', 'ف']\n",
    "for i in w:\n",
    "    stopwords_list.append(i)"
   ]
  },
  {
   "cell_type": "code",
   "execution_count": 65,
   "id": "cbe2fdd2",
   "metadata": {},
   "outputs": [],
   "source": [
    "negative[\"tweet_text\"]=negative[\"tweet_text\"].apply(lambda x: [item for item in x if item not in stopwords_list])"
   ]
  },
  {
   "cell_type": "code",
   "execution_count": 66,
   "id": "f5acdd38",
   "metadata": {},
   "outputs": [
    {
     "data": {
      "text/plain": [
       "0         [رحمه, اله, رحمه, واسعه, واسكنه, فسيح, جناته]\n",
       "1     [راح, فين, كلامك, الي, كنتي, بتقوليه, رايكو, ص...\n",
       "2     [كلام, اهلها, انهم, دخلوها, مستشفي, الامل, لمد...\n",
       "3                              [ليش, عم, تسبنا, يامخرف]\n",
       "4     [السعادهدايماهي, اشتقت, ل, حديثك, كاني, احادثك...\n",
       "5     [اله, يستر, واله, مو, قادره, اتخيل, سيناريو, ا...\n",
       "6     [حقيقي, احس, بشيء, الحزن, اشوف, اولاد, بنات, م...\n",
       "7                                      [اول, مو, الحين]\n",
       "8                                   [اشفيه, صالح, غيمه]\n",
       "9     [بموت, ضحك, بتس, ثلاث, سنوات, عشان, يحولون, ال...\n",
       "10    [قبضوا, امنجي, نقطه, تفتيش, معاه, مسدس, قيل, م...\n",
       "11    [القهوه, الي, كنت, اسويها, طلعت, خطا, الطريقه,...\n",
       "12                           [اقبل, اعتذار, زعلت, خلاص]\n",
       "13                        [انا, داريه, منك, رجا, باليز]\n",
       "14    [اراجوز, بضحك, خلق, اله, بكي, بعيد, عين, صحابي...\n",
       "15    [الحلقه, التاسعه, والعشرون, السيره, النبويه, ت...\n",
       "16    [قبل, رمضان, 2019140, انا, اسف, زعلتك, انا, اس...\n",
       "17    [الاشياء, حياتنا, زجاجيه, التكوين, اصيبت, بخدش...\n",
       "18                  [ناس, ابقوا, الصمود, هانت, فضل, شي]\n",
       "19    [ارجوكم, ي, فحول, تعالو, ازنو, بشرفي, زوجتي, ا...\n",
       "20    [انتو, مابتنمو, راس, ساعه, بيان, انا, متابعاكم...\n",
       "21                                  [تقدر, تحل, مشكلتي]\n",
       "22                    [بغيناها, علي, هالاجواء, الجميله]\n",
       "23    [مشكله, ناس, بتضيع, حياتها, فكدا, حرفيا, ومفكر...\n",
       "24     [هلبا, تفاصيل, تعبت, بجد, اعتقد, النتيجه, مرضيه]\n",
       "Name: tweet_text, dtype: object"
      ]
     },
     "execution_count": 66,
     "metadata": {},
     "output_type": "execute_result"
    }
   ],
   "source": [
    "negative['tweet_text'].head(25)"
   ]
  },
  {
   "cell_type": "markdown",
   "id": "82ddc035",
   "metadata": {},
   "source": [
    "# Negative tweets text information"
   ]
  },
  {
   "cell_type": "code",
   "execution_count": 67,
   "id": "ba912c62",
   "metadata": {},
   "outputs": [
    {
     "name": "stdout",
     "output_type": "stream",
     "text": [
      "262242 words total, with a vocabulary size of 42686\n",
      "Max sentence length 821\n"
     ]
    }
   ],
   "source": [
    "all_words = [word for tokens in negative[\"tweet_text\"] for word in tokens]\n",
    "sentence_lengths = [len(tokens) for tokens in negative[\"tweet_text\"]]\n",
    "\n",
    "VOCAB = sorted(list(set(all_words)))\n",
    "\n",
    "print(f'{len(all_words)} words total, with a vocabulary size of {len(VOCAB)}')\n",
    "print(f'Max sentence length {max(sentence_lengths)}')"
   ]
  },
  {
   "cell_type": "markdown",
   "id": "c6a3b5ec",
   "metadata": {},
   "source": [
    "# # Top 25 words in negative comments"
   ]
  },
  {
   "cell_type": "code",
   "execution_count": 68,
   "id": "c54b0fa7",
   "metadata": {},
   "outputs": [],
   "source": [
    "counter_n = Counter(all_words)"
   ]
  },
  {
   "cell_type": "code",
   "execution_count": 69,
   "id": "89d8316a",
   "metadata": {},
   "outputs": [
    {
     "data": {
      "text/plain": [
       "[('اله', 3170),\n",
       " ('علي', 2684),\n",
       " ('الي', 2430),\n",
       " ('انا', 2024),\n",
       " ('واله', 1393),\n",
       " ('الهم', 837),\n",
       " ('الناس', 723),\n",
       " ('انت', 717),\n",
       " ('مو', 677),\n",
       " ('اي', 667),\n",
       " ('كان', 656),\n",
       " ('قبل', 637),\n",
       " ('صباح', 618),\n",
       " ('مش', 618),\n",
       " ('يوم', 608),\n",
       " ('شي', 606),\n",
       " ('عشان', 590),\n",
       " ('يارب', 590),\n",
       " ('يعني', 585),\n",
       " ('مافي', 573),\n",
       " ('اني', 573),\n",
       " ('دي', 534),\n",
       " ('حتي', 529),\n",
       " ('احد', 505),\n",
       " ('اليوم', 479),\n",
       " ('مره', 471),\n",
       " ('واحد', 470),\n",
       " ('م', 460),\n",
       " ('الاتحاد', 459),\n",
       " ('وانا', 452),\n",
       " ('الهلال', 445),\n",
       " ('انه', 434),\n",
       " ('الخير', 425),\n",
       " ('قلبي', 412),\n",
       " ('فض', 411),\n",
       " ('ال', 409),\n",
       " ('الام', 404),\n",
       " ('سنه', 401),\n",
       " ('اكثر', 390),\n",
       " ('ب', 387),\n",
       " ('باله', 382),\n",
       " ('ي', 380),\n",
       " ('اول', 372),\n",
       " ('كنت', 370),\n",
       " ('اليله', 353),\n",
       " ('جدا', 349),\n",
       " ('ليش', 346),\n",
       " ('ليه', 334),\n",
       " ('حاجه', 328),\n",
       " ('ارحم', 327),\n",
       " ('وش', 323),\n",
       " ('القلب', 309),\n",
       " ('متي', 308),\n",
       " ('فيك', 307),\n",
       " ('المهنين', 303),\n",
       " ('انك', 301),\n",
       " ('تجمع', 301),\n",
       " ('قال', 299),\n",
       " ('عليكم', 297),\n",
       " ('ه', 292),\n",
       " ('نفس', 285),\n",
       " ('بكي', 284),\n",
       " ('توجيه', 277),\n",
       " ('اعتصام', 276),\n",
       " ('سودان', 276),\n",
       " ('خير', 273),\n",
       " ('ا', 272),\n",
       " ('شو', 269),\n",
       " ('انو', 267),\n",
       " ('حلاوه', 263),\n",
       " ('ناس', 261),\n",
       " ('ايه', 258),\n",
       " ('العالم', 252),\n",
       " ('وان', 250),\n",
       " ('تلاتين', 248),\n",
       " ('بترقص', 248),\n",
       " ('رقصتنا', 248),\n",
       " ('شديده', 248),\n",
       " ('ده', 248),\n",
       " ('طبيعي', 247),\n",
       " ('باخ', 246),\n",
       " ('اخر', 244),\n",
       " ('حد', 244),\n",
       " ('عندي', 243),\n",
       " ('المطر', 243),\n",
       " ('كانت', 241),\n",
       " ('الحياه', 237),\n",
       " ('ساعه', 236),\n",
       " ('طول', 234),\n",
       " ('ل', 233),\n",
       " ('الاهلي', 232),\n",
       " ('نفسي', 226),\n",
       " ('ام', 226),\n",
       " ('يكون', 222),\n",
       " ('انتي', 217),\n",
       " ('امي', 217),\n",
       " ('لاسف', 214),\n",
       " ('طلقها', 213),\n",
       " ('ربي', 213),\n",
       " ('احب', 213),\n",
       " ('شيء', 211),\n",
       " ('العروس', 211),\n",
       " ('بدون', 209),\n",
       " ('رب', 208),\n",
       " ('بينا', 207),\n",
       " ('لسه', 207),\n",
       " ('وانت', 206),\n",
       " ('ابي', 206),\n",
       " ('طيب', 204),\n",
       " ('يقول', 203),\n",
       " ('يومين', 203),\n",
       " ('عليها', 203),\n",
       " ('العريس', 203),\n",
       " ('عسل', 203),\n",
       " ('الدنيا', 202),\n",
       " ('اقسم', 202),\n",
       " ('العربي', 199),\n",
       " ('تصير', 199),\n",
       " ('راح', 196),\n",
       " ('قالو', 193),\n",
       " ('تافه', 193),\n",
       " ('النصرالاتحاد', 193),\n",
       " ('اليك', 191),\n",
       " ('مباراه', 190),\n",
       " ('الحين', 188),\n",
       " ('عندما', 186),\n",
       " ('الف', 186),\n",
       " ('نحنا', 185),\n",
       " ('عظم', 185),\n",
       " ('فينا', 185),\n",
       " ('مثل', 184),\n",
       " ('الحب', 184),\n",
       " ('احنا', 183),\n",
       " ('بكل', 181),\n",
       " ('ركبت', 181)]"
      ]
     },
     "execution_count": 69,
     "metadata": {},
     "output_type": "execute_result"
    }
   ],
   "source": [
    "counter_n.most_common(135\n",
    "                     )"
   ]
  },
  {
   "cell_type": "code",
   "execution_count": 70,
   "id": "314a3338",
   "metadata": {},
   "outputs": [],
   "source": [
    "words = []\n",
    "counts = []\n",
    "for letter, count in counter_n.most_common(25):\n",
    "    words.append(letter)\n",
    "    counts.append(count)"
   ]
  },
  {
   "cell_type": "code",
   "execution_count": 71,
   "id": "21948e83",
   "metadata": {},
   "outputs": [
    {
     "data": {
      "image/png": "[encoded data removed]",
      "text/plain": [
       "<Figure size 1080x720 with 1 Axes>"
      ]
     },
     "metadata": {},
     "output_type": "display_data"
    }
   ],
   "source": [
    "word_counter_n=pd.DataFrame(list(zip(words, counts)),\n",
    "               columns =['word', 'freq'])\n",
    "word_counter_n['disp'] = word_counter_n.word.apply(arabic_reshaper.reshape).apply(get_display)\n",
    "# word_counter_df.plot.bar(x=\"disp\", y=\"freq\")\n",
    "fig, ax=plt.subplots(figsize=(15,10))\n",
    "ax.barh(word_counter_n.disp[::-1], word_counter_n.freq[::-1], color='#1da1f2ff')\n",
    "plt.title('Top words in negative tweets', fontsize=18)\n",
    "ax.set_xlabel('Count', fontsize=16)\n",
    "ax.set_ylabel('Words', fontsize=16)\n",
    "plt.tight_layout()\n",
    "plt.savefig('image/negative_top_words.jpg');"
   ]
  },
  {
   "cell_type": "code",
   "execution_count": 81,
   "id": "cb378004",
   "metadata": {},
   "outputs": [],
   "source": [
    "top_pword= counter.most_common(50)\n",
    "top_nword=counter_n.most_common(50)\n",
    "lst=[]\n",
    "lst2=[]\n",
    "for tup1 in top_pword:\n",
    "    lst.append(tup1[0])\n",
    "    \n",
    "for tup2 in top_nword:\n",
    "    lst2.append(tup2[0])\n",
    "\n",
    "\n"
   ]
  },
  {
   "cell_type": "code",
   "execution_count": 82,
   "id": "6e6ec6cd",
   "metadata": {},
   "outputs": [
    {
     "data": {
      "image/png": "[encoded data removed]",
      "text/plain": [
       "<Figure size 432x288 with 1 Axes>"
      ]
     },
     "metadata": {},
     "output_type": "display_data"
    }
   ],
   "source": [
    "import matplotlib.pyplot as plt\n",
    "import arabic_reshaper\n",
    "from bidi.algorithm import get_display\n",
    "from wordcloud import WordCloud, STOPWORDS, ImageColorGenerator\n",
    "\n",
    "all_words=' '.join(tweet for tweet in lst)\n",
    "word_cloud = WordCloud(font_path='Noto-unhinted/NotoNaskhArabic-Regular.ttf',stopwords=STOPWORDS, background_color=\"white\", max_font_size=50, max_words=100)\n",
    "word_cloud = word_cloud.generate_from_text(get_display(arabic_reshaper.reshape(all_words)))\n",
    "\n",
    "plt.imshow(word_cloud, interpolation='bilinear')\n",
    "plt.axis(\"off\")\n",
    "plt.tight_layout()\n",
    "plt.savefig('image/pwordcloud.jpg')\n",
    "plt.show()\n",
    "\n"
   ]
  },
  {
   "cell_type": "code",
   "execution_count": 83,
   "id": "edad024a",
   "metadata": {},
   "outputs": [
    {
     "data": {
      "image/png": "[encoded data removed]",
      "text/plain": [
       "<Figure size 432x288 with 1 Axes>"
      ]
     },
     "metadata": {},
     "output_type": "display_data"
    }
   ],
   "source": [
    "import matplotlib.pyplot as plt\n",
    "import arabic_reshaper\n",
    "from bidi.algorithm import get_display\n",
    "from wordcloud import WordCloud, STOPWORDS, ImageColorGenerator\n",
    "\n",
    "all_words=' '.join(tweet for tweet in lst2)\n",
    "word_cloud = WordCloud(font_path='Noto-unhinted/NotoNaskhArabic-Regular.ttf',stopwords=STOPWORDS, background_color=\"white\", max_font_size=50, max_words=50)\n",
    "word_cloud = word_cloud.generate_from_text(get_display(arabic_reshaper.reshape(all_words)))\n",
    "\n",
    "plt.imshow(word_cloud, interpolation='bilinear')\n",
    "plt.axis(\"off\")\n",
    "plt.tight_layout()\n",
    "plt.savefig('image/nwordcloud.jpg')\n",
    "plt.show()\n",
    "\n"
   ]
  },
  {
   "cell_type": "markdown",
   "id": "cd6221e6",
   "metadata": {},
   "source": [
    "# Prepare the Final Data"
   ]
  },
  {
   "cell_type": "markdown",
   "id": "9f9c16be",
   "metadata": {},
   "source": [
    "concatenate the postive and negative classes"
   ]
  },
  {
   "cell_type": "code",
   "execution_count": 84,
   "id": "28ba3a90",
   "metadata": {},
   "outputs": [],
   "source": [
    "full_data = pd.concat([positive, negative], axis=0, ignore_index=True)"
   ]
  },
  {
   "cell_type": "code",
   "execution_count": 85,
   "id": "7fa46d00",
   "metadata": {},
   "outputs": [
    {
     "data": {
      "text/html": [
       "<div>\n",
       "<style scoped>\n",
       "    .dataframe tbody tr th:only-of-type {\n",
       "        vertical-align: middle;\n",
       "    }\n",
       "\n",
       "    .dataframe tbody tr th {\n",
       "        vertical-align: top;\n",
       "    }\n",
       "\n",
       "    .dataframe thead th {\n",
       "        text-align: right;\n",
       "    }\n",
       "</style>\n",
       "<table border=\"1\" class=\"dataframe\">\n",
       "  <thead>\n",
       "    <tr style=\"text-align: right;\">\n",
       "      <th></th>\n",
       "      <th>class</th>\n",
       "      <th>tweet_text</th>\n",
       "    </tr>\n",
       "  </thead>\n",
       "  <tbody>\n",
       "    <tr>\n",
       "      <th>0</th>\n",
       "      <td>pos</td>\n",
       "      <td>[اله, قفل, ميتينك]</td>\n",
       "    </tr>\n",
       "    <tr>\n",
       "      <th>1</th>\n",
       "      <td>pos</td>\n",
       "      <td>[طيار, عراقي, يسال, برج, المراقبه, سلطنه, عمان...</td>\n",
       "    </tr>\n",
       "    <tr>\n",
       "      <th>2</th>\n",
       "      <td>pos</td>\n",
       "      <td>[علمهم, تكفي, حسبي, اله, عليهم]</td>\n",
       "    </tr>\n",
       "    <tr>\n",
       "      <th>3</th>\n",
       "      <td>pos</td>\n",
       "      <td>[وعن, ذكر, اله, تغفلون, اله, الا, اله, اله, ال...</td>\n",
       "    </tr>\n",
       "    <tr>\n",
       "      <th>4</th>\n",
       "      <td>pos</td>\n",
       "      <td>[كثير, جمهور, الاهلي, يقول, عطنا, تشكيله, الهل...</td>\n",
       "    </tr>\n",
       "    <tr>\n",
       "      <th>...</th>\n",
       "      <td>...</td>\n",
       "      <td>...</td>\n",
       "    </tr>\n",
       "    <tr>\n",
       "      <th>56807</th>\n",
       "      <td>neg</td>\n",
       "      <td>[الناس, الطبيعيه, بصداقتهم, تقول, احنا, مقربين...</td>\n",
       "    </tr>\n",
       "    <tr>\n",
       "      <th>56808</th>\n",
       "      <td>neg</td>\n",
       "      <td>[يمكن, النت, حقها, خلص]</td>\n",
       "    </tr>\n",
       "    <tr>\n",
       "      <th>56809</th>\n",
       "      <td>neg</td>\n",
       "      <td>[المقطع, صباح, لازم, اسمعه, صار, اساسيات, حياتي]</td>\n",
       "    </tr>\n",
       "    <tr>\n",
       "      <th>56810</th>\n",
       "      <td>neg</td>\n",
       "      <td>[كانها, كيكتك, انتي]</td>\n",
       "    </tr>\n",
       "    <tr>\n",
       "      <th>56811</th>\n",
       "      <td>neg</td>\n",
       "      <td>[ضحوك, انته]</td>\n",
       "    </tr>\n",
       "  </tbody>\n",
       "</table>\n",
       "<p>56812 rows × 2 columns</p>\n",
       "</div>"
      ],
      "text/plain": [
       "      class                                         tweet_text\n",
       "0       pos                                 [اله, قفل, ميتينك]\n",
       "1       pos  [طيار, عراقي, يسال, برج, المراقبه, سلطنه, عمان...\n",
       "2       pos                    [علمهم, تكفي, حسبي, اله, عليهم]\n",
       "3       pos  [وعن, ذكر, اله, تغفلون, اله, الا, اله, اله, ال...\n",
       "4       pos  [كثير, جمهور, الاهلي, يقول, عطنا, تشكيله, الهل...\n",
       "...     ...                                                ...\n",
       "56807   neg  [الناس, الطبيعيه, بصداقتهم, تقول, احنا, مقربين...\n",
       "56808   neg                            [يمكن, النت, حقها, خلص]\n",
       "56809   neg   [المقطع, صباح, لازم, اسمعه, صار, اساسيات, حياتي]\n",
       "56810   neg                               [كانها, كيكتك, انتي]\n",
       "56811   neg                                       [ضحوك, انته]\n",
       "\n",
       "[56812 rows x 2 columns]"
      ]
     },
     "execution_count": 85,
     "metadata": {},
     "output_type": "execute_result"
    }
   ],
   "source": [
    "full_data.head(-50)"
   ]
  },
  {
   "cell_type": "code",
   "execution_count": 86,
   "id": "78c17b1a",
   "metadata": {},
   "outputs": [
    {
     "name": "stdout",
     "output_type": "stream",
     "text": [
      "<class 'pandas.core.frame.DataFrame'>\n",
      "RangeIndex: 56862 entries, 0 to 56861\n",
      "Data columns (total 2 columns):\n",
      " #   Column      Non-Null Count  Dtype \n",
      "---  ------      --------------  ----- \n",
      " 0   class       56862 non-null  object\n",
      " 1   tweet_text  56862 non-null  object\n",
      "dtypes: object(2)\n",
      "memory usage: 888.6+ KB\n"
     ]
    }
   ],
   "source": [
    "full_data.info()"
   ]
  },
  {
   "cell_type": "code",
   "execution_count": 87,
   "id": "de9535a7",
   "metadata": {},
   "outputs": [
    {
     "data": {
      "text/plain": [
       "56862"
      ]
     },
     "execution_count": 87,
     "metadata": {},
     "output_type": "execute_result"
    }
   ],
   "source": [
    "len(full_data)"
   ]
  },
  {
   "cell_type": "code",
   "execution_count": 88,
   "id": "61de1ccf",
   "metadata": {},
   "outputs": [
    {
     "data": {
      "text/plain": [
       "pos    28536\n",
       "neg    28326\n",
       "Name: class, dtype: int64"
      ]
     },
     "execution_count": 88,
     "metadata": {},
     "output_type": "execute_result"
    }
   ],
   "source": [
    "y=full_data['class']\n",
    "y.value_counts()"
   ]
  },
  {
   "cell_type": "markdown",
   "id": "eacd75f6",
   "metadata": {},
   "source": [
    "# Showing how the dataset is balance"
   ]
  },
  {
   "cell_type": "code",
   "execution_count": 96,
   "id": "5f105090",
   "metadata": {
    "scrolled": false
   },
   "outputs": [
    {
     "data": {
      "image/png": "[encoded data removed]",
      "text/plain": [
       "<Figure size 432x288 with 1 Axes>"
      ]
     },
     "metadata": {},
     "output_type": "display_data"
    },
    {
     "data": {
      "text/plain": [
       "<Figure size 432x288 with 0 Axes>"
      ]
     },
     "metadata": {},
     "output_type": "display_data"
    }
   ],
   "source": [
    "full_data['class'].value_counts().plot(kind='bar', color='#1da1f2ff')\n",
    "plt.title('postive comments / negative comments', color='black')\n",
    "plt.xlabel('comments', fontsize=14, color='black')\n",
    "plt.ylabel('counts', fontsize=14, color='black')\n",
    "plt.xticks(color='black', rotation=0)\n",
    "plt.savefig('image/balance_data.jpg')\n",
    "fig1 = plt.gcf()\n",
    "plt.tight_layout()\n",
    "plt.show()\n",
    "plt.draw()\n",
    "fig1.savefig('image/balance_data.jpg', dpi=100);"
   ]
  },
  {
   "cell_type": "markdown",
   "id": "ca1d6c3f",
   "metadata": {},
   "source": [
    "# Convert class values (pos, neg) to (1,0) "
   ]
  },
  {
   "cell_type": "code",
   "execution_count": 97,
   "id": "fb37b0eb",
   "metadata": {},
   "outputs": [],
   "source": [
    "pro= preprocessing.LabelEncoder()\n",
    "enc_pro=pro.fit_transform(full_data['class'])\n",
    "full_data['class'] = enc_pro\n"
   ]
  },
  {
   "cell_type": "markdown",
   "id": "2a01a632",
   "metadata": {},
   "source": [
    "# Save the final dataset"
   ]
  },
  {
   "cell_type": "code",
   "execution_count": 98,
   "id": "db8b9968",
   "metadata": {},
   "outputs": [],
   "source": [
    "full_data.to_pickle('full_df.pickle')"
   ]
  },
  {
   "cell_type": "code",
   "execution_count": 2,
   "id": "5aca1298",
   "metadata": {},
   "outputs": [
    {
     "data": {
      "text/html": [
       "<div>\n",
       "<style scoped>\n",
       "    .dataframe tbody tr th:only-of-type {\n",
       "        vertical-align: middle;\n",
       "    }\n",
       "\n",
       "    .dataframe tbody tr th {\n",
       "        vertical-align: top;\n",
       "    }\n",
       "\n",
       "    .dataframe thead th {\n",
       "        text-align: right;\n",
       "    }\n",
       "</style>\n",
       "<table border=\"1\" class=\"dataframe\">\n",
       "  <thead>\n",
       "    <tr style=\"text-align: right;\">\n",
       "      <th></th>\n",
       "      <th>class</th>\n",
       "      <th>tweet_text</th>\n",
       "    </tr>\n",
       "  </thead>\n",
       "  <tbody>\n",
       "    <tr>\n",
       "      <th>0</th>\n",
       "      <td>1</td>\n",
       "      <td>[اله, قفل, ميتينك]</td>\n",
       "    </tr>\n",
       "    <tr>\n",
       "      <th>1</th>\n",
       "      <td>1</td>\n",
       "      <td>[طيار, عراقي, يسال, برج, المراقبه, سلطنه, عمان...</td>\n",
       "    </tr>\n",
       "    <tr>\n",
       "      <th>2</th>\n",
       "      <td>1</td>\n",
       "      <td>[علمهم, تكفي, حسبي, اله, عليهم]</td>\n",
       "    </tr>\n",
       "    <tr>\n",
       "      <th>3</th>\n",
       "      <td>1</td>\n",
       "      <td>[وعن, ذكر, اله, تغفلون, اله, الا, اله, اله, ال...</td>\n",
       "    </tr>\n",
       "    <tr>\n",
       "      <th>4</th>\n",
       "      <td>1</td>\n",
       "      <td>[كثير, جمهور, الاهلي, يقول, عطنا, تشكيله, الهل...</td>\n",
       "    </tr>\n",
       "    <tr>\n",
       "      <th>...</th>\n",
       "      <td>...</td>\n",
       "      <td>...</td>\n",
       "    </tr>\n",
       "    <tr>\n",
       "      <th>56807</th>\n",
       "      <td>0</td>\n",
       "      <td>[الناس, الطبيعيه, بصداقتهم, تقول, احنا, مقربين...</td>\n",
       "    </tr>\n",
       "    <tr>\n",
       "      <th>56808</th>\n",
       "      <td>0</td>\n",
       "      <td>[يمكن, النت, حقها, خلص]</td>\n",
       "    </tr>\n",
       "    <tr>\n",
       "      <th>56809</th>\n",
       "      <td>0</td>\n",
       "      <td>[المقطع, صباح, لازم, اسمعه, صار, اساسيات, حياتي]</td>\n",
       "    </tr>\n",
       "    <tr>\n",
       "      <th>56810</th>\n",
       "      <td>0</td>\n",
       "      <td>[كانها, كيكتك, انتي]</td>\n",
       "    </tr>\n",
       "    <tr>\n",
       "      <th>56811</th>\n",
       "      <td>0</td>\n",
       "      <td>[ضحوك, انته]</td>\n",
       "    </tr>\n",
       "  </tbody>\n",
       "</table>\n",
       "<p>56812 rows × 2 columns</p>\n",
       "</div>"
      ],
      "text/plain": [
       "       class                                         tweet_text\n",
       "0          1                                 [اله, قفل, ميتينك]\n",
       "1          1  [طيار, عراقي, يسال, برج, المراقبه, سلطنه, عمان...\n",
       "2          1                    [علمهم, تكفي, حسبي, اله, عليهم]\n",
       "3          1  [وعن, ذكر, اله, تغفلون, اله, الا, اله, اله, ال...\n",
       "4          1  [كثير, جمهور, الاهلي, يقول, عطنا, تشكيله, الهل...\n",
       "...      ...                                                ...\n",
       "56807      0  [الناس, الطبيعيه, بصداقتهم, تقول, احنا, مقربين...\n",
       "56808      0                            [يمكن, النت, حقها, خلص]\n",
       "56809      0   [المقطع, صباح, لازم, اسمعه, صار, اساسيات, حياتي]\n",
       "56810      0                               [كانها, كيكتك, انتي]\n",
       "56811      0                                       [ضحوك, انته]\n",
       "\n",
       "[56812 rows x 2 columns]"
      ]
     },
     "execution_count": 2,
     "metadata": {},
     "output_type": "execute_result"
    }
   ],
   "source": [
    "full_df = pd.read_pickle('data/full_df.pickle')\n",
    "full_df.head(-50)"
   ]
  },
  {
   "cell_type": "code",
   "execution_count": 100,
   "id": "563087dc",
   "metadata": {},
   "outputs": [
    {
     "name": "stdout",
     "output_type": "stream",
     "text": [
      "<class 'pandas.core.frame.DataFrame'>\n",
      "RangeIndex: 56862 entries, 0 to 56861\n",
      "Data columns (total 2 columns):\n",
      " #   Column      Non-Null Count  Dtype \n",
      "---  ------      --------------  ----- \n",
      " 0   class       56862 non-null  int64 \n",
      " 1   tweet_text  56862 non-null  object\n",
      "dtypes: int64(1), object(1)\n",
      "memory usage: 888.6+ KB\n"
     ]
    }
   ],
   "source": [
    "full_df.info()"
   ]
  },
  {
   "cell_type": "code",
   "execution_count": 234,
   "id": "30af8cad",
   "metadata": {},
   "outputs": [
    {
     "data": {
      "text/plain": [
       "0         3\n",
       "1        12\n",
       "2         5\n",
       "3        20\n",
       "4        19\n",
       "         ..\n",
       "56857    13\n",
       "56858    13\n",
       "56859     2\n",
       "56860    10\n",
       "56861     6\n",
       "Name: length, Length: 56862, dtype: int64"
      ]
     },
     "execution_count": 234,
     "metadata": {},
     "output_type": "execute_result"
    }
   ],
   "source": [
    "full_df['length']"
   ]
  },
  {
   "cell_type": "code",
   "execution_count": 235,
   "id": "b37640b4",
   "metadata": {},
   "outputs": [
    {
     "data": {
      "image/png": "[encoded data removed]",
      "text/plain": [
       "<Figure size 1080x576 with 1 Axes>"
      ]
     },
     "metadata": {},
     "output_type": "display_data"
    },
    {
     "data": {
      "text/plain": [
       "<Figure size 432x288 with 0 Axes>"
      ]
     },
     "metadata": {},
     "output_type": "display_data"
    }
   ],
   "source": [
    "ax, fig= plt.subplots(figsize=(15, 8))\n",
    "full_df['length'][:50].plot(kind='bar', color='#1da1f2ff')\n",
    "plt.title('Length of phrases')\n",
    "plt.xlabel('phrase', fontsize=14)\n",
    "plt.ylabel('Length', fontsize=14)\n",
    "plt.xticks(rotation=0)\n",
    "fig1 = plt.gcf()\n",
    "plt.tight_layout()\n",
    "plt.show()\n",
    "plt.draw()\n",
    "fig1.savefig('image/phrase_length.jpg', dpi=100)"
   ]
  },
  {
   "cell_type": "markdown",
   "id": "5905c8eb",
   "metadata": {},
   "source": [
    " "
   ]
  },
  {
   "cell_type": "markdown",
   "id": "8baab05f",
   "metadata": {},
   "source": [
    "# Machine Learning part"
   ]
  },
  {
   "cell_type": "markdown",
   "id": "0cabfff5",
   "metadata": {},
   "source": [
    "# TFIDF"
   ]
  },
  {
   "cell_type": "code",
   "execution_count": 3,
   "id": "9bba8baa",
   "metadata": {},
   "outputs": [
    {
     "data": {
      "text/html": [
       "<div>\n",
       "<style scoped>\n",
       "    .dataframe tbody tr th:only-of-type {\n",
       "        vertical-align: middle;\n",
       "    }\n",
       "\n",
       "    .dataframe tbody tr th {\n",
       "        vertical-align: top;\n",
       "    }\n",
       "\n",
       "    .dataframe thead th {\n",
       "        text-align: right;\n",
       "    }\n",
       "</style>\n",
       "<table border=\"1\" class=\"dataframe\">\n",
       "  <thead>\n",
       "    <tr style=\"text-align: right;\">\n",
       "      <th></th>\n",
       "      <th>10</th>\n",
       "      <th>15</th>\n",
       "      <th>16</th>\n",
       "      <th>1953</th>\n",
       "      <th>30</th>\n",
       "      <th>30م</th>\n",
       "      <th>40</th>\n",
       "      <th>412</th>\n",
       "      <th>413</th>\n",
       "      <th>419</th>\n",
       "      <th>...</th>\n",
       "      <th>ٳنك</th>\n",
       "      <th>کل</th>\n",
       "      <th>ڪل</th>\n",
       "      <th>ڪن</th>\n",
       "      <th>گثيرا</th>\n",
       "      <th>ۆفيما</th>\n",
       "      <th>ۈل</th>\n",
       "      <th>یبقی</th>\n",
       "      <th>یوم</th>\n",
       "      <th>ฬw</th>\n",
       "    </tr>\n",
       "  </thead>\n",
       "  <tbody>\n",
       "    <tr>\n",
       "      <th>0</th>\n",
       "      <td>0.0</td>\n",
       "      <td>0.0</td>\n",
       "      <td>0.0</td>\n",
       "      <td>0.0</td>\n",
       "      <td>0.0</td>\n",
       "      <td>0.0</td>\n",
       "      <td>0.0</td>\n",
       "      <td>0.0</td>\n",
       "      <td>0.0</td>\n",
       "      <td>0.0</td>\n",
       "      <td>...</td>\n",
       "      <td>0.0</td>\n",
       "      <td>0.0</td>\n",
       "      <td>0.0</td>\n",
       "      <td>0.0</td>\n",
       "      <td>0.0</td>\n",
       "      <td>0.0</td>\n",
       "      <td>0.0</td>\n",
       "      <td>0.0</td>\n",
       "      <td>0.0</td>\n",
       "      <td>0.0</td>\n",
       "    </tr>\n",
       "    <tr>\n",
       "      <th>1</th>\n",
       "      <td>0.0</td>\n",
       "      <td>0.0</td>\n",
       "      <td>0.0</td>\n",
       "      <td>0.0</td>\n",
       "      <td>0.0</td>\n",
       "      <td>0.0</td>\n",
       "      <td>0.0</td>\n",
       "      <td>0.0</td>\n",
       "      <td>0.0</td>\n",
       "      <td>0.0</td>\n",
       "      <td>...</td>\n",
       "      <td>0.0</td>\n",
       "      <td>0.0</td>\n",
       "      <td>0.0</td>\n",
       "      <td>0.0</td>\n",
       "      <td>0.0</td>\n",
       "      <td>0.0</td>\n",
       "      <td>0.0</td>\n",
       "      <td>0.0</td>\n",
       "      <td>0.0</td>\n",
       "      <td>0.0</td>\n",
       "    </tr>\n",
       "    <tr>\n",
       "      <th>2</th>\n",
       "      <td>0.0</td>\n",
       "      <td>0.0</td>\n",
       "      <td>0.0</td>\n",
       "      <td>0.0</td>\n",
       "      <td>0.0</td>\n",
       "      <td>0.0</td>\n",
       "      <td>0.0</td>\n",
       "      <td>0.0</td>\n",
       "      <td>0.0</td>\n",
       "      <td>0.0</td>\n",
       "      <td>...</td>\n",
       "      <td>0.0</td>\n",
       "      <td>0.0</td>\n",
       "      <td>0.0</td>\n",
       "      <td>0.0</td>\n",
       "      <td>0.0</td>\n",
       "      <td>0.0</td>\n",
       "      <td>0.0</td>\n",
       "      <td>0.0</td>\n",
       "      <td>0.0</td>\n",
       "      <td>0.0</td>\n",
       "    </tr>\n",
       "    <tr>\n",
       "      <th>3</th>\n",
       "      <td>0.0</td>\n",
       "      <td>0.0</td>\n",
       "      <td>0.0</td>\n",
       "      <td>0.0</td>\n",
       "      <td>0.0</td>\n",
       "      <td>0.0</td>\n",
       "      <td>0.0</td>\n",
       "      <td>0.0</td>\n",
       "      <td>0.0</td>\n",
       "      <td>0.0</td>\n",
       "      <td>...</td>\n",
       "      <td>0.0</td>\n",
       "      <td>0.0</td>\n",
       "      <td>0.0</td>\n",
       "      <td>0.0</td>\n",
       "      <td>0.0</td>\n",
       "      <td>0.0</td>\n",
       "      <td>0.0</td>\n",
       "      <td>0.0</td>\n",
       "      <td>0.0</td>\n",
       "      <td>0.0</td>\n",
       "    </tr>\n",
       "    <tr>\n",
       "      <th>4</th>\n",
       "      <td>0.0</td>\n",
       "      <td>0.0</td>\n",
       "      <td>0.0</td>\n",
       "      <td>0.0</td>\n",
       "      <td>0.0</td>\n",
       "      <td>0.0</td>\n",
       "      <td>0.0</td>\n",
       "      <td>0.0</td>\n",
       "      <td>0.0</td>\n",
       "      <td>0.0</td>\n",
       "      <td>...</td>\n",
       "      <td>0.0</td>\n",
       "      <td>0.0</td>\n",
       "      <td>0.0</td>\n",
       "      <td>0.0</td>\n",
       "      <td>0.0</td>\n",
       "      <td>0.0</td>\n",
       "      <td>0.0</td>\n",
       "      <td>0.0</td>\n",
       "      <td>0.0</td>\n",
       "      <td>0.0</td>\n",
       "    </tr>\n",
       "    <tr>\n",
       "      <th>5</th>\n",
       "      <td>0.0</td>\n",
       "      <td>0.0</td>\n",
       "      <td>0.0</td>\n",
       "      <td>0.0</td>\n",
       "      <td>0.0</td>\n",
       "      <td>0.0</td>\n",
       "      <td>0.0</td>\n",
       "      <td>0.0</td>\n",
       "      <td>0.0</td>\n",
       "      <td>0.0</td>\n",
       "      <td>...</td>\n",
       "      <td>0.0</td>\n",
       "      <td>0.0</td>\n",
       "      <td>0.0</td>\n",
       "      <td>0.0</td>\n",
       "      <td>0.0</td>\n",
       "      <td>0.0</td>\n",
       "      <td>0.0</td>\n",
       "      <td>0.0</td>\n",
       "      <td>0.0</td>\n",
       "      <td>0.0</td>\n",
       "    </tr>\n",
       "    <tr>\n",
       "      <th>6</th>\n",
       "      <td>0.0</td>\n",
       "      <td>0.0</td>\n",
       "      <td>0.0</td>\n",
       "      <td>0.0</td>\n",
       "      <td>0.0</td>\n",
       "      <td>0.0</td>\n",
       "      <td>0.0</td>\n",
       "      <td>0.0</td>\n",
       "      <td>0.0</td>\n",
       "      <td>0.0</td>\n",
       "      <td>...</td>\n",
       "      <td>0.0</td>\n",
       "      <td>0.0</td>\n",
       "      <td>0.0</td>\n",
       "      <td>0.0</td>\n",
       "      <td>0.0</td>\n",
       "      <td>0.0</td>\n",
       "      <td>0.0</td>\n",
       "      <td>0.0</td>\n",
       "      <td>0.0</td>\n",
       "      <td>0.0</td>\n",
       "    </tr>\n",
       "    <tr>\n",
       "      <th>7</th>\n",
       "      <td>0.0</td>\n",
       "      <td>0.0</td>\n",
       "      <td>0.0</td>\n",
       "      <td>0.0</td>\n",
       "      <td>0.0</td>\n",
       "      <td>0.0</td>\n",
       "      <td>0.0</td>\n",
       "      <td>0.0</td>\n",
       "      <td>0.0</td>\n",
       "      <td>0.0</td>\n",
       "      <td>...</td>\n",
       "      <td>0.0</td>\n",
       "      <td>0.0</td>\n",
       "      <td>0.0</td>\n",
       "      <td>0.0</td>\n",
       "      <td>0.0</td>\n",
       "      <td>0.0</td>\n",
       "      <td>0.0</td>\n",
       "      <td>0.0</td>\n",
       "      <td>0.0</td>\n",
       "      <td>0.0</td>\n",
       "    </tr>\n",
       "    <tr>\n",
       "      <th>8</th>\n",
       "      <td>0.0</td>\n",
       "      <td>0.0</td>\n",
       "      <td>0.0</td>\n",
       "      <td>0.0</td>\n",
       "      <td>0.0</td>\n",
       "      <td>0.0</td>\n",
       "      <td>0.0</td>\n",
       "      <td>0.0</td>\n",
       "      <td>0.0</td>\n",
       "      <td>0.0</td>\n",
       "      <td>...</td>\n",
       "      <td>0.0</td>\n",
       "      <td>0.0</td>\n",
       "      <td>0.0</td>\n",
       "      <td>0.0</td>\n",
       "      <td>0.0</td>\n",
       "      <td>0.0</td>\n",
       "      <td>0.0</td>\n",
       "      <td>0.0</td>\n",
       "      <td>0.0</td>\n",
       "      <td>0.0</td>\n",
       "    </tr>\n",
       "    <tr>\n",
       "      <th>9</th>\n",
       "      <td>0.0</td>\n",
       "      <td>0.0</td>\n",
       "      <td>0.0</td>\n",
       "      <td>0.0</td>\n",
       "      <td>0.0</td>\n",
       "      <td>0.0</td>\n",
       "      <td>0.0</td>\n",
       "      <td>0.0</td>\n",
       "      <td>0.0</td>\n",
       "      <td>0.0</td>\n",
       "      <td>...</td>\n",
       "      <td>0.0</td>\n",
       "      <td>0.0</td>\n",
       "      <td>0.0</td>\n",
       "      <td>0.0</td>\n",
       "      <td>0.0</td>\n",
       "      <td>0.0</td>\n",
       "      <td>0.0</td>\n",
       "      <td>0.0</td>\n",
       "      <td>0.0</td>\n",
       "      <td>0.0</td>\n",
       "    </tr>\n",
       "  </tbody>\n",
       "</table>\n",
       "<p>10 rows × 10000 columns</p>\n",
       "</div>"
      ],
      "text/plain": [
       "    10   15   16  1953   30  30م   40  412  413  419  ...  ٳنك   کل   ڪل   ڪن  \\\n",
       "0  0.0  0.0  0.0   0.0  0.0  0.0  0.0  0.0  0.0  0.0  ...  0.0  0.0  0.0  0.0   \n",
       "1  0.0  0.0  0.0   0.0  0.0  0.0  0.0  0.0  0.0  0.0  ...  0.0  0.0  0.0  0.0   \n",
       "2  0.0  0.0  0.0   0.0  0.0  0.0  0.0  0.0  0.0  0.0  ...  0.0  0.0  0.0  0.0   \n",
       "3  0.0  0.0  0.0   0.0  0.0  0.0  0.0  0.0  0.0  0.0  ...  0.0  0.0  0.0  0.0   \n",
       "4  0.0  0.0  0.0   0.0  0.0  0.0  0.0  0.0  0.0  0.0  ...  0.0  0.0  0.0  0.0   \n",
       "5  0.0  0.0  0.0   0.0  0.0  0.0  0.0  0.0  0.0  0.0  ...  0.0  0.0  0.0  0.0   \n",
       "6  0.0  0.0  0.0   0.0  0.0  0.0  0.0  0.0  0.0  0.0  ...  0.0  0.0  0.0  0.0   \n",
       "7  0.0  0.0  0.0   0.0  0.0  0.0  0.0  0.0  0.0  0.0  ...  0.0  0.0  0.0  0.0   \n",
       "8  0.0  0.0  0.0   0.0  0.0  0.0  0.0  0.0  0.0  0.0  ...  0.0  0.0  0.0  0.0   \n",
       "9  0.0  0.0  0.0   0.0  0.0  0.0  0.0  0.0  0.0  0.0  ...  0.0  0.0  0.0  0.0   \n",
       "\n",
       "   گثيرا  ۆفيما   ۈل  یبقی  یوم   ฬw  \n",
       "0    0.0    0.0  0.0   0.0  0.0  0.0  \n",
       "1    0.0    0.0  0.0   0.0  0.0  0.0  \n",
       "2    0.0    0.0  0.0   0.0  0.0  0.0  \n",
       "3    0.0    0.0  0.0   0.0  0.0  0.0  \n",
       "4    0.0    0.0  0.0   0.0  0.0  0.0  \n",
       "5    0.0    0.0  0.0   0.0  0.0  0.0  \n",
       "6    0.0    0.0  0.0   0.0  0.0  0.0  \n",
       "7    0.0    0.0  0.0   0.0  0.0  0.0  \n",
       "8    0.0    0.0  0.0   0.0  0.0  0.0  \n",
       "9    0.0    0.0  0.0   0.0  0.0  0.0  \n",
       "\n",
       "[10 rows x 10000 columns]"
      ]
     },
     "execution_count": 3,
     "metadata": {},
     "output_type": "execute_result"
    }
   ],
   "source": [
    "word_vectorizer = TfidfVectorizer(\n",
    "    sublinear_tf=True,\n",
    "    strip_accents='unicode',\n",
    "    analyzer='word',\n",
    "    ngram_range=(1, 1),\n",
    "    max_features =10000)\n",
    "\n",
    "word_vec= word_vectorizer.fit_transform(full_df['tweet_text'].astype('str'))\n",
    "word_vec = word_vec.toarray()\n",
    "\n",
    "vocab = word_vectorizer.get_feature_names()\n",
    "word_vec_features=pd.DataFrame(word_vec, columns=vocab)\n",
    "word_vec_features.head(10)"
   ]
  },
  {
   "cell_type": "code",
   "execution_count": 4,
   "id": "bd6fbbc9",
   "metadata": {},
   "outputs": [],
   "source": [
    "y=full_df['class']\n",
    "X=word_vec_features"
   ]
  },
  {
   "cell_type": "code",
   "execution_count": 5,
   "id": "2c7d44df",
   "metadata": {},
   "outputs": [
    {
     "data": {
      "text/plain": [
       "((56862, 10000), (56862,))"
      ]
     },
     "execution_count": 5,
     "metadata": {},
     "output_type": "execute_result"
    }
   ],
   "source": [
    "X.shape, y.shape"
   ]
  },
  {
   "cell_type": "markdown",
   "id": "fd1137fc",
   "metadata": {},
   "source": [
    "# Spliting Dataset into 80% Training and 20% Testing"
   ]
  },
  {
   "cell_type": "code",
   "execution_count": 6,
   "id": "436a0fee",
   "metadata": {},
   "outputs": [],
   "source": [
    "X_train, X_test, y_train, y_test = train_test_split(X, y, test_size=0.20, random_state=2)\n",
    "scores = []"
   ]
  },
  {
   "cell_type": "code",
   "execution_count": 7,
   "id": "8cd1195c",
   "metadata": {},
   "outputs": [
    {
     "data": {
      "text/plain": [
       "1    5749\n",
       "0    5624\n",
       "Name: class, dtype: int64"
      ]
     },
     "execution_count": 7,
     "metadata": {},
     "output_type": "execute_result"
    }
   ],
   "source": [
    "y_test.value_counts()"
   ]
  },
  {
   "cell_type": "markdown",
   "id": "c4dae4a3",
   "metadata": {},
   "source": [
    "# Machine Learning Algorithms"
   ]
  },
  {
   "cell_type": "markdown",
   "id": "19b1eb37",
   "metadata": {},
   "source": [
    "# 1- Naive Bayes Algorithm"
   ]
  },
  {
   "cell_type": "markdown",
   "id": "a955a763",
   "metadata": {},
   "source": [
    "A- Multinomial Naive Bayes algorthim"
   ]
  },
  {
   "cell_type": "code",
   "execution_count": 8,
   "id": "5aeaf628",
   "metadata": {},
   "outputs": [
    {
     "name": "stdout",
     "output_type": "stream",
     "text": [
      "Accuracy= 0.763\n",
      "Precision= 0.780\n",
      "Recall= 0.740\n",
      "F1= 0.760\n"
     ]
    }
   ],
   "source": [
    "mnb=MultinomialNB()\n",
    "mnb=mnb.fit(X_train, y_train)\n",
    "y_pred=mnb.predict(X_test)\n",
    "mnb_1=mnb.score(X_test, y_test)\n",
    "print('Accuracy= {:.3f}'.format(mnb.score(X_test, y_test)))\n",
    "print('Precision= {:.3f}'.format(round(precision_score(y_test, y_pred),2)))\n",
    "print('Recall= {:.3f}'.format(round(recall_score(y_test, y_pred),2)))\n",
    "print('F1= {:.3f}'.format(round(f1_score(y_test, y_pred),2)))\n",
    "scores.append(round(mnb_1, 3))"
   ]
  },
  {
   "cell_type": "markdown",
   "id": "5e51bdb0",
   "metadata": {},
   "source": [
    " "
   ]
  },
  {
   "cell_type": "markdown",
   "id": "3f5e7115",
   "metadata": {},
   "source": [
    "B- Gaussian Naive Bayes algorthim"
   ]
  },
  {
   "cell_type": "code",
   "execution_count": 9,
   "id": "e6221545",
   "metadata": {},
   "outputs": [
    {
     "name": "stdout",
     "output_type": "stream",
     "text": [
      "Accuracy= 0.734\n",
      "Precision= 0.840\n",
      "Recall= 0.590\n",
      "F1= 0.690\n"
     ]
    }
   ],
   "source": [
    "nb=GaussianNB()\n",
    "nb= nb.fit(X_train , y_train)\n",
    "y_pred = nb.predict(X_test)\n",
    "nb_1=nb.score(X_test, y_test)\n",
    "print('Accuracy= {:.3f}'.format(nb.score(X_test, y_test)))\n",
    "print('Precision= {:.3f}'.format(round(precision_score(y_test, y_pred),2)))\n",
    "print('Recall= {:.3f}'.format(round(recall_score(y_test, y_pred),2)))\n",
    "print('F1= {:.3f}'.format(round(f1_score(y_test, y_pred),2)))"
   ]
  },
  {
   "cell_type": "code",
   "execution_count": 10,
   "id": "2720b496",
   "metadata": {},
   "outputs": [
    {
     "data": {
      "text/plain": [
       "[0.763, 0.734]"
      ]
     },
     "execution_count": 10,
     "metadata": {},
     "output_type": "execute_result"
    }
   ],
   "source": [
    "scores.append(round(nb_1, 3))\n",
    "scores"
   ]
  },
  {
   "cell_type": "markdown",
   "id": "1e9c8756",
   "metadata": {},
   "source": [
    "# 2- Ridge Classifier"
   ]
  },
  {
   "cell_type": "code",
   "execution_count": 11,
   "id": "078774ba",
   "metadata": {},
   "outputs": [
    {
     "name": "stdout",
     "output_type": "stream",
     "text": [
      "Accuracy= 0.777\n",
      "Precision= 0.800\n",
      "Recall= 0.740\n",
      "F1= 0.770\n"
     ]
    }
   ],
   "source": [
    "RC= RidgeClassifier()\n",
    "RC= RC.fit(X_train , y_train)\n",
    "y_pred = RC.predict(X_test)\n",
    "rc_1=RC.score(X_test, y_test)\n",
    "print('Accuracy= {:.3f}'.format(RC.score(X_test, y_test)))\n",
    "print('Precision= {:.3f}'.format(round(precision_score(y_test, y_pred),2)))\n",
    "print('Recall= {:.3f}'.format(round(recall_score(y_test, y_pred),2)))\n",
    "print('F1= {:.3f}'.format(round(f1_score(y_test, y_pred),2)))"
   ]
  },
  {
   "cell_type": "code",
   "execution_count": 12,
   "id": "83fcbc1d",
   "metadata": {},
   "outputs": [
    {
     "data": {
      "text/plain": [
       "[0.763, 0.734, 0.777]"
      ]
     },
     "execution_count": 12,
     "metadata": {},
     "output_type": "execute_result"
    }
   ],
   "source": [
    "scores.append(round(rc_1, 3))\n",
    "scores"
   ]
  },
  {
   "cell_type": "markdown",
   "id": "7cecd697",
   "metadata": {},
   "source": [
    " "
   ]
  },
  {
   "cell_type": "markdown",
   "id": "999a61c2",
   "metadata": {},
   "source": [
    "# 3- LogisticRegression Algorithm"
   ]
  },
  {
   "cell_type": "markdown",
   "id": "cd4f7a4f",
   "metadata": {},
   "source": [
    "Using C=1 which is regularization and it is applying a penalty to increasing the magnitude of parameter values in order to reduce overfitting."
   ]
  },
  {
   "cell_type": "code",
   "execution_count": 13,
   "id": "8ee223cd",
   "metadata": {},
   "outputs": [
    {
     "name": "stdout",
     "output_type": "stream",
     "text": [
      "Accuracy= 0.781\n",
      "Precision= 0.810\n",
      "Recall= 0.730\n",
      "F1= 0.770\n"
     ]
    }
   ],
   "source": [
    "LR= LogisticRegression(penalty = 'l2', C = 1)\n",
    "LR= LR.fit(X_train , y_train)\n",
    "y_pred = LR.predict(X_test)\n",
    "lr_1=LR.score(X_test, y_test)\n",
    "print('Accuracy= {:.3f}'.format(LR.score(X_test, y_test)))\n",
    "print('Precision= {:.3f}'.format(round(precision_score(y_test, y_pred),2)))\n",
    "print('Recall= {:.3f}'.format(round(recall_score(y_test, y_pred),2)))\n",
    "print('F1= {:.3f}'.format(round(f1_score(y_test, y_pred),2)))"
   ]
  },
  {
   "cell_type": "code",
   "execution_count": 117,
   "id": "1cbeba1c",
   "metadata": {},
   "outputs": [
    {
     "data": {
      "text/plain": [
       "[0.763, 0.734, 0.777, 0.781]"
      ]
     },
     "execution_count": 117,
     "metadata": {},
     "output_type": "execute_result"
    }
   ],
   "source": [
    "scores.append(round(lr_1, 3))\n",
    "scores"
   ]
  },
  {
   "cell_type": "code",
   "execution_count": 22,
   "id": "9fc7c4c1",
   "metadata": {},
   "outputs": [
    {
     "data": {
      "text/plain": [
       "(4664, 960, 1527, 4222)"
      ]
     },
     "execution_count": 22,
     "metadata": {},
     "output_type": "execute_result"
    }
   ],
   "source": [
    "tn, fp, fn, tp = confusion_matrix(y_test, y_pred).ravel()\n",
    "tn, fp, fn, tp"
   ]
  },
  {
   "cell_type": "code",
   "execution_count": 47,
   "id": "b2aca038",
   "metadata": {},
   "outputs": [
    {
     "data": {
      "image/png": "[encoded data removed]",
      "text/plain": [
       "<Figure size 360x360 with 2 Axes>"
      ]
     },
     "metadata": {},
     "output_type": "display_data"
    }
   ],
   "source": [
    "# cm = confusion_matrix(y_test, y_pred)\n",
    "# cm_df = pd.DataFrame(cm, index = [f'class{i}' for i in LR.class], columns = [f'class{i}' for i in LR.class])\n",
    "# cm_df = cm_df/cm_df[cm_df.columns].sum()\n",
    "# cm_df[cm_df == 0] = np.nan\n",
    "fig, ax = plt.subplots(1, figsize = (5,5))\n",
    "hm=sns.color_palette(\"Blues\", as_cmap=True)\n",
    "sns.heatmap([[tn, fp], [fn, tp]], annot=True,fmt=\"d\", cmap=hm)\n",
    "ax.set_title('Applying Logistic Regression Algorthim', fontsize=18)\n",
    "ax.set_xlabel('Predicted', fontsize=14, color='black')\n",
    "ax.set_ylabel('Actual', fontsize=14, color='black');"
   ]
  },
  {
   "cell_type": "markdown",
   "id": "d7821d9d",
   "metadata": {},
   "source": [
    "# 4- Random Foreset Algorthim"
   ]
  },
  {
   "cell_type": "code",
   "execution_count": 118,
   "id": "ad97efcb",
   "metadata": {},
   "outputs": [
    {
     "name": "stdout",
     "output_type": "stream",
     "text": [
      "Accuracy= 0.664\n",
      "Precision= 0.790\n",
      "Recall= 0.460\n",
      "F1= 0.580\n"
     ]
    }
   ],
   "source": [
    "RF=RandomForestClassifier(max_depth=5, n_estimators=100)\n",
    "RF= RF.fit(X_train , y_train)\n",
    "y_pred = RF.predict(X_test)\n",
    "RF_1=RF.score(X_test, y_test)\n",
    "print('Accuracy= {:.3f}'.format(RF.score(X_test, y_test)))\n",
    "print('Precision= {:.3f}'.format(round(precision_score(y_test, y_pred),2)))\n",
    "print('Recall= {:.3f}'.format(round(recall_score(y_test, y_pred),2)))\n",
    "print('F1= {:.3f}'.format(round(f1_score(y_test, y_pred),2)))"
   ]
  },
  {
   "cell_type": "code",
   "execution_count": 119,
   "id": "377c52d5",
   "metadata": {},
   "outputs": [
    {
     "data": {
      "text/plain": [
       "[0.763, 0.734, 0.777, 0.781, 0.664]"
      ]
     },
     "execution_count": 119,
     "metadata": {},
     "output_type": "execute_result"
    }
   ],
   "source": [
    "scores.append(round(RF_1, 3))\n",
    "scores"
   ]
  },
  {
   "cell_type": "markdown",
   "id": "fe6c495f",
   "metadata": {},
   "source": [
    "# Deep Learning"
   ]
  },
  {
   "cell_type": "markdown",
   "id": "a3502cec",
   "metadata": {},
   "source": [
    "Multi layer perseptron"
   ]
  },
  {
   "cell_type": "code",
   "execution_count": 125,
   "id": "25d3e062",
   "metadata": {
    "scrolled": false
   },
   "outputs": [
    {
     "name": "stdout",
     "output_type": "stream",
     "text": [
      "Epoch 1/65\n",
      "711/711 [==============================] - 3s 3ms/step - loss: 0.6245 - accuracy: 0.6430 - val_loss: 0.4984 - val_accuracy: 0.7709\n",
      "Epoch 2/65\n",
      "711/711 [==============================] - 2s 2ms/step - loss: 0.5081 - accuracy: 0.7552 - val_loss: 0.4471 - val_accuracy: 0.7836\n",
      "Epoch 3/65\n",
      "711/711 [==============================] - 2s 2ms/step - loss: 0.4645 - accuracy: 0.7807 - val_loss: 0.4307 - val_accuracy: 0.7836\n",
      "Epoch 4/65\n",
      "711/711 [==============================] - 2s 2ms/step - loss: 0.4392 - accuracy: 0.7962 - val_loss: 0.4226 - val_accuracy: 0.7870\n",
      "Epoch 5/65\n",
      "711/711 [==============================] - 2s 3ms/step - loss: 0.4212 - accuracy: 0.8053 - val_loss: 0.4207 - val_accuracy: 0.7867\n",
      "Epoch 6/65\n",
      "711/711 [==============================] - 2s 3ms/step - loss: 0.4031 - accuracy: 0.8157 - val_loss: 0.4220 - val_accuracy: 0.7915\n",
      "Epoch 7/65\n",
      "711/711 [==============================] - 2s 3ms/step - loss: 0.3918 - accuracy: 0.8213 - val_loss: 0.4308 - val_accuracy: 0.7921\n",
      "Epoch 8/65\n",
      "711/711 [==============================] - 2s 3ms/step - loss: 0.3790 - accuracy: 0.8285 - val_loss: 0.4338 - val_accuracy: 0.7939\n"
     ]
    }
   ],
   "source": [
    "# first neural network with keras tutorial\n",
    "\n",
    "# define the keras model\n",
    "\n",
    "model = Sequential()\n",
    "model.add(Dense(16, input_dim=10000, activation='relu'))\n",
    "model.add(Dropout(0.6))\n",
    "model.add(Dense(8, activation='relu'))\n",
    "model.add(Dropout(0.6))\n",
    "model.add(Dense(1, activation='sigmoid'))\n",
    "# compile the keras model\n",
    "model.compile(loss='binary_crossentropy', optimizer='adam', metrics=['accuracy'])\n",
    "#using early stop\n",
    "es_callback = EarlyStopping(monitor='val_loss', patience=3)\n",
    "# fit the keras model on the dataset\n",
    "history=model.fit(X_train, y_train, callbacks=[es_callback], validation_data=(X_test, y_test), epochs=65, batch_size=64)\n"
   ]
  },
  {
   "cell_type": "code",
   "execution_count": null,
   "id": "9d9a578f",
   "metadata": {},
   "outputs": [],
   "source": []
  },
  {
   "cell_type": "code",
   "execution_count": 126,
   "id": "c64ac819",
   "metadata": {
    "scrolled": false
   },
   "outputs": [
    {
     "name": "stdout",
     "output_type": "stream",
     "text": [
      "Model: \"sequential\"\n",
      "_________________________________________________________________\n",
      "Layer (type)                 Output Shape              Param #   \n",
      "=================================================================\n",
      "dense (Dense)                (None, 16)                160016    \n",
      "_________________________________________________________________\n",
      "dropout (Dropout)            (None, 16)                0         \n",
      "_________________________________________________________________\n",
      "dense_1 (Dense)              (None, 8)                 136       \n",
      "_________________________________________________________________\n",
      "dropout_1 (Dropout)          (None, 8)                 0         \n",
      "_________________________________________________________________\n",
      "dense_2 (Dense)              (None, 1)                 9         \n",
      "=================================================================\n",
      "Total params: 160,161\n",
      "Trainable params: 160,161\n",
      "Non-trainable params: 0\n",
      "_________________________________________________________________\n"
     ]
    }
   ],
   "source": [
    "model.summary()"
   ]
  },
  {
   "cell_type": "code",
   "execution_count": 155,
   "id": "e2463806",
   "metadata": {},
   "outputs": [
    {
     "name": "stdout",
     "output_type": "stream",
     "text": [
      "dict_keys(['loss', 'accuracy', 'val_loss', 'val_accuracy'])\n"
     ]
    },
    {
     "data": {
      "image/png": "[encoded data removed]",
      "text/plain": [
       "<Figure size 432x288 with 1 Axes>"
      ]
     },
     "metadata": {},
     "output_type": "display_data"
    },
    {
     "data": {
      "image/png": "[encoded data removed]",
      "text/plain": [
       "<Figure size 432x288 with 1 Axes>"
      ]
     },
     "metadata": {},
     "output_type": "display_data"
    },
    {
     "data": {
      "text/plain": [
       "<Figure size 432x288 with 0 Axes>"
      ]
     },
     "metadata": {},
     "output_type": "display_data"
    }
   ],
   "source": [
    "# Fit the model\n",
    "# history = model.fit(X_train, y_train, validation_split=0.33, epochs=25, batch_size=10, verbose=0)\n",
    "# list all data in history\n",
    "print(history.history.keys())\n",
    "# summarize history for accuracy\n",
    "plt.plot(history.history['accuracy'])\n",
    "plt.plot(history.history['val_accuracy'])\n",
    "plt.title('model accuracy')\n",
    "plt.ylabel('accuracy')\n",
    "plt.xlabel('epoch')\n",
    "plt.legend(['train', 'test'], loc='upper left')\n",
    "fig1 = plt.gcf()\n",
    "plt.tight_layout()\n",
    "plt.show()\n",
    "plt.draw()\n",
    "fig1.savefig('image/model_accuracy.jpg')\n",
    "# summarize history for loss\n",
    "plt.plot(history.history['loss'])\n",
    "plt.plot(history.history['val_loss'])\n",
    "plt.title('model loss')\n",
    "plt.ylabel('loss')\n",
    "plt.xlabel('epoch')\n",
    "plt.legend(['train', 'test'], loc='upper left')\n",
    "fig2= plt.gcf()\n",
    "plt.tight_layout()\n",
    "plt.show()\n",
    "plt.draw()\n",
    "fig2.savefig('image/model_loss.jpg')"
   ]
  },
  {
   "cell_type": "code",
   "execution_count": 130,
   "id": "2d5f8123",
   "metadata": {},
   "outputs": [
    {
     "name": "stdout",
     "output_type": "stream",
     "text": [
      "356/356 [==============================] - 0s 1ms/step - loss: 0.4338 - accuracy: 0.7939\n"
     ]
    },
    {
     "data": {
      "text/plain": [
       "0.794"
      ]
     },
     "execution_count": 130,
     "metadata": {},
     "output_type": "execute_result"
    }
   ],
   "source": [
    "# evaluate\n",
    "acc = model.evaluate(X_test, y_test)\n",
    "scores.append(round(acc[1],3))\n",
    "round(acc[1],3)"
   ]
  },
  {
   "cell_type": "markdown",
   "id": "f2cf3e9a",
   "metadata": {},
   "source": [
    "# Algorithms Results comparison"
   ]
  },
  {
   "cell_type": "code",
   "execution_count": 131,
   "id": "e474bfca",
   "metadata": {},
   "outputs": [
    {
     "name": "stdout",
     "output_type": "stream",
     "text": [
      "\n",
      "\n",
      "Comparison of all algorithms on Accuracy\n",
      "+-----------------------------------+----------+\n",
      "|               Model               | Accuracy |\n",
      "+-----------------------------------+----------+\n",
      "| Multinomail Naive Bayes Algorithm |  0.763   |\n",
      "|       Naive Bayes Algorithm       |  0.734   |\n",
      "|     Ridge Classifier Algorithm    |  0.777   |\n",
      "|   Logistic Regression Algorithm   |  0.781   |\n",
      "|      Random Forest Algorithm      |  0.664   |\n",
      "|       Multilayer Perseptrone      |  0.794   |\n",
      "+-----------------------------------+----------+\n",
      "\n",
      "\n"
     ]
    }
   ],
   "source": [
    "x = PrettyTable()\n",
    "print('\\n')\n",
    "print(\"Comparison of all algorithms on Accuracy\")\n",
    "x.field_names = [\"Model\", \"Accuracy\"]\n",
    "\n",
    "x.add_row([\"Multinomail Naive Bayes Algorithm\", round(mnb_1,3)])\n",
    "x.add_row([\"Naive Bayes Algorithm\", round(nb_1,3)])\n",
    "x.add_row([\"Ridge Classifier Algorithm\",  round(rc_1,3)])\n",
    "x.add_row([\"Logistic Regression Algorithm\", round(lr_1,3)])\n",
    "x.add_row([\"Random Forest Algorithm\", round(RF_1,3)])\n",
    "x.add_row([\"Multilayer Perseptrone\", round(acc[1],3)])\n",
    "\n",
    "print(x)\n",
    "print('\\n')"
   ]
  },
  {
   "cell_type": "markdown",
   "id": "56f046b3",
   "metadata": {},
   "source": [
    "# Plot the caomparision between models scores"
   ]
  },
  {
   "cell_type": "code",
   "execution_count": 132,
   "id": "7618bb06",
   "metadata": {},
   "outputs": [
    {
     "data": {
      "text/html": [
       "<div>\n",
       "<style scoped>\n",
       "    .dataframe tbody tr th:only-of-type {\n",
       "        vertical-align: middle;\n",
       "    }\n",
       "\n",
       "    .dataframe tbody tr th {\n",
       "        vertical-align: top;\n",
       "    }\n",
       "\n",
       "    .dataframe thead th {\n",
       "        text-align: right;\n",
       "    }\n",
       "</style>\n",
       "<table border=\"1\" class=\"dataframe\">\n",
       "  <thead>\n",
       "    <tr style=\"text-align: right;\">\n",
       "      <th></th>\n",
       "      <th>Name</th>\n",
       "      <th>accuracy</th>\n",
       "    </tr>\n",
       "  </thead>\n",
       "  <tbody>\n",
       "    <tr>\n",
       "      <th>0</th>\n",
       "      <td>Multinomial_NB</td>\n",
       "      <td>0.763</td>\n",
       "    </tr>\n",
       "    <tr>\n",
       "      <th>1</th>\n",
       "      <td>Gaussian_Process</td>\n",
       "      <td>0.734</td>\n",
       "    </tr>\n",
       "    <tr>\n",
       "      <th>2</th>\n",
       "      <td>Ridge_classifier</td>\n",
       "      <td>0.777</td>\n",
       "    </tr>\n",
       "    <tr>\n",
       "      <th>3</th>\n",
       "      <td>logstic_regression</td>\n",
       "      <td>0.781</td>\n",
       "    </tr>\n",
       "    <tr>\n",
       "      <th>4</th>\n",
       "      <td>Random_Forest</td>\n",
       "      <td>0.664</td>\n",
       "    </tr>\n",
       "    <tr>\n",
       "      <th>5</th>\n",
       "      <td>Multi_layer_perseptron</td>\n",
       "      <td>0.794</td>\n",
       "    </tr>\n",
       "  </tbody>\n",
       "</table>\n",
       "</div>"
      ],
      "text/plain": [
       "                     Name  accuracy\n",
       "0          Multinomial_NB     0.763\n",
       "1        Gaussian_Process     0.734\n",
       "2        Ridge_classifier     0.777\n",
       "3      logstic_regression     0.781\n",
       "4           Random_Forest     0.664\n",
       "5  Multi_layer_perseptron     0.794"
      ]
     },
     "execution_count": 132,
     "metadata": {},
     "output_type": "execute_result"
    }
   ],
   "source": [
    "names = [\"Multinomial_NB\", \"Gaussian_Process\", \"Ridge_classifier\", \"logstic_regression\",\n",
    "         \"Random_Forest\",\"Multi_layer_perseptron\"]\n",
    "df = pd.DataFrame(list(zip(names,scores)),\n",
    "               columns =['Name', 'accuracy'])\n",
    "df\n",
    "\n"
   ]
  },
  {
   "cell_type": "code",
   "execution_count": 133,
   "id": "e555d5f5",
   "metadata": {},
   "outputs": [
    {
     "data": {
      "text/html": [
       "<style  type=\"text/css\" >\n",
       "#T_188d1_row0_col1{\n",
       "            background-color:  #389b38;\n",
       "            color:  #000000;\n",
       "        }#T_188d1_row1_col1{\n",
       "            background-color:  #6db56d;\n",
       "            color:  #000000;\n",
       "        }#T_188d1_row2_col1{\n",
       "            background-color:  #1e8f1e;\n",
       "            color:  #000000;\n",
       "        }#T_188d1_row3_col1{\n",
       "            background-color:  #178b17;\n",
       "            color:  #000000;\n",
       "        }#T_188d1_row4_col1{\n",
       "            background-color:  #ebf3eb;\n",
       "            color:  #000000;\n",
       "        }#T_188d1_row5_col1{\n",
       "            background-color:  #008000;\n",
       "            color:  #f1f1f1;\n",
       "        }</style><table id=\"T_188d1_\" ><thead>    <tr>        <th class=\"blank level0\" ></th>        <th class=\"col_heading level0 col0\" >Name</th>        <th class=\"col_heading level0 col1\" >accuracy</th>    </tr></thead><tbody>\n",
       "                <tr>\n",
       "                        <th id=\"T_188d1_level0_row0\" class=\"row_heading level0 row0\" >0</th>\n",
       "                        <td id=\"T_188d1_row0_col0\" class=\"data row0 col0\" >Multinomial_NB</td>\n",
       "                        <td id=\"T_188d1_row0_col1\" class=\"data row0 col1\" >0.763000</td>\n",
       "            </tr>\n",
       "            <tr>\n",
       "                        <th id=\"T_188d1_level0_row1\" class=\"row_heading level0 row1\" >1</th>\n",
       "                        <td id=\"T_188d1_row1_col0\" class=\"data row1 col0\" >Gaussian_Process</td>\n",
       "                        <td id=\"T_188d1_row1_col1\" class=\"data row1 col1\" >0.734000</td>\n",
       "            </tr>\n",
       "            <tr>\n",
       "                        <th id=\"T_188d1_level0_row2\" class=\"row_heading level0 row2\" >2</th>\n",
       "                        <td id=\"T_188d1_row2_col0\" class=\"data row2 col0\" >Ridge_classifier</td>\n",
       "                        <td id=\"T_188d1_row2_col1\" class=\"data row2 col1\" >0.777000</td>\n",
       "            </tr>\n",
       "            <tr>\n",
       "                        <th id=\"T_188d1_level0_row3\" class=\"row_heading level0 row3\" >3</th>\n",
       "                        <td id=\"T_188d1_row3_col0\" class=\"data row3 col0\" >logstic_regression</td>\n",
       "                        <td id=\"T_188d1_row3_col1\" class=\"data row3 col1\" >0.781000</td>\n",
       "            </tr>\n",
       "            <tr>\n",
       "                        <th id=\"T_188d1_level0_row4\" class=\"row_heading level0 row4\" >4</th>\n",
       "                        <td id=\"T_188d1_row4_col0\" class=\"data row4 col0\" >Random_Forest</td>\n",
       "                        <td id=\"T_188d1_row4_col1\" class=\"data row4 col1\" >0.664000</td>\n",
       "            </tr>\n",
       "            <tr>\n",
       "                        <th id=\"T_188d1_level0_row5\" class=\"row_heading level0 row5\" >5</th>\n",
       "                        <td id=\"T_188d1_row5_col0\" class=\"data row5 col0\" >Multi_layer_perseptron</td>\n",
       "                        <td id=\"T_188d1_row5_col1\" class=\"data row5 col1\" >0.794000</td>\n",
       "            </tr>\n",
       "    </tbody></table>"
      ],
      "text/plain": [
       "<pandas.io.formats.style.Styler at 0x7fa6ce22e450>"
      ]
     },
     "execution_count": 133,
     "metadata": {},
     "output_type": "execute_result"
    }
   ],
   "source": [
    "cm = sns.light_palette(\"green\", as_cmap=True)\n",
    "s = df.style.background_gradient(cmap=cm)\n",
    "s"
   ]
  },
  {
   "cell_type": "code",
   "execution_count": 154,
   "id": "0f1fd2e4",
   "metadata": {},
   "outputs": [
    {
     "data": {
      "image/png": "[encoded data removed]",
      "text/plain": [
       "<Figure size 720x288 with 1 Axes>"
      ]
     },
     "metadata": {},
     "output_type": "display_data"
    },
    {
     "data": {
      "text/plain": [
       "<Figure size 432x288 with 0 Axes>"
      ]
     },
     "metadata": {},
     "output_type": "display_data"
    }
   ],
   "source": [
    "fig, ax=plt.subplots(figsize=(10,4))\n",
    "# sns.set(style=\"whitegrid\", color='blue')\n",
    "ax = sns.barplot(y=\"Name\", x=\"accuracy\", data=df, color='#1da1f2ff', palette=[\"#1da1f2ff\" if x!='Multi_layer_perseptron' else 'gray' for x in df.Name])\n",
    "plt.title('Caomparision between models scores', color='black')\n",
    "plt.xlabel('Algorthim name', color='black')\n",
    "plt.ylabel('Accuracy score', color='black')\n",
    "fig1 = plt.gcf()\n",
    "plt.tight_layout()\n",
    "plt.show()\n",
    "plt.draw()\n",
    "fig1.savefig('image/model_comparision.jpg');"
   ]
  },
  {
   "cell_type": "code",
   "execution_count": 41,
   "id": "27f7ee45",
   "metadata": {},
   "outputs": [
    {
     "data": {
      "text/plain": [
       "LogisticRegression()"
      ]
     },
     "execution_count": 41,
     "metadata": {},
     "output_type": "execute_result"
    }
   ],
   "source": [
    "RC =LogisticRegression(penalty = 'l2')\n",
    "RC.fit(X_train,y_train)"
   ]
  },
  {
   "cell_type": "code",
   "execution_count": 121,
   "id": "56181f23",
   "metadata": {},
   "outputs": [],
   "source": [
    "twt=['اشتقت ل حديثك ، و كأني لم احادثك منذ سنين 💔']"
   ]
  },
  {
   "cell_type": "code",
   "execution_count": 122,
   "id": "dba61148",
   "metadata": {},
   "outputs": [],
   "source": [
    "x = word_vectorizer.transform(twt)"
   ]
  },
  {
   "cell_type": "code",
   "execution_count": 123,
   "id": "29f0996e",
   "metadata": {},
   "outputs": [
    {
     "name": "stdout",
     "output_type": "stream",
     "text": [
      "negative\n"
     ]
    },
    {
     "data": {
      "text/plain": [
       "array([0])"
      ]
     },
     "execution_count": 123,
     "metadata": {},
     "output_type": "execute_result"
    }
   ],
   "source": [
    "pred=RC.predict(x)\n",
    "# pred=pro.inverse_transform(pred)\n",
    "# prediction=pd.DataFrame(pred, columns=['Prediction']) \n",
    "if pred >= 1:\n",
    "    print('positive')\n",
    "else:\n",
    "    print('negative')\n",
    "\n",
    "pred"
   ]
  },
  {
   "cell_type": "markdown",
   "id": "82823705",
   "metadata": {},
   "source": [
    "# Using the model to predict the class of new tweets"
   ]
  },
  {
   "cell_type": "code",
   "execution_count": 58,
   "id": "20a7240b",
   "metadata": {},
   "outputs": [],
   "source": [
    "twt=['بعد كل الحب وعشرة السنين انفصلو وتركو بعض وانتهى حبهم']\n",
    "x = word_vectorizer.transform(twt)"
   ]
  },
  {
   "cell_type": "code",
   "execution_count": 59,
   "id": "86692111",
   "metadata": {},
   "outputs": [
    {
     "name": "stdout",
     "output_type": "stream",
     "text": [
      "negative\n"
     ]
    },
    {
     "data": {
      "text/plain": [
       "array([[0.4965489]], dtype=float32)"
      ]
     },
     "execution_count": 59,
     "metadata": {},
     "output_type": "execute_result"
    }
   ],
   "source": [
    "x.sort_indices()\n",
    "pred=model.predict(x)\n",
    "if pred >= 0.5:\n",
    "    print('positive')\n",
    "else:\n",
    "    print('negative')\n",
    "\n",
    "pred"
   ]
  },
  {
   "cell_type": "code",
   "execution_count": null,
   "id": "1f21e6e7",
   "metadata": {},
   "outputs": [],
   "source": []
  },
  {
   "cell_type": "code",
   "execution_count": null,
   "id": "5ea85c59",
   "metadata": {},
   "outputs": [],
   "source": []
  },
  {
   "cell_type": "code",
   "execution_count": null,
   "id": "514930bd",
   "metadata": {},
   "outputs": [],
   "source": []
  },
  {
   "cell_type": "code",
   "execution_count": null,
   "id": "2ee0ed18",
   "metadata": {},
   "outputs": [],
   "source": []
  },
  {
   "cell_type": "code",
   "execution_count": null,
   "id": "d1d208b1",
   "metadata": {},
   "outputs": [],
   "source": []
  },
  {
   "cell_type": "code",
   "execution_count": null,
   "id": "3665041e",
   "metadata": {},
   "outputs": [],
   "source": []
  },
  {
   "cell_type": "code",
   "execution_count": null,
   "id": "1c5c2069",
   "metadata": {},
   "outputs": [],
   "source": []
  },
  {
   "cell_type": "code",
   "execution_count": null,
   "id": "d9a7b38f",
   "metadata": {},
   "outputs": [],
   "source": []
  },
  {
   "cell_type": "code",
   "execution_count": null,
   "id": "e93b531b",
   "metadata": {},
   "outputs": [],
   "source": []
  }
 ],
 "metadata": {
  "kernelspec": {
   "display_name": "Python 3",
   "language": "python",
   "name": "python3"
  },
  "language_info": {
   "codemirror_mode": {
    "name": "ipython",
    "version": 3
   },
   "file_extension": ".py",
   "mimetype": "text/x-python",
   "name": "python",
   "nbconvert_exporter": "python",
   "pygments_lexer": "ipython3",
   "version": "3.7.10"
  }
 },
 "nbformat": 4,
 "nbformat_minor": 5
}
